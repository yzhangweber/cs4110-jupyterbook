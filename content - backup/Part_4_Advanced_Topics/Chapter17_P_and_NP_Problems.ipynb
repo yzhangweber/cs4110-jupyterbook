{
 "cells": [
  {
   "cell_type": "markdown",
   "metadata": {
    "id": "LmVGqzOXotQW"
   },
   "source": [
    "# P and NP Problems"
   ]
  },
  {
   "cell_type": "markdown",
   "metadata": {
    "id": "xB6iBrGeo6JO"
   },
   "source": [
    "## Learning Objectives\n",
    "After completing this chapter, you will be able to:\n",
    "\n",
    "* Understand the mathematical concept of a graph consisting of a set of nodes and edges.\n",
    "* Understand what is meant by a problem that is solvable in *polynomial time*, a.k.a. in *P*.\n",
    "* Understand what it means for a problem to be solvable in *nondeterministic polynomial time*, a.k.a. in *NP*."
   ]
  },
  {
   "cell_type": "markdown",
   "metadata": {
    "id": "uDUK2a2vpX48"
   },
   "source": [
    "## 1. Graphs"
   ]
  },
  {
   "cell_type": "markdown",
   "metadata": {
    "id": "6CJTt-sMIM3L"
   },
   "source": [
    "*Graph* is a word that might be overused in mathematics, in that it is used to describe multiple distinct ideas. But, unfortunately, natural language can be like that.\n",
    "\n",
    "You've likely seen the term *graph* used primarily to describe a visualization of the relation between the input and the output of a function. For example, the graph of the function\n",
    "\n",
    "<center>\n",
    "  $f(x) = x^{2} - 3x + 2$\n",
    "</center>\n",
    "\n",
    "looks like\n",
    "\n",
    "<center>\n",
    "  <img src=\"https://drive.google.com/uc?export=view&id=16uzALIpKTYY9GSpJ5XagFT7NwCOoRQdB\" height = \"400\" alt=\"Quadratic Graph\">\n",
    "</center>\n",
    "\n",
    "However, the term *graph* is also used for a mathematical structure used to represents objects and their connections. This type of graph consists of objects called *vertices* or sometimes *nodes*, and connections between these vertices called *edges*. Stated more formally\n",
    "\n",
    "**Definition** - A *graph* is a pair $(V,E)$ where $V$ is a set whose elements are called *vertices*, and $E$ is a set of unordered pairs $\\{v_{i},v_{j}\\}$ of vertices whose elements are called *edges*.\n",
    "\n",
    "It's possible to also have graphs where the edges are ordered, so an edge \"points\" from one vertex to another. These are called *directed graphs*. It's also possible to have graphs where there can be more than one edge between two vertices, and these are called *multigraphs*. Sometimes the edges are assigned numbers, and these are called *weighted graphs*. For the purposes of this section we won't deal with any of these.\n",
    "\n",
    "Graphs are frequently displayed as a collection of dots (the vertices) and lines between them (the edges). For example, the graph below has three vertices, and an edge connecting each pair.\n",
    "\n",
    "<center>\n",
    "  <img src=\"https://drive.google.com/uc?export=view&id=1BMPuSziGGrIB0M5crpq5Xu2ndLLHzaaU\" height = \"400\" alt=\"Complete Graph K3\">\n",
    "</center>\n",
    "\n",
    "This is called the complete graph on three vertices, and is sometimes written $K_{3}$. If we label the vertices $v_{1}, v_{2}, v_{3}$ then we could specify the graph as:\n",
    "\n",
    "<center>\n",
    "  $V = \\{v_{1},v_{2},v_{3}\\}$\n",
    "\n",
    "  $E = \\{\\{v_{1},v_{2}\\}, \\{v_{1},v_{3}\\}, \\{v_{2},v_{3}\\}\\}$\n",
    "</center>\n",
    "\n",
    "*Example* - The graph represented by the image\n",
    "\n",
    "<center>\n",
    "  <img src=\"https://drive.google.com/uc?export=view&id=15Q7a4yvMuTLwO4IvdAxGBD3C-diG95mr\" height = \"400\" alt=\"Complete Bipartite Graph K3-4\">\n",
    "</center>\n",
    "\n",
    "has the set of vertices\n",
    "\n",
    "<center>\n",
    "  $V = \\{u_{1}, u_{2}, u_{3}, v_{1}, v_{2}, v_{3}, v_{4}\\}$\n",
    "</center>\n",
    "\n",
    "and the set of edges\n",
    "\n",
    "<center>\n",
    "    $E = \\{\\{u_{1},v_{1}\\}, \\{u_{1},v_{2}\\}, \\{u_{1},v_{3}\\}, \\{u_{1},v_{4}\\}, \\{u_{2},v_{1}\\}, \\{u_{2},v_{2}\\}, \\{u_{2},v_{3}\\}, \\{u_{2},v_{4}\\}, \\{u_{3},v_{1}\\}, \\{u_{3},v_{2}\\}, \\{u_{3},v_{3}\\}, \\{u_{3},v_{4}\\}$\n",
    "</center>\n",
    "\n",
    "All the nodes at the \"top\" of this graph are connected to the nodes at the \"bottom\", but none of the nodes at the \"top\" are connected to any of the others at the \"top\", and same with the nodes at the \"bottom\". This is an example of a type of graph called a *complete bipartite graph*, and this particular one is called the complete bipartite graph on $(4,3)$ nodes, and abbreviated $K_{3,4}$.\n",
    "\n",
    "<br>\n",
    "\n",
    "The *degree* of a vertex is the number of edges connected to it. For example, in the graph $K_{3,4}$ above the degree of $u_{2}$ is $4$, while the degree of $v_{1}$ is $3$.\n",
    "\n",
    "<br>\n",
    "\n",
    "A *path* in a graph is a sequence of nodes where there is an edge between any node and the next one in the sequence. For example, the sequence:\n",
    "\n",
    "<center>\n",
    "  $v_{1} \\rightarrow u_{2} \\rightarrow v_{4} \\rightarrow u_{3}$\n",
    "</center>\n",
    "\n",
    "would be a path in $K_{3,4}$ above, but the sequence:\n",
    "\n",
    "<center>\n",
    "  $v_{1} \\rightarrow u_{2} \\rightarrow u_{3} \\rightarrow v_{4}$\n",
    "</center>\n",
    "\n",
    "would not be, as there is no edge connecting $u_{2}$ and $u_{3}$. A path that begins and ends on the same vertex is called a *circuit*.\n",
    "\n",
    "We say two nodes are *connected* if there is a path in the graph that starts at one and ends at the other. A graph is *connected* if every pair of nodes within the graph are connected. Both of the graphs $K_{3}$ and $K_{3,4}$ above are connected. The graph below would not be, as there is no path from the node labeled $0$ to any of the other nodes. Note the labels of each node indicate that node's degree.\n",
    "\n",
    "<center>\n",
    "  <img src=\"https://drive.google.com/uc?export=view&id=1HO0YKIBaha64J0NyErgrXrF70TJdMUPX\" height = \"400\" alt=\"Disconnected Graph\">\n",
    "</center>"
   ]
  },
  {
   "cell_type": "markdown",
   "metadata": {
    "id": "6k7gQxO7NvrP"
   },
   "source": [
    "## 2. The K&ouml;nigsberg Bridge Problem"
   ]
  },
  {
   "cell_type": "markdown",
   "metadata": {
    "id": "TWSRScyzNzi_"
   },
   "source": [
    "In the 18th century the city of K&ouml;nigsberg in Prussia (now Kaliningrad, Russia) was set on both sides of the Pregel River, and included two large islands—Kneiphof and Lomse—which were connected to each other, and to the two mainland portions of the city, by seven bridges.\n",
    "\n",
    "<center>\n",
    "  <img src=\"https://drive.google.com/uc?export=view&id=1Of3u4g4lImG7xvCnAkoCPz7RTFmG7dCE\" height = \"300\" alt=\"The Bridges of Konigsberg\">\n",
    "</center>\n",
    "\n",
    "The K&ouml;nigsberg bridge problem was whether it was possible to devise a walk through the city that crossed each bridge only once. Many people played around with this problem and nobody was able to find a solution.\n",
    "\n",
    "In 1736 the great mathematician Leonhard Euler published a mathematical proof that the problem was, in fact, impossible to solve. He did this by first formulating the problem as a question about a graph, where the nodes of the graph were the land masses of K&ouml;nigsberg, and the edges were the bridges.\n",
    "\n",
    "<center>\n",
    "  <img src=\"https://drive.google.com/uc?export=view&id=1kwwgiQCFLHmQxTcDbDk8-LSa7GJhuxSk\" height = \"200\" alt=\"Konigsberg as Graph\">\n",
    "</center>\n",
    "\n",
    "The problem then became whether it was possible to find a path in the graph that traversed each edge exactly once. Euler proved that for any connected graph this is possible if and only if no more than two vertices have an odd degree. Such a traversal is now called an *Euler path*, and if the path begins and ends on the same vertex, it is called an *Euler circuit*.\n",
    "\n",
    "**Theorem** - For any connected graph\n",
    "\n",
    "* An Euler path exists if no more than two nodes have an odd degree.\n",
    "\n",
    "* An Euler circuit exists if no nodes have an odd degree, a.k.a. every nodes has an even degree.\n",
    "\n",
    "For the graph corresponding with the bridges of K&ouml;nigsberg, all four nodes have an odd number of incident edges, and so no Euler circuit or Euler path exists."
   ]
  },
  {
   "cell_type": "markdown",
   "metadata": {
    "id": "LaB0tgobx1LR"
   },
   "source": [
    "## 3. Polynomial Time (P) Complexity"
   ]
  },
  {
   "cell_type": "markdown",
   "metadata": {
    "id": "moddUovxx9sN"
   },
   "source": [
    "To create an algorithm to check whether a connected graph has an Euler circuit, we could try to list off all paths within the graph that don't traverse an edge more than once, and then check whether any of them traverse each edge. This is possible, and would work, but it would be a very inefficient way to do it.\n",
    "\n",
    "On the other hand, using the theorem above we could create a much more efficient algorithm for answering the question. If we had a connected graph represented by a set of vertices $V$ and a set of edges $E$ we could determine whether the graph contained an Euler circuit with an algorithm that:\n",
    "\n",
    "* Read in the vertices and created a list of these vertices where each element of the list had a corresponding count, with counts all initialized to $0$.\n",
    "* Read in the edges and for each edge incemented the count of both its vertices by $1$.\n",
    "* Checked whether all the vertices in the list had an even count.\n",
    "\n",
    "For example, for the graph $K_{3}$ above the algorithm would be given the vertices and edges as input:\n",
    "\n",
    "<center>\n",
    "  $V = \\{v_{1},v_{2},v_{3}\\}$\n",
    "\n",
    "  $E = \\{\\{v_{1},v_{2}\\}, \\{v_{1},v_{3}\\}, \\{v_{2},v_{3}\\}\\}$\n",
    "</center>\n",
    "\n",
    "It would then read in the list of vertices and created a list of these vertices with corresponding counts, all initialized to $0$:\n",
    "\n",
    "* $v_{1}: 0$\n",
    "* $v_{2}: 0$\n",
    "* $v_{3}: 0$\n",
    "\n",
    "It would then read the first edge in $E$, $\\{v_{1},v_{2}\\}$, and increment the counts for both $v_{1}$ and $v_{2}$ by $1$:\n",
    "\n",
    "* $v_{1}: 1$\n",
    "* $v_{2}: 1$\n",
    "* $v_{3}: 0$\n",
    "\n",
    "It would then continue this process for every edge in $E$ and at the end the list would be:\n",
    "\n",
    "* $v_{1}: 2$\n",
    "* $v_{2}: 2$\n",
    "* $v_{3}: 2$\n",
    "\n",
    "As the counts are all even, the algorithm would return that, *yes*, an Euler circuit exists. Note that it wouldn't explicitly find a circuit, but one examle for this graph would be $v_{1} \\rightarrow v_{2} \\rightarrow v_{3} \\rightarrow v_{1}$.\n",
    "\n",
    "How much time would this algorithm take to run? Well, it would need to create an element in the list for every vertex in the graph, and then it would need to read in every edge and increment the count for two vertices, it would then need to whether each count is even. The amount of time required for the first part would be a constant multiple of the number of vertices, for the second part a constant multiple of the number of edges, and for the third part a constant multiple of the number of vertices. We could express this as:\n",
    "\n",
    "<center>\n",
    "  $k_{1}|V| + k_{2}|E| + k_{3}|V| = (k_{1}+k_{2})|V| + k_{2}|E|$\n",
    "</center>\n",
    "\n",
    "So, the amount of time required for this algorithm would be linear (a degree one polynomial) in the number of vertices and the number of edges. We could say the complexity of the algorithm is *polynomial* (or, even stronger, *linear*) is the size (the number of vertices and number of edges) of the graph. This is an example of a polynomial time algorithm, and so we would say the complexity of the problem of determining whether a connected graph has an Euler circuit is in polynomial time, which we abbreviate as $P$."
   ]
  },
  {
   "cell_type": "markdown",
   "metadata": {
    "id": "U23HNjZ_MPV7"
   },
   "source": [
    "## 4. Nondeterministic Polynomial Time (NP) Complexity"
   ]
  },
  {
   "cell_type": "markdown",
   "metadata": {
    "id": "nKd0HjXTMegw"
   },
   "source": [
    "An Euler path is one that traverses every edge of the graph exactly once. A natural analog of this would be a path that visits every vertex of the graph exactly once. A path like this is called a Hamilton path, after the great 19th century British mathematician William Rowan Hamilton.\n",
    "\n",
    "More precisely, a *Hamilton path* in a graph is a path that contains each vertex of the graph exactly once. A *Hamilton circuit* is a circuit that contains each vertex of the graph exactly once except the first one in the path, which is also the last one.\n",
    "\n",
    "For example, the graph $K_{3}$ has a Hamilton circuit (which also happens to be an Euler circuit):\n",
    "\n",
    "<center>\n",
    "  $v_{1} \\rightarrow v_{2} \\rightarrow v_{3} \\rightarrow v_{1}$.\n",
    "</center>\n",
    "\n",
    "On the other hand, the graph $K_{3,4}$ has a Hamilton path, for example:\n",
    "\n",
    "<center>\n",
    "  $v_{1} \\rightarrow u_{1} \\rightarrow v_{2} \\rightarrow u_{2} \\rightarrow v_{3} \\rightarrow u_{3} \\rightarrow v_{4}$.\n",
    "</center>\n",
    "\n",
    "However, it does *not* contain a Hamilton circuit.\n",
    "\n",
    "You might hope a simple algorithm like the one above for Euler circuits exists for determining whether a connected graph contains a Hamilton circuit. Perhaps surprisingly, no such algorithm is known, and its *very* strong suspected (but not proven!) that no such algorithm exists. More precisely, there is no known algorithm that can check whether a connected graph contains a Hamilton circuit in an amount of time that is polynomial in the size (the number of vertices and edges) of the graph. The best general algorithms all must, essentially, just go through all the possible curcuits that don't repeat a vertex (except at the beginning and end) and check each one to see if it's a Hamilton circuit. This isn't very efficient, and the amount of time this takes is exponential in the size of the graph.\n",
    "\n",
    "Now, suppose instead of determining whether a graph contains a Hamilton circuit, you instead just want to check whether a given sequence of vertices is, indeed, a Hamilton circuit. In other words, you want to *verify* whether a proposed solution is correct. For example, suppose you have the graph $K_{5}$ (the complete graph on 5 vertices) below:\n",
    "\n",
    "<center>\n",
    "  <img src=\"https://drive.google.com/uc?export=view&id=1DCqqxEaeiaOrvJ5X1_5mXoaSF5rARrH6\" height = \"300\" alt=\"Complete Graph on 5 Vertices K5\">\n",
    "</center>\n",
    "\n",
    "and you're given the path:\n",
    "\n",
    "<center>\n",
    "  $v_{1} \\rightarrow v_{4} \\rightarrow v_{2} \\rightarrow v_{5} \\rightarrow v_{3} \\rightarrow v_{1}$.\n",
    "</center>\n",
    "\n",
    "How would you check whether this was a Hamilton path? Well, an algorithm for doing so might be to go through the sequence of vertices in the path, and confirm that every vertex in the graph is in the sequence, no vertex in the sequnce repeats (except at the start and end), and every arrow in the sequence corresponds with an edge in the graph. How long would this take? It would be a constant multiple of the length of the path, which would be one more than the number of vertices in the graph. In other words, the amount of time required to check whether a solution is correct would be a polynomial (linear) function of the size of the graph. So, even though we might not be able to always determine if a solution exists in a polynomial amount of time, we are able to *verify* whether a proposed solution is valid in a polynomial amount of time. Problems for which this is the case are in *nondeterministic polynomial time* (NP) complexity. Stated more formally, a problem is in NP if you can determine in a polynomial amount of time whether a solution exists if you are provided with a correct solution.\n",
    "\n",
    "Why do we call problems where a solution can be verified in a polynomial amount of time \"nondeterministic\" polynomial time? Well, the basic idea is that suppose we're using the \"brute force\" method of just listing out all the possible solutions and checking them one by one. As we list out possible solutions, we need to make choices. For example, suppose in the graph $K_{5}$ above we're trying to generate possible solutions, and we start on vertex $v_{1}$. Where do we go from there? We could go to $v_{2}$ or $v_{3}$ or $v_{4}$ or $v_{5}$. We need to *determine* the next step, and if we want to explore all the possibilities, we would need to do so *sequentially*. On the other hand, suppose we didn't need to determine the next step, and could explore all the possibilities *simultanously*. In this nondeterministic case we'd be able to list out all the possible paths much more quickly, and checking them all simultanously would only require a polynomial amount of time. In other words, if we could explore the set of possibilites nondeterministically (simultaneously) then we could determine whether a solution exists in a polynomial amount of time. If this is a bit confusing to you, don't worry about it, just remember than NP means a proposed solution can be verified in a polynomial amount of time."
   ]
  },
  {
   "cell_type": "markdown",
   "metadata": {
    "id": "TCPeiiCMdnhS"
   },
   "source": [
    "## 5. Practice Exercises"
   ]
  },
  {
   "cell_type": "markdown",
   "metadata": {
    "id": "ZD58Udz5dwkn"
   },
   "source": [
    "**Exercise 1**: Prove that the graph $K_{5}$ above has an Euler circuit and provide an example of such a circuit."
   ]
  },
  {
   "cell_type": "markdown",
   "metadata": {
    "id": "gCU1zCL7enXP"
   },
   "source": [
    "**Exercise 2**: Prove that any problem in $P$ must also be in $NP$."
   ]
  },
  {
   "cell_type": "markdown",
   "metadata": {
    "id": "_5ocYT0uetaG"
   },
   "source": [
    "**Exercise 3**: (Challenge) Suppose you're given a graph as a set of vertices $V$ and a set of edges $E$. You want to determine whether the graph is connected. Prove that the problem of determining whether a graph is connected is in $P$."
   ]
  },
  {
   "cell_type": "markdown",
   "metadata": {
    "id": "vZq_XfBpLNCm"
   },
   "source": [
    "## 6. Further Reading"
   ]
  },
  {
   "cell_type": "markdown",
   "metadata": {
    "id": "V6_A_1aLLQiL"
   },
   "source": [
    "* \"Introduction to the Theory of Computation\" (Third Edition) by Michael Sipser: *Sections 7.1-7.3 - Measuring Complexity, The Class P, The Class NP*\n",
    "* \"Automata Theory, Languages, and Computation\" (Third Edition) by John. E Hopcraft, Rajeev Matwani, and Jeffrey D. Ullman: *Section 10.1 - The Classes $P$ and $NP$*"
   ]
  }
 ],
 "metadata": {
  "colab": {
   "provenance": []
  },
  "kernelspec": {
   "display_name": "Python 3 (ipykernel)",
   "language": "python",
   "name": "python3"
  },
  "language_info": {
   "codemirror_mode": {
    "name": "ipython",
    "version": 3
   },
   "file_extension": ".py",
   "mimetype": "text/x-python",
   "name": "python",
   "nbconvert_exporter": "python",
   "pygments_lexer": "ipython3",
   "version": "3.13.6"
  }
 },
 "nbformat": 4,
 "nbformat_minor": 4
}
