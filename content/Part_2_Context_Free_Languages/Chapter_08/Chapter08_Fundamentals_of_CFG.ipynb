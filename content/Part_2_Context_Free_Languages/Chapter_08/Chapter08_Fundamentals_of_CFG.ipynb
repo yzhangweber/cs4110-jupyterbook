{
 "cells": [
  {
   "cell_type": "markdown",
   "metadata": {
    "editable": true,
    "slideshow": {
     "slide_type": ""
    },
    "tags": []
   },
   "source": [
    "# Fundamentals of Context-Free Grammar\n",
    "\n",
    "Context-Free Grammars (CFGs) are important in computer science and linguistics for defining language structure. Introduced by Noam Chomsky in the 1950s, they play a key role in programming languages, helping compilers check syntax and convert code into machine instructions. CFGs are also used in natural language processing (NLP) for grammar checking and language translation. Beyond that, they assist in bioinformatics by identifying patterns in DNA sequences and help structure documents in markup languages like XML and HTML. Their \"context-free\" nature means that rules apply independently of surrounding elements, making them both flexible and efficient for various applications.\n",
    "\n",
    "This section covers the fundamental concepts of Context-Free Grammar (CFG), including formal definitions, examples, derivations, and parse trees.\n"
   ]
  },
  {
   "cell_type": "markdown",
   "metadata": {},
   "source": [
    "## 1. Formal Definition of Context-Free Grammar\n",
    "\n",
    "A Context-Free Grammar G is formally defined as a 3-tuple $G = (V, \\Sigma, R)$ where:\n",
    "\n",
    "- V: A finite set of variables called non-terminals, including a special start symbol S ($S \\in N$)\n",
    "- An alphabet $\\Sigma$: A finite set of symbols called terminals\n",
    "- R: A finite set of production rules\n",
    "\n",
    "### 1.1 Key Properties:\n",
    "- Non-terminals are typically denoted by uppercase letters (A, B, C, ...). These are placeholder symbols that will be replaced using productions. You may think of them as \"categories\" or \"types\" of phrases in a language. For example, in a programming language, these might represent concepts like \"expression\", \"statement\", or \"function\".\n",
    "- Terminals ($\\Sigma$) are typically denoted by lowercase letters (a, b, c, ...). These are the actual symbols that appear in the final strings. In a programming language, these would be keywords, operators, and literals. For example: numbers, parentheses, operators like '+' and '/', keywords like 'if' and 'while', etc.\n",
    "- Production rules are of the form A $\\rightarrow$ $\\alpha$ where\n",
    "    - A is a single non-terminal\n",
    "    - $\\alpha$ is a string of non-terminals and terminals (including $\\wedge$ for empty string).\n",
    "    - These productions tell us how to replace non-terminals with combinations of non-terminals and terminals.\n",
    "    - They define the valid ways to generate strings in the language.\n",
    "    - Multiple production rules for the same variable are often written as A → $\\alpha_1$ | $\\alpha_2$ | $\\alpha_3$. The vertical bar | means \"or\": any of these productions can be used\n",
    "- The start symbol S must appear on the left side of at least one production rule. This is the non-terminal where we begin applying productions. Every valid string in the language must be derivable from this start symbol. You may think of it as the \"root\" or \"entry point\" of the grammar.\n",
    "- The \"context-free\" property means that a rule can be applied based only on the variable being replaced, without considering what surrounds it (its context). This makes CFGs powerful enough to define most programming language structures while still being easy to parse efficiently.\n",
    "\n",
    "### 1.2 Code Example:"
   ]
  },
  {
   "cell_type": "code",
   "execution_count": 1,
   "metadata": {
    "editable": true,
    "slideshow": {
     "slide_type": ""
    },
    "tags": []
   },
   "outputs": [
    {
     "name": "stdout",
     "output_type": "stream",
     "text": [
      "Grammar validation: Grammar is valid\n"
     ]
    }
   ],
   "source": [
    "# Example of implementing a simple CFG validator\n",
    "class CFG:\n",
    "    def __init__(self, variables, terminals, productions, start_symbol):\n",
    "        self.V = set(variables)\n",
    "        self.Σ = set(terminals)\n",
    "        self.R = productions\n",
    "        self.S = start_symbol\n",
    "        \n",
    "    def validate(self):\n",
    "        # Check if start symbol is in variables\n",
    "        if self.S not in self.V:\n",
    "            return False, \"Start symbol must be in variables\"\n",
    "            \n",
    "        # Check if all symbols in productions are valid\n",
    "        for left, rights in self.R.items():\n",
    "            if left not in self.V:\n",
    "                return False, f\"Left-hand side {left} must be a variable\"\n",
    "            \n",
    "            for right in rights:\n",
    "                for symbol in right:\n",
    "                    if symbol not in self.V and symbol not in self.Σ and symbol != '∧':\n",
    "                        return False, f\"Invalid symbol {symbol} in production\"\n",
    "                        \n",
    "        return True, \"Grammar is valid\"\n",
    "\n",
    "# Example usage\n",
    "balanced_parens = CFG(\n",
    "    variables={'S'},\n",
    "    terminals={'(', ')'},\n",
    "    productions={'S': ['(S)', 'SS', '∧']},\n",
    "    start_symbol='S'\n",
    ")\n",
    "\n",
    "is_valid, message = balanced_parens.validate()\n",
    "print(f\"Grammar validation: {message}\")"
   ]
  },
  {
   "cell_type": "markdown",
   "metadata": {},
   "source": [
    "## 2. An Example of Context-Free Grammars\n",
    "\n",
    "### 2.1 Example: Grammar for the language a\\*b\\*\n",
    "A Context-Free Grammar G1 is defined as follows:\n",
    "\n",
    "- $V$ (non-terminals): ${S, A, B}$\n",
    "- $\\Sigma$ (terminals): ${a, b}$\n",
    "- R (production rules): ${S → AB; A → aA| \\wedge , B → bB | \\wedge}$\n",
    "\n",
    "To understand the production rules:\n",
    "- The start symbol S expands into A followed by B. This enforces that all 'a' symbols, if any, must come before any 'b' symbols.\n",
    "- A can either produce an 'a' followed by another 'A' (recursion) or terminate with $\\wedge$(empty string). This means A generates zero or more 'a' characters (a*).\n",
    "- B can either produce a 'b' followed by another 'B' (recursion) or terminate with $\\wedge$(empty string). This means B generates zero or more 'b' characters (b*).\n",
    "\n",
    "The language defined by this grammar is: $L(G1)=\\{a^nb^m∣n,m≥0\\}$. This represents any number of 'a's followed by any number of 'b's, including the empty string. This grammar generates strings like: $\\wedge$, a, b, aa, bb, ab, aab, abbb, aaabb, ... \n",
    "\n",
    "\n",
    "\n"
   ]
  },
  {
   "cell_type": "markdown",
   "metadata": {},
   "source": [
    "## 3. Derivations\n",
    "\n",
    "A derivation is a sequence of strings obtained by applying production rules, starting from the start symbol. There are two main types of derivations:\n",
    "\n",
    "### 3.1 Leftmost Derivation\n",
    "In a leftmost derivation, at each step we replace the leftmost non-terminal with one of its productions.  \n",
    "Example using G1 to derive 'aabb':  \n",
    "\n",
    "    S ⇒ AB    [using S → AB]  \n",
    "      ⇒ aAB   [using A → aA] \n",
    "      ⇒ aaAB  [using A → aA]\n",
    "      ⇒ aaB   [using A → ∧]  \n",
    "      ⇒ aabB  [using B → bB]  \n",
    "      ⇒ aabbB [using B → bB]\n",
    "      ⇒ aabb  [using B → ∧]  \n",
    "      \n",
    "### 3.2 Rightmost Derivation\n",
    "In a rightmost derivation, at each step we replace the rightmost non-terminal with one of its productions.  \n",
    "Example using G1 (a*b*) to derive 'aabb':  (different from leftmost but same result):  \n",
    "\n",
    "    S ⇒ AB    [using S → AB]  \n",
    "      ⇒ AbB   [using B → bB] \n",
    "      ⇒ AbbB  [using B → bB]\n",
    "      ⇒ Abb   [using B → ∧]  \n",
    "      ⇒ aAbb  [using A → aA]  \n",
    "      ⇒ aaAbb [using A → aA]\n",
    "      ⇒ aabb  [using A → ∧]  \n",
    "\n",
    "Different types of derivation help maintain consistency and structure when parsing and analyzing languages. Leftmost derivation is commonly used for top-down parsing such as in Recursive Descent Parser. Rightmost Derivation is commonly used in bottom-up parsing such as in LR parsers. Common programming languages, such as C, Java, Python, are parsed with bottom-up approach."
   ]
  },
  {
   "cell_type": "markdown",
   "metadata": {},
   "source": [
    "## 4. More Examples of Context-Free Grammars\n",
    "\n",
    "### 4.1 Example: Grammar for balanced parentheses\n",
    "A Context-Free Grammar G2 is defined as follows:\n",
    "\n",
    "- $V$: {$S$}\n",
    "- $\\Sigma$: {(, )}\n",
    "- $R: {S → (S) | SS | \\wedge}$\n",
    "\n",
    "Components breakdown:\n",
    "\n",
    "| Components     | Explanation                                      |\n",
    "|----------------|--------------------------------------------------|\n",
    "| V = {S}        | Single non-terminal S                            |\n",
    "| Σ = {(, )}     | Two terminals: open and close parentheses        |\n",
    "| R = {S → (S) `\\|` SS `\\|` ∧} | Three production rules |\n",
    "\n",
    "\n",
    "This grammar generates strings like:  $\\wedge$, (), (()), ()(), ((())) "
   ]
  },
  {
   "cell_type": "markdown",
   "metadata": {},
   "source": [
    "### 4.2 Example: Grammar for arithmetic expressions\n",
    "\n",
    "A Context-Free Grammar G3 is defined as follows:\n",
    "\n",
    "V: {$S, E, T, F, N, D$}  \n",
    "$\\Sigma$: {$+, -, *, /, (, ), 0, 1, 2, 3, 4, 5, 6, 7, 8, 9$}  \n",
    "R =  \n",
    "{\n",
    "* $S → E$\n",
    "* $E → E + T | E - T | T $\n",
    "* $T → T * F | T / F | F $\n",
    "* $F → (E) | N | -F$\n",
    "* $N → ND | D$\n",
    "* $D → 0 | 1 | 2 | 3 | 4 | 5 | 6 | 7 | 8 | 9$\n",
    "}      \n",
    "\n",
    "This grammer defines arithmetic expressions that handles numbers, basic operators (+, -, *, /), and parentheses.\n",
    "\n",
    "Components breakdown:\n",
    "\n",
    "| Components | Explanation |\n",
    "|------------|-------------|\n",
    "| V = {E, T, F, N, D} | Variables for Expression, Term, Factor, Number, Digit |\n",
    "| Σ = {0,1,2,3,4,5,6,7,8,9, +, -, *, /, (, )} | Terminals: digits, operators, parentheses |\n",
    "| R: Production Rules | |\n",
    "| `S → E` | Start the production |\n",
    "| `E → E + T \\| E - T \\| T` | Addition/Subtraction/Term |\n",
    "| `T → T * F \\| T / F \\| F` | Multiplication/Division/Factor |\n",
    "| `F → (E) \\| N \\| -F` | Number, Parentheses, Negation |\n",
    "| `N → ND \\| D` | Multi-digit Numbers |\n",
    "| `D → 0 \\| 1 \\| 2 \\| 3 \\| 4 \\| 5 \\| 6 \\| 7 \\| 8 \\| 9` | Single Digits |\n",
    "\n",
    "This grammar generates expressions like:\n",
    "- 2\n",
    "- 3 + 7\n",
    "- 4 * 5\n",
    "- (8 + 2) / (3 - 1)\n",
    "- (-2 + 5) * 3\n",
    "- 1000 - 245\n",
    "\n",
    "Sample derivation for '5 + 7 * 2\"':  \n",
    "S ⇒ E + T ⇒ T + T ⇒ F + T ⇒ N + T ⇒ D + T ⇒ 5 + T * F ⇒ 5 + F * F ⇒ 5 + N * N ⇒ 5 + 7 * N ⇒ 5 + 7 * 2\n"
   ]
  },
  {
   "cell_type": "markdown",
   "metadata": {
    "jp-MarkdownHeadingCollapsed": true
   },
   "source": [
    "### 4.3 Example: Grammar for simple English sentences\n",
    "A Context-Free Grammar G4 is defined as follows:\n",
    "\n",
    "V: {S, NP, VP, Det, N, V}  \n",
    "Σ: {\"a\", \"cat\", \"dog\", \"boy\", \"girl\", \"candy\", \"sees\", \"eats\", \"runs\"}  \n",
    "R:  \n",
    "* $S → NP VP$                  # A sentence consists of a noun phrase and a verb phrase\n",
    "* $NP → Det N$                 # A noun phrase consists of a determiner and a noun\n",
    "* $VP → V NP$                  # A verb phrase consists of a verb followed by a noun phrase\n",
    "* $VP → V$                      # A verb phrase can also be just a verb\n",
    "* $Det → a$     # Determiners\n",
    "* $N → cat | dog | apple$  # Nouns\n",
    "* $V → sees | eats | runs$  # Verbs\n",
    "\n",
    "Components breakdown:\n",
    "\n",
    "| Components | Explanation |\n",
    "|------------|-------------|\n",
    "| V = {S, NP, VP, Det, N, V} | Non-terminals for Sentence, Noun Phrase, Verb Phrase, Determiner, Noun, and Verb |\n",
    "| Σ = {\"a\", \"cat\", \"dog\", \"boy\", \"girl\", \"candy\", \"sees\", \"eats\", \"runs\"} | Terminals: Determiners, Nouns, Proper Nouns, Verbs |\n",
    "| R: Production Rules | |\n",
    "| S → NP VP | A sentence consists of a noun phrase followed by a verb phrase |\n",
    "| NP → Det N | A noun phrase consists of a determiner followed by a noun |\n",
    "| VP → V NP | A verb phrase consists of a verb followed by a noun phrase |\n",
    "| VP → V | A verb phrase can be just a verb |\n",
    "| Det → \"a\" | Determiners |\n",
    "| N → \"cat\" \\| \"dog\" \\| \"boy\" \\| \"girl\" \\| \"candy\" | Nouns |\n",
    "| V → \"sees\" \\| \"eats\" \\| \"runs\" | Verbs |\n",
    "\n",
    "\n",
    "This grammar generates sentences like:\n",
    "- a cat runs\n",
    "- a boy eats a candy\n",
    "\n",
    "Example Derivations:\n",
    "* \"a cat sees a dog\"  \n",
    "    S ⇒ NP VP ⇒ Det N VP ⇒ a N VP ⇒ a cat NP ⇒ a cat V NP ⇒ a cat sees NP ⇒ a cat sees Det N ⇒ a cat sees a N ⇒ a cat sees a dog\n",
    "  \n",
    "Note that this grammar may derive some nonsensical but valid sentences, such as \"a candy sees a girl\". In formal language theory, a Context-Free Grammar defines the structure or format of valid strings in a language, regardless of their meaning. A string is considered valid if it can be derived from the start symbol S by applying the production rules of the grammar. A valid sentence such as **a candy runs** follow the correct structure (syntax), but they don't make sense (semantics). The grammar only cares about how the sentence is put together, not whether it has a logical meaning.\n"
   ]
  },
  {
   "cell_type": "markdown",
   "metadata": {},
   "source": [
    "### 4.4 Example: Grammar for palindromes\n",
    "\n",
    "A palindrome is a string that reads the same forward and backward. Here's a context-free grammar for generating palindromes:  \n",
    "\n",
    "V: {$S$}  \n",
    "Σ: {$a, b$}  \n",
    "R: $S → aSa | bSb | a | b | \\wedge$  \n",
    "\n",
    "Components breakdown:\n",
    "\n",
    "| Components | Explanation |\n",
    "|------------|-------------|\n",
    "| V = {S} | Non-terminal for the start symbol, representing the palindrome. |\n",
    "| Σ = {\"a\", \"b\"} | Terminals: the characters used to form the palindrome are \"a\" and \"b\". |\n",
    "| R Production Rules | |\n",
    "| S → aSa | Generates palindromes where the first and last characters are \"a\", with a smaller palindrome in between. |\n",
    "| S → bSb | Generates palindromes where the first and last characters are \"b\", with a smaller palindrome in between. |\n",
    "| S → a | A base case where the palindrome consists of just the letter \"a\". |\n",
    "| S → b | A base case where the palindrome consists of just the letter \"b\". |\n",
    "| S → ε | The empty string, which is also a valid palindrome. |\n",
    "\n",
    "This grammar generates palindromes like:\n",
    "- ∧ (empty string)\n",
    "- a\n",
    "- b\n",
    "- abba\n",
    "- baab\n",
    "- aabbaa\n",
    "\n",
    "Example Derivations for 'abba':  \n",
    "S ⇒ aSa ⇒ abSba ⇒ abba\n",
    "\n"
   ]
  },
  {
   "cell_type": "markdown",
   "metadata": {},
   "source": [
    "### 4.5 Example: Grammar for {aⁿbⁿ | n ≥ 0}\n",
    "The language {aⁿbⁿ | n ≥ 0} consists of strings where there are an equal number of a's followed by b's, with **n** representing the number of a's and b's.\n",
    "\n",
    "V: {$S$}  \n",
    "Σ: {$a, b$}  \n",
    "R: $S → aSb | \\wedge$\n",
    "\n",
    "Components breakdown:\n",
    "\n",
    "| Components | Explanation |\n",
    "|------------|-------------|\n",
    "| V = {S} | Non-terminal for the start symbol, representing the balanced structure of aⁿbⁿ. |\n",
    "| Σ = {\"a\", \"b\"} | Terminals: the characters \"a\" and \"b\" used to form the strings in the language. |\n",
    "| R: Production Rules | Rules that define how strings in the language are generated |\n",
    "| S → aSb | This rule generates a string with an \"a\" at the start, a \"b\" at the end, and recursively generates the middle part of the string (another \"a\" and \"b\" pair). |\n",
    "| S → ∧ | The empty string ∧ is also a valid string in the language, corresponding to n = 0 (no \"a\" or \"b\"). |\n",
    "\n",
    "\n",
    "This grammar generates strings like:\n",
    "- ∧ (empty string)\n",
    "- ab\n",
    "- aabb\n",
    "- aaabbb\n",
    "\n",
    "Sample derivation for 'aabb':\n",
    "S ⇒ aSb ⇒ aaSbb ⇒ aabb"
   ]
  },
  {
   "cell_type": "markdown",
   "metadata": {},
   "source": [
    "## 5. Parse Trees\n",
    "\n",
    "A parse tree (or derivation tree) is a graphical representation of a derivation. It shows the hierarchical structure of the derived string.\n",
    "\n",
    "### 5.1 Properties of Parse Trees:\n",
    "1. Root is labeled with the start symbol\n",
    "2. Interior nodes are labeled with non-terminals\n",
    "3. Leaf nodes are labeled with terminals or ∧ (empty string)\n",
    "4. If A → X₁X₂...Xₙ is a production used in the derivation, then in the parse tree:  \n",
    "   - A is the label of an interior node  \n",
    "   - X₁, X₂, ..., Xₙ are labels of its children from left to right\n",
    "\n",
    "### 5.2 Example Parse Tree\n",
    "For the string \\\"2 + 3\\\" using grammar G3:  \n",
    "\n",
    "           S  \n",
    "           |    \n",
    "           E  \n",
    "          /|\\    \n",
    "         E + T  \n",
    "         |   |  \n",
    "         T   F  \n",
    "         |   |  \n",
    "         F   3  \n",
    "         |  \n",
    "         2  \n",
    "         \n",
    "### 5.3 Example Python Implementation"
   ]
  },
  {
   "cell_type": "code",
   "execution_count": 2,
   "metadata": {},
   "outputs": [
    {
     "name": "stdout",
     "output_type": "stream",
     "text": [
      "nltk is already installed\n",
      "svgling is already installed\n",
      "graphviz is already installed\n"
     ]
    }
   ],
   "source": [
    "# Install required Python packages using pip\n",
    "import sys\n",
    "import importlib.util\n",
    "import subprocess\n",
    "\n",
    "def install_if_missing(package):\n",
    "    if importlib.util.find_spec(package) is None:\n",
    "        print(f\"Installing {package}...\")\n",
    "        subprocess.check_call([sys.executable, \"-m\", \"pip\", \"install\", package])\n",
    "        print(f\"{package} has been installed\")\n",
    "    else:\n",
    "        print(f\"{package} is already installed\")\n",
    "\n",
    "required_packages = ['nltk', 'svgling', 'graphviz']\n",
    "for package in required_packages:\n",
    "    install_if_missing(package)"
   ]
  },
  {
   "cell_type": "code",
   "execution_count": 3,
   "metadata": {},
   "outputs": [
    {
     "name": "stdout",
     "output_type": "stream",
     "text": [
      "\n",
      "Parse Tree for: 2 + 3\n"
     ]
    },
    {
     "data": {
      "image/svg+xml": [
       "<svg baseProfile=\"full\" height=\"360px\" preserveAspectRatio=\"xMidYMid meet\" style=\"font-family: times, serif; font-weight: normal; font-style: normal; font-size: 16px\" version=\"1.1\" viewBox=\"0,0,72.0,360.0\" width=\"72px\" xmlns=\"http://www.w3.org/2000/svg\" xmlns:ev=\"http://www.w3.org/2001/xml-events\" xmlns:xlink=\"http://www.w3.org/1999/xlink\"><defs /><svg width=\"100%\" x=\"0\" y=\"0px\"><defs /><text text-anchor=\"middle\" x=\"50%\" y=\"16px\">S</text></svg><svg width=\"100%\" x=\"0%\" y=\"48px\"><defs /><svg width=\"100%\" x=\"0\" y=\"0px\"><defs /><text text-anchor=\"middle\" x=\"50%\" y=\"16px\">E</text></svg><svg width=\"33.3333%\" x=\"0%\" y=\"48px\"><defs /><svg width=\"100%\" x=\"0\" y=\"0px\"><defs /><text text-anchor=\"middle\" x=\"50%\" y=\"16px\">E</text></svg><svg width=\"100%\" x=\"0%\" y=\"48px\"><defs /><svg width=\"100%\" x=\"0\" y=\"0px\"><defs /><text text-anchor=\"middle\" x=\"50%\" y=\"16px\">T</text></svg><svg width=\"100%\" x=\"0%\" y=\"48px\"><defs /><svg width=\"100%\" x=\"0\" y=\"0px\"><defs /><text text-anchor=\"middle\" x=\"50%\" y=\"16px\">F</text></svg><svg width=\"100%\" x=\"0%\" y=\"48px\"><defs /><svg width=\"100%\" x=\"0\" y=\"0px\"><defs /><text text-anchor=\"middle\" x=\"50%\" y=\"16px\">N</text></svg><svg width=\"100%\" x=\"0%\" y=\"48px\"><defs /><svg width=\"100%\" x=\"0\" y=\"0px\"><defs /><text text-anchor=\"middle\" x=\"50%\" y=\"16px\">D</text></svg><svg width=\"100%\" x=\"0%\" y=\"48px\"><defs /><svg width=\"100%\" x=\"0\" y=\"0px\"><defs /><text text-anchor=\"middle\" x=\"50%\" y=\"16px\">2</text></svg></svg><line stroke=\"black\" x1=\"50%\" x2=\"50%\" y1=\"20px\" y2=\"48px\" /></svg><line stroke=\"black\" x1=\"50%\" x2=\"50%\" y1=\"20px\" y2=\"48px\" /></svg><line stroke=\"black\" x1=\"50%\" x2=\"50%\" y1=\"20px\" y2=\"48px\" /></svg><line stroke=\"black\" x1=\"50%\" x2=\"50%\" y1=\"20px\" y2=\"48px\" /></svg><line stroke=\"black\" x1=\"50%\" x2=\"50%\" y1=\"20px\" y2=\"48px\" /></svg><line stroke=\"black\" x1=\"50%\" x2=\"16.6667%\" y1=\"20px\" y2=\"48px\" /><svg width=\"33.3333%\" x=\"33.3333%\" y=\"48px\"><defs /><svg width=\"100%\" x=\"0\" y=\"0px\"><defs /><text text-anchor=\"middle\" x=\"50%\" y=\"16px\">+</text></svg></svg><line stroke=\"black\" x1=\"50%\" x2=\"50%\" y1=\"20px\" y2=\"48px\" /><svg width=\"33.3333%\" x=\"66.6667%\" y=\"48px\"><defs /><svg width=\"100%\" x=\"0\" y=\"0px\"><defs /><text text-anchor=\"middle\" x=\"50%\" y=\"16px\">T</text></svg><svg width=\"100%\" x=\"0%\" y=\"48px\"><defs /><svg width=\"100%\" x=\"0\" y=\"0px\"><defs /><text text-anchor=\"middle\" x=\"50%\" y=\"16px\">F</text></svg><svg width=\"100%\" x=\"0%\" y=\"48px\"><defs /><svg width=\"100%\" x=\"0\" y=\"0px\"><defs /><text text-anchor=\"middle\" x=\"50%\" y=\"16px\">N</text></svg><svg width=\"100%\" x=\"0%\" y=\"48px\"><defs /><svg width=\"100%\" x=\"0\" y=\"0px\"><defs /><text text-anchor=\"middle\" x=\"50%\" y=\"16px\">D</text></svg><svg width=\"100%\" x=\"0%\" y=\"48px\"><defs /><svg width=\"100%\" x=\"0\" y=\"0px\"><defs /><text text-anchor=\"middle\" x=\"50%\" y=\"16px\">3</text></svg></svg><line stroke=\"black\" x1=\"50%\" x2=\"50%\" y1=\"20px\" y2=\"48px\" /></svg><line stroke=\"black\" x1=\"50%\" x2=\"50%\" y1=\"20px\" y2=\"48px\" /></svg><line stroke=\"black\" x1=\"50%\" x2=\"50%\" y1=\"20px\" y2=\"48px\" /></svg><line stroke=\"black\" x1=\"50%\" x2=\"50%\" y1=\"20px\" y2=\"48px\" /></svg><line stroke=\"black\" x1=\"50%\" x2=\"83.3333%\" y1=\"20px\" y2=\"48px\" /></svg><line stroke=\"black\" x1=\"50%\" x2=\"50%\" y1=\"20px\" y2=\"48px\" /></svg>"
      ],
      "text/plain": [
       "TreeLayout(Tree('S', [Tree('E', [Tree('E', [Tree('T', [Tree('F', [Tree('N', [Tree('D', ['2'])])])])]), '+', Tree('T', [Tree('F', [Tree('N', [Tree('D', ['3'])])])])])]))"
      ]
     },
     "metadata": {},
     "output_type": "display_data"
    },
    {
     "name": "stdout",
     "output_type": "stream",
     "text": [
      "\n",
      "Parse Tree for: 2 + 3 * 4\n"
     ]
    },
    {
     "data": {
      "image/svg+xml": [
       "<svg baseProfile=\"full\" height=\"360px\" preserveAspectRatio=\"xMidYMid meet\" style=\"font-family: times, serif; font-weight: normal; font-style: normal; font-size: 16px\" version=\"1.1\" viewBox=\"0,0,120.0,360.0\" width=\"120px\" xmlns=\"http://www.w3.org/2000/svg\" xmlns:ev=\"http://www.w3.org/2001/xml-events\" xmlns:xlink=\"http://www.w3.org/1999/xlink\"><defs /><svg width=\"100%\" x=\"0\" y=\"0px\"><defs /><text text-anchor=\"middle\" x=\"50%\" y=\"16px\">S</text></svg><svg width=\"100%\" x=\"0%\" y=\"48px\"><defs /><svg width=\"100%\" x=\"0\" y=\"0px\"><defs /><text text-anchor=\"middle\" x=\"50%\" y=\"16px\">E</text></svg><svg width=\"20%\" x=\"0%\" y=\"48px\"><defs /><svg width=\"100%\" x=\"0\" y=\"0px\"><defs /><text text-anchor=\"middle\" x=\"50%\" y=\"16px\">E</text></svg><svg width=\"100%\" x=\"0%\" y=\"48px\"><defs /><svg width=\"100%\" x=\"0\" y=\"0px\"><defs /><text text-anchor=\"middle\" x=\"50%\" y=\"16px\">T</text></svg><svg width=\"100%\" x=\"0%\" y=\"48px\"><defs /><svg width=\"100%\" x=\"0\" y=\"0px\"><defs /><text text-anchor=\"middle\" x=\"50%\" y=\"16px\">F</text></svg><svg width=\"100%\" x=\"0%\" y=\"48px\"><defs /><svg width=\"100%\" x=\"0\" y=\"0px\"><defs /><text text-anchor=\"middle\" x=\"50%\" y=\"16px\">N</text></svg><svg width=\"100%\" x=\"0%\" y=\"48px\"><defs /><svg width=\"100%\" x=\"0\" y=\"0px\"><defs /><text text-anchor=\"middle\" x=\"50%\" y=\"16px\">D</text></svg><svg width=\"100%\" x=\"0%\" y=\"48px\"><defs /><svg width=\"100%\" x=\"0\" y=\"0px\"><defs /><text text-anchor=\"middle\" x=\"50%\" y=\"16px\">2</text></svg></svg><line stroke=\"black\" x1=\"50%\" x2=\"50%\" y1=\"20px\" y2=\"48px\" /></svg><line stroke=\"black\" x1=\"50%\" x2=\"50%\" y1=\"20px\" y2=\"48px\" /></svg><line stroke=\"black\" x1=\"50%\" x2=\"50%\" y1=\"20px\" y2=\"48px\" /></svg><line stroke=\"black\" x1=\"50%\" x2=\"50%\" y1=\"20px\" y2=\"48px\" /></svg><line stroke=\"black\" x1=\"50%\" x2=\"50%\" y1=\"20px\" y2=\"48px\" /></svg><line stroke=\"black\" x1=\"50%\" x2=\"10%\" y1=\"20px\" y2=\"48px\" /><svg width=\"20%\" x=\"20%\" y=\"48px\"><defs /><svg width=\"100%\" x=\"0\" y=\"0px\"><defs /><text text-anchor=\"middle\" x=\"50%\" y=\"16px\">+</text></svg></svg><line stroke=\"black\" x1=\"50%\" x2=\"30%\" y1=\"20px\" y2=\"48px\" /><svg width=\"60%\" x=\"40%\" y=\"48px\"><defs /><svg width=\"100%\" x=\"0\" y=\"0px\"><defs /><text text-anchor=\"middle\" x=\"50%\" y=\"16px\">T</text></svg><svg width=\"33.3333%\" x=\"0%\" y=\"48px\"><defs /><svg width=\"100%\" x=\"0\" y=\"0px\"><defs /><text text-anchor=\"middle\" x=\"50%\" y=\"16px\">T</text></svg><svg width=\"100%\" x=\"0%\" y=\"48px\"><defs /><svg width=\"100%\" x=\"0\" y=\"0px\"><defs /><text text-anchor=\"middle\" x=\"50%\" y=\"16px\">F</text></svg><svg width=\"100%\" x=\"0%\" y=\"48px\"><defs /><svg width=\"100%\" x=\"0\" y=\"0px\"><defs /><text text-anchor=\"middle\" x=\"50%\" y=\"16px\">N</text></svg><svg width=\"100%\" x=\"0%\" y=\"48px\"><defs /><svg width=\"100%\" x=\"0\" y=\"0px\"><defs /><text text-anchor=\"middle\" x=\"50%\" y=\"16px\">D</text></svg><svg width=\"100%\" x=\"0%\" y=\"48px\"><defs /><svg width=\"100%\" x=\"0\" y=\"0px\"><defs /><text text-anchor=\"middle\" x=\"50%\" y=\"16px\">3</text></svg></svg><line stroke=\"black\" x1=\"50%\" x2=\"50%\" y1=\"20px\" y2=\"48px\" /></svg><line stroke=\"black\" x1=\"50%\" x2=\"50%\" y1=\"20px\" y2=\"48px\" /></svg><line stroke=\"black\" x1=\"50%\" x2=\"50%\" y1=\"20px\" y2=\"48px\" /></svg><line stroke=\"black\" x1=\"50%\" x2=\"50%\" y1=\"20px\" y2=\"48px\" /></svg><line stroke=\"black\" x1=\"50%\" x2=\"16.6667%\" y1=\"20px\" y2=\"48px\" /><svg width=\"33.3333%\" x=\"33.3333%\" y=\"48px\"><defs /><svg width=\"100%\" x=\"0\" y=\"0px\"><defs /><text text-anchor=\"middle\" x=\"50%\" y=\"16px\">*</text></svg></svg><line stroke=\"black\" x1=\"50%\" x2=\"50%\" y1=\"20px\" y2=\"48px\" /><svg width=\"33.3333%\" x=\"66.6667%\" y=\"48px\"><defs /><svg width=\"100%\" x=\"0\" y=\"0px\"><defs /><text text-anchor=\"middle\" x=\"50%\" y=\"16px\">F</text></svg><svg width=\"100%\" x=\"0%\" y=\"48px\"><defs /><svg width=\"100%\" x=\"0\" y=\"0px\"><defs /><text text-anchor=\"middle\" x=\"50%\" y=\"16px\">N</text></svg><svg width=\"100%\" x=\"0%\" y=\"48px\"><defs /><svg width=\"100%\" x=\"0\" y=\"0px\"><defs /><text text-anchor=\"middle\" x=\"50%\" y=\"16px\">D</text></svg><svg width=\"100%\" x=\"0%\" y=\"48px\"><defs /><svg width=\"100%\" x=\"0\" y=\"0px\"><defs /><text text-anchor=\"middle\" x=\"50%\" y=\"16px\">4</text></svg></svg><line stroke=\"black\" x1=\"50%\" x2=\"50%\" y1=\"20px\" y2=\"48px\" /></svg><line stroke=\"black\" x1=\"50%\" x2=\"50%\" y1=\"20px\" y2=\"48px\" /></svg><line stroke=\"black\" x1=\"50%\" x2=\"50%\" y1=\"20px\" y2=\"48px\" /></svg><line stroke=\"black\" x1=\"50%\" x2=\"83.3333%\" y1=\"20px\" y2=\"48px\" /></svg><line stroke=\"black\" x1=\"50%\" x2=\"70%\" y1=\"20px\" y2=\"48px\" /></svg><line stroke=\"black\" x1=\"50%\" x2=\"50%\" y1=\"20px\" y2=\"48px\" /></svg>"
      ],
      "text/plain": [
       "TreeLayout(Tree('S', [Tree('E', [Tree('E', [Tree('T', [Tree('F', [Tree('N', [Tree('D', ['2'])])])])]), '+', Tree('T', [Tree('T', [Tree('F', [Tree('N', [Tree('D', ['3'])])])]), '*', Tree('F', [Tree('N', [Tree('D', ['4'])])])])])]))"
      ]
     },
     "metadata": {},
     "output_type": "display_data"
    },
    {
     "name": "stdout",
     "output_type": "stream",
     "text": [
      "\n",
      "Parse Tree for: ( 5 + 2 ) * 3\n"
     ]
    },
    {
     "data": {
      "image/svg+xml": [
       "<svg baseProfile=\"full\" height=\"552px\" preserveAspectRatio=\"xMidYMid meet\" style=\"font-family: times, serif; font-weight: normal; font-style: normal; font-size: 16px\" version=\"1.1\" viewBox=\"0,0,168.0,552.0\" width=\"168px\" xmlns=\"http://www.w3.org/2000/svg\" xmlns:ev=\"http://www.w3.org/2001/xml-events\" xmlns:xlink=\"http://www.w3.org/1999/xlink\"><defs /><svg width=\"100%\" x=\"0\" y=\"0px\"><defs /><text text-anchor=\"middle\" x=\"50%\" y=\"16px\">S</text></svg><svg width=\"100%\" x=\"0%\" y=\"48px\"><defs /><svg width=\"100%\" x=\"0\" y=\"0px\"><defs /><text text-anchor=\"middle\" x=\"50%\" y=\"16px\">E</text></svg><svg width=\"100%\" x=\"0%\" y=\"48px\"><defs /><svg width=\"100%\" x=\"0\" y=\"0px\"><defs /><text text-anchor=\"middle\" x=\"50%\" y=\"16px\">T</text></svg><svg width=\"71.4286%\" x=\"0%\" y=\"48px\"><defs /><svg width=\"100%\" x=\"0\" y=\"0px\"><defs /><text text-anchor=\"middle\" x=\"50%\" y=\"16px\">T</text></svg><svg width=\"100%\" x=\"0%\" y=\"48px\"><defs /><svg width=\"100%\" x=\"0\" y=\"0px\"><defs /><text text-anchor=\"middle\" x=\"50%\" y=\"16px\">F</text></svg><svg width=\"20%\" x=\"0%\" y=\"48px\"><defs /><svg width=\"100%\" x=\"0\" y=\"0px\"><defs /><text text-anchor=\"middle\" x=\"50%\" y=\"16px\">(</text></svg></svg><line stroke=\"black\" x1=\"50%\" x2=\"10%\" y1=\"20px\" y2=\"48px\" /><svg width=\"60%\" x=\"20%\" y=\"48px\"><defs /><svg width=\"100%\" x=\"0\" y=\"0px\"><defs /><text text-anchor=\"middle\" x=\"50%\" y=\"16px\">E</text></svg><svg width=\"33.3333%\" x=\"0%\" y=\"48px\"><defs /><svg width=\"100%\" x=\"0\" y=\"0px\"><defs /><text text-anchor=\"middle\" x=\"50%\" y=\"16px\">E</text></svg><svg width=\"100%\" x=\"0%\" y=\"48px\"><defs /><svg width=\"100%\" x=\"0\" y=\"0px\"><defs /><text text-anchor=\"middle\" x=\"50%\" y=\"16px\">T</text></svg><svg width=\"100%\" x=\"0%\" y=\"48px\"><defs /><svg width=\"100%\" x=\"0\" y=\"0px\"><defs /><text text-anchor=\"middle\" x=\"50%\" y=\"16px\">F</text></svg><svg width=\"100%\" x=\"0%\" y=\"48px\"><defs /><svg width=\"100%\" x=\"0\" y=\"0px\"><defs /><text text-anchor=\"middle\" x=\"50%\" y=\"16px\">N</text></svg><svg width=\"100%\" x=\"0%\" y=\"48px\"><defs /><svg width=\"100%\" x=\"0\" y=\"0px\"><defs /><text text-anchor=\"middle\" x=\"50%\" y=\"16px\">D</text></svg><svg width=\"100%\" x=\"0%\" y=\"48px\"><defs /><svg width=\"100%\" x=\"0\" y=\"0px\"><defs /><text text-anchor=\"middle\" x=\"50%\" y=\"16px\">5</text></svg></svg><line stroke=\"black\" x1=\"50%\" x2=\"50%\" y1=\"20px\" y2=\"48px\" /></svg><line stroke=\"black\" x1=\"50%\" x2=\"50%\" y1=\"20px\" y2=\"48px\" /></svg><line stroke=\"black\" x1=\"50%\" x2=\"50%\" y1=\"20px\" y2=\"48px\" /></svg><line stroke=\"black\" x1=\"50%\" x2=\"50%\" y1=\"20px\" y2=\"48px\" /></svg><line stroke=\"black\" x1=\"50%\" x2=\"50%\" y1=\"20px\" y2=\"48px\" /></svg><line stroke=\"black\" x1=\"50%\" x2=\"16.6667%\" y1=\"20px\" y2=\"48px\" /><svg width=\"33.3333%\" x=\"33.3333%\" y=\"48px\"><defs /><svg width=\"100%\" x=\"0\" y=\"0px\"><defs /><text text-anchor=\"middle\" x=\"50%\" y=\"16px\">+</text></svg></svg><line stroke=\"black\" x1=\"50%\" x2=\"50%\" y1=\"20px\" y2=\"48px\" /><svg width=\"33.3333%\" x=\"66.6667%\" y=\"48px\"><defs /><svg width=\"100%\" x=\"0\" y=\"0px\"><defs /><text text-anchor=\"middle\" x=\"50%\" y=\"16px\">T</text></svg><svg width=\"100%\" x=\"0%\" y=\"48px\"><defs /><svg width=\"100%\" x=\"0\" y=\"0px\"><defs /><text text-anchor=\"middle\" x=\"50%\" y=\"16px\">F</text></svg><svg width=\"100%\" x=\"0%\" y=\"48px\"><defs /><svg width=\"100%\" x=\"0\" y=\"0px\"><defs /><text text-anchor=\"middle\" x=\"50%\" y=\"16px\">N</text></svg><svg width=\"100%\" x=\"0%\" y=\"48px\"><defs /><svg width=\"100%\" x=\"0\" y=\"0px\"><defs /><text text-anchor=\"middle\" x=\"50%\" y=\"16px\">D</text></svg><svg width=\"100%\" x=\"0%\" y=\"48px\"><defs /><svg width=\"100%\" x=\"0\" y=\"0px\"><defs /><text text-anchor=\"middle\" x=\"50%\" y=\"16px\">2</text></svg></svg><line stroke=\"black\" x1=\"50%\" x2=\"50%\" y1=\"20px\" y2=\"48px\" /></svg><line stroke=\"black\" x1=\"50%\" x2=\"50%\" y1=\"20px\" y2=\"48px\" /></svg><line stroke=\"black\" x1=\"50%\" x2=\"50%\" y1=\"20px\" y2=\"48px\" /></svg><line stroke=\"black\" x1=\"50%\" x2=\"50%\" y1=\"20px\" y2=\"48px\" /></svg><line stroke=\"black\" x1=\"50%\" x2=\"83.3333%\" y1=\"20px\" y2=\"48px\" /></svg><line stroke=\"black\" x1=\"50%\" x2=\"50%\" y1=\"20px\" y2=\"48px\" /><svg width=\"20%\" x=\"80%\" y=\"48px\"><defs /><svg width=\"100%\" x=\"0\" y=\"0px\"><defs /><text text-anchor=\"middle\" x=\"50%\" y=\"16px\">)</text></svg></svg><line stroke=\"black\" x1=\"50%\" x2=\"90%\" y1=\"20px\" y2=\"48px\" /></svg><line stroke=\"black\" x1=\"50%\" x2=\"50%\" y1=\"20px\" y2=\"48px\" /></svg><line stroke=\"black\" x1=\"50%\" x2=\"35.7143%\" y1=\"20px\" y2=\"48px\" /><svg width=\"14.2857%\" x=\"71.4286%\" y=\"48px\"><defs /><svg width=\"100%\" x=\"0\" y=\"0px\"><defs /><text text-anchor=\"middle\" x=\"50%\" y=\"16px\">*</text></svg></svg><line stroke=\"black\" x1=\"50%\" x2=\"78.5714%\" y1=\"20px\" y2=\"48px\" /><svg width=\"14.2857%\" x=\"85.7143%\" y=\"48px\"><defs /><svg width=\"100%\" x=\"0\" y=\"0px\"><defs /><text text-anchor=\"middle\" x=\"50%\" y=\"16px\">F</text></svg><svg width=\"100%\" x=\"0%\" y=\"48px\"><defs /><svg width=\"100%\" x=\"0\" y=\"0px\"><defs /><text text-anchor=\"middle\" x=\"50%\" y=\"16px\">N</text></svg><svg width=\"100%\" x=\"0%\" y=\"48px\"><defs /><svg width=\"100%\" x=\"0\" y=\"0px\"><defs /><text text-anchor=\"middle\" x=\"50%\" y=\"16px\">D</text></svg><svg width=\"100%\" x=\"0%\" y=\"48px\"><defs /><svg width=\"100%\" x=\"0\" y=\"0px\"><defs /><text text-anchor=\"middle\" x=\"50%\" y=\"16px\">3</text></svg></svg><line stroke=\"black\" x1=\"50%\" x2=\"50%\" y1=\"20px\" y2=\"48px\" /></svg><line stroke=\"black\" x1=\"50%\" x2=\"50%\" y1=\"20px\" y2=\"48px\" /></svg><line stroke=\"black\" x1=\"50%\" x2=\"50%\" y1=\"20px\" y2=\"48px\" /></svg><line stroke=\"black\" x1=\"50%\" x2=\"92.8571%\" y1=\"20px\" y2=\"48px\" /></svg><line stroke=\"black\" x1=\"50%\" x2=\"50%\" y1=\"20px\" y2=\"48px\" /></svg><line stroke=\"black\" x1=\"50%\" x2=\"50%\" y1=\"20px\" y2=\"48px\" /></svg>"
      ],
      "text/plain": [
       "TreeLayout(Tree('S', [Tree('E', [Tree('T', [Tree('T', [Tree('F', ['(', Tree('E', [Tree('E', [Tree('T', [Tree('F', [Tree('N', [Tree('D', ['5'])])])])]), '+', Tree('T', [Tree('F', [Tree('N', [Tree('D', ['2'])])])])]), ')'])]), '*', Tree('F', [Tree('N', [Tree('D', ['3'])])])])])]))"
      ]
     },
     "metadata": {},
     "output_type": "display_data"
    },
    {
     "name": "stdout",
     "output_type": "stream",
     "text": [
      "\n",
      "Parse Tree for: - 2 * 3\n"
     ]
    },
    {
     "data": {
      "image/svg+xml": [
       "<svg baseProfile=\"full\" height=\"408px\" preserveAspectRatio=\"xMidYMid meet\" style=\"font-family: times, serif; font-weight: normal; font-style: normal; font-size: 16px\" version=\"1.1\" viewBox=\"0,0,96.0,408.0\" width=\"96px\" xmlns=\"http://www.w3.org/2000/svg\" xmlns:ev=\"http://www.w3.org/2001/xml-events\" xmlns:xlink=\"http://www.w3.org/1999/xlink\"><defs /><svg width=\"100%\" x=\"0\" y=\"0px\"><defs /><text text-anchor=\"middle\" x=\"50%\" y=\"16px\">S</text></svg><svg width=\"100%\" x=\"0%\" y=\"48px\"><defs /><svg width=\"100%\" x=\"0\" y=\"0px\"><defs /><text text-anchor=\"middle\" x=\"50%\" y=\"16px\">E</text></svg><svg width=\"100%\" x=\"0%\" y=\"48px\"><defs /><svg width=\"100%\" x=\"0\" y=\"0px\"><defs /><text text-anchor=\"middle\" x=\"50%\" y=\"16px\">T</text></svg><svg width=\"50%\" x=\"0%\" y=\"48px\"><defs /><svg width=\"100%\" x=\"0\" y=\"0px\"><defs /><text text-anchor=\"middle\" x=\"50%\" y=\"16px\">T</text></svg><svg width=\"100%\" x=\"0%\" y=\"48px\"><defs /><svg width=\"100%\" x=\"0\" y=\"0px\"><defs /><text text-anchor=\"middle\" x=\"50%\" y=\"16px\">F</text></svg><svg width=\"50%\" x=\"0%\" y=\"48px\"><defs /><svg width=\"100%\" x=\"0\" y=\"0px\"><defs /><text text-anchor=\"middle\" x=\"50%\" y=\"16px\">-</text></svg></svg><line stroke=\"black\" x1=\"50%\" x2=\"25%\" y1=\"20px\" y2=\"48px\" /><svg width=\"50%\" x=\"50%\" y=\"48px\"><defs /><svg width=\"100%\" x=\"0\" y=\"0px\"><defs /><text text-anchor=\"middle\" x=\"50%\" y=\"16px\">F</text></svg><svg width=\"100%\" x=\"0%\" y=\"48px\"><defs /><svg width=\"100%\" x=\"0\" y=\"0px\"><defs /><text text-anchor=\"middle\" x=\"50%\" y=\"16px\">N</text></svg><svg width=\"100%\" x=\"0%\" y=\"48px\"><defs /><svg width=\"100%\" x=\"0\" y=\"0px\"><defs /><text text-anchor=\"middle\" x=\"50%\" y=\"16px\">D</text></svg><svg width=\"100%\" x=\"0%\" y=\"48px\"><defs /><svg width=\"100%\" x=\"0\" y=\"0px\"><defs /><text text-anchor=\"middle\" x=\"50%\" y=\"16px\">2</text></svg></svg><line stroke=\"black\" x1=\"50%\" x2=\"50%\" y1=\"20px\" y2=\"48px\" /></svg><line stroke=\"black\" x1=\"50%\" x2=\"50%\" y1=\"20px\" y2=\"48px\" /></svg><line stroke=\"black\" x1=\"50%\" x2=\"50%\" y1=\"20px\" y2=\"48px\" /></svg><line stroke=\"black\" x1=\"50%\" x2=\"75%\" y1=\"20px\" y2=\"48px\" /></svg><line stroke=\"black\" x1=\"50%\" x2=\"50%\" y1=\"20px\" y2=\"48px\" /></svg><line stroke=\"black\" x1=\"50%\" x2=\"25%\" y1=\"20px\" y2=\"48px\" /><svg width=\"25%\" x=\"50%\" y=\"48px\"><defs /><svg width=\"100%\" x=\"0\" y=\"0px\"><defs /><text text-anchor=\"middle\" x=\"50%\" y=\"16px\">*</text></svg></svg><line stroke=\"black\" x1=\"50%\" x2=\"62.5%\" y1=\"20px\" y2=\"48px\" /><svg width=\"25%\" x=\"75%\" y=\"48px\"><defs /><svg width=\"100%\" x=\"0\" y=\"0px\"><defs /><text text-anchor=\"middle\" x=\"50%\" y=\"16px\">F</text></svg><svg width=\"100%\" x=\"0%\" y=\"48px\"><defs /><svg width=\"100%\" x=\"0\" y=\"0px\"><defs /><text text-anchor=\"middle\" x=\"50%\" y=\"16px\">N</text></svg><svg width=\"100%\" x=\"0%\" y=\"48px\"><defs /><svg width=\"100%\" x=\"0\" y=\"0px\"><defs /><text text-anchor=\"middle\" x=\"50%\" y=\"16px\">D</text></svg><svg width=\"100%\" x=\"0%\" y=\"48px\"><defs /><svg width=\"100%\" x=\"0\" y=\"0px\"><defs /><text text-anchor=\"middle\" x=\"50%\" y=\"16px\">3</text></svg></svg><line stroke=\"black\" x1=\"50%\" x2=\"50%\" y1=\"20px\" y2=\"48px\" /></svg><line stroke=\"black\" x1=\"50%\" x2=\"50%\" y1=\"20px\" y2=\"48px\" /></svg><line stroke=\"black\" x1=\"50%\" x2=\"50%\" y1=\"20px\" y2=\"48px\" /></svg><line stroke=\"black\" x1=\"50%\" x2=\"87.5%\" y1=\"20px\" y2=\"48px\" /></svg><line stroke=\"black\" x1=\"50%\" x2=\"50%\" y1=\"20px\" y2=\"48px\" /></svg><line stroke=\"black\" x1=\"50%\" x2=\"50%\" y1=\"20px\" y2=\"48px\" /></svg>"
      ],
      "text/plain": [
       "TreeLayout(Tree('S', [Tree('E', [Tree('T', [Tree('T', [Tree('F', ['-', Tree('F', [Tree('N', [Tree('D', ['2'])])])])]), '*', Tree('F', [Tree('N', [Tree('D', ['3'])])])])])]))"
      ]
     },
     "metadata": {},
     "output_type": "display_data"
    },
    {
     "name": "stdout",
     "output_type": "stream",
     "text": [
      "\n",
      "Leftmost Derivation for: 2 + 3 * 4\n",
      "Step 0: S\n",
      "Step 1: ⇒ E\n",
      "Step 2: ⇒ E + T\n",
      "Step 3: ⇒ T + T\n",
      "Step 4: ⇒ F + T\n",
      "Step 5: ⇒ 2 + T\n",
      "Step 6: ⇒ 2 + T * F\n",
      "Step 7: ⇒ 2 + F * F\n",
      "Step 8: ⇒ 2 + 3 * F\n",
      "Step 9: ⇒ 2 + 3 * 4\n"
     ]
    }
   ],
   "source": [
    "# Example to visualize parse tree and show derivation process for CFG G3\n",
    "import nltk\n",
    "from nltk import CFG\n",
    "from IPython.display import display\n",
    "from nltk.tree import Tree\n",
    "\n",
    "# Try importing svgling for tree visualization\n",
    "try:\n",
    "    from svgling import draw_tree\n",
    "    SVG_AVAILABLE = True\n",
    "except ImportError:\n",
    "    SVG_AVAILABLE = False\n",
    "    print(\"Warning: 'svgling' module not found. Install it using 'pip install svgling' for better tree visualization.\")\n",
    "    \n",
    "# Define arithmetic expression grammar\n",
    "grammar = CFG.fromstring(\"\"\"\n",
    "    S -> E\n",
    "    E -> E '+' T | E '-' T | T\n",
    "    T -> T '*' F | T '/' F | F\n",
    "    F -> '(' E ')' | N | '-' F\n",
    "    N -> N D | D\n",
    "    D -> '0' | '1' | '2' | '3' | '4' | '5' | '6' | '7' | '8' | '9'\n",
    "\"\"\")\n",
    "\n",
    "# Create parser\n",
    "parser = nltk.ChartParser(grammar)\n",
    "\n",
    "# Example expressions\n",
    "expressions = [\n",
    "    ['2', '+', '3'],\n",
    "    ['2', '+', '3', '*', '4'],\n",
    "    ['(', '5', '+', '2', ')', '*', '3'],\n",
    "    ['-', '2', '*', '3']\n",
    "]\n",
    "\n",
    "# Parse and display trees\n",
    "for expr in expressions:\n",
    "    print(f\"\\nParse Tree for: {' '.join(expr)}\")\n",
    "    try:\n",
    "        for tree in parser.parse(expr):\n",
    "            if SVG_AVAILABLE:\n",
    "                display(draw_tree(tree))\n",
    "    except ValueError as e:\n",
    "        print(f\"Error parsing expression: {e}\")\n",
    "\n",
    "# Function to show derivation steps for an expression\n",
    "def show_leftmost_derivation(expression):\n",
    "    print(f\"\\nLeftmost Derivation for: {' '.join(expression)}\")\n",
    "    steps = [\n",
    "        \"S\",\n",
    "        \"⇒ E\",\n",
    "        \"⇒ E + T\",\n",
    "        \"⇒ T + T\",\n",
    "        \"⇒ F + T\",\n",
    "        \"⇒ 2 + T\",\n",
    "        \"⇒ 2 + T * F\",\n",
    "        \"⇒ 2 + F * F\",\n",
    "        \"⇒ 2 + 3 * F\",\n",
    "        \"⇒ 2 + 3 * 4\"\n",
    "    ]\n",
    "    for i, step in enumerate(steps):\n",
    "        print(f\"Step {i}: {step}\")\n",
    "\n",
    "# Example usage\n",
    "show_leftmost_derivation(['2', '+', '3', '*', '4'])"
   ]
  },
  {
   "cell_type": "code",
   "execution_count": 4,
   "metadata": {},
   "outputs": [
    {
     "name": "stdout",
     "output_type": "stream",
     "text": [
      "Defined Context-Free Grammar:\n",
      "Grammar with 9 productions (start state = S)\n",
      "    S -> NP VP\n",
      "    NP -> Det N\n",
      "    VP -> V NP\n",
      "    Det -> 'a'\n",
      "    Det -> 'the'\n",
      "    N -> 'cat'\n",
      "    N -> 'dog'\n",
      "    V -> 'chases'\n",
      "    V -> 'sees'\n",
      "\n",
      "Leftmost Derivation for 'the cat sees a dog':\n",
      "S\n",
      "⇒ NP VP\n",
      "⇒ Det N VP\n",
      "⇒ the N VP\n",
      "⇒ the cat VP\n",
      "⇒ the cat V NP\n",
      "⇒ the cat sees NP\n",
      "⇒ the cat sees Det N\n",
      "⇒ 'the' cat sees 'a' N\n",
      "⇒ 'the' cat sees 'a' dog\n",
      "\n",
      "Rightmost Derivation for 'the cat sees a dog':\n",
      "S\n",
      "⇒ NP VP\n",
      "⇒ NP V NP\n",
      "⇒ NP V Det N\n",
      "⇒ NP V Det dog\n",
      "⇒ NP V a dog\n",
      "⇒ NP sees a dog\n",
      "⇒ Det N sees a dog\n",
      "⇒ Det cat sees a dog\n",
      "⇒ the cat sees a dog\n",
      "\n",
      "Parse Tree:\n"
     ]
    },
    {
     "data": {
      "image/svg+xml": [
       "<svg baseProfile=\"full\" height=\"216px\" preserveAspectRatio=\"xMidYMid meet\" style=\"font-family: times, serif; font-weight: normal; font-style: normal; font-size: 16px\" version=\"1.1\" viewBox=\"0,0,224.0,216.0\" width=\"224px\" xmlns=\"http://www.w3.org/2000/svg\" xmlns:ev=\"http://www.w3.org/2001/xml-events\" xmlns:xlink=\"http://www.w3.org/1999/xlink\"><defs /><svg width=\"100%\" x=\"0\" y=\"0px\"><defs /><text text-anchor=\"middle\" x=\"50%\" y=\"16px\">S</text></svg><svg width=\"35.7143%\" x=\"0%\" y=\"48px\"><defs /><svg width=\"100%\" x=\"0\" y=\"0px\"><defs /><text text-anchor=\"middle\" x=\"50%\" y=\"16px\">NP</text></svg><svg width=\"50%\" x=\"0%\" y=\"48px\"><defs /><svg width=\"100%\" x=\"0\" y=\"0px\"><defs /><text text-anchor=\"middle\" x=\"50%\" y=\"16px\">Det</text></svg><svg width=\"100%\" x=\"0%\" y=\"48px\"><defs /><svg width=\"100%\" x=\"0\" y=\"0px\"><defs /><text text-anchor=\"middle\" x=\"50%\" y=\"16px\">a</text></svg></svg><line stroke=\"black\" x1=\"50%\" x2=\"50%\" y1=\"20px\" y2=\"48px\" /></svg><line stroke=\"black\" x1=\"50%\" x2=\"25%\" y1=\"20px\" y2=\"48px\" /><svg width=\"50%\" x=\"50%\" y=\"48px\"><defs /><svg width=\"100%\" x=\"0\" y=\"0px\"><defs /><text text-anchor=\"middle\" x=\"50%\" y=\"16px\">N</text></svg><svg width=\"100%\" x=\"0%\" y=\"48px\"><defs /><svg width=\"100%\" x=\"0\" y=\"0px\"><defs /><text text-anchor=\"middle\" x=\"50%\" y=\"16px\">dog</text></svg></svg><line stroke=\"black\" x1=\"50%\" x2=\"50%\" y1=\"20px\" y2=\"48px\" /></svg><line stroke=\"black\" x1=\"50%\" x2=\"75%\" y1=\"20px\" y2=\"48px\" /></svg><line stroke=\"black\" x1=\"50%\" x2=\"17.8571%\" y1=\"20px\" y2=\"48px\" /><svg width=\"64.2857%\" x=\"35.7143%\" y=\"48px\"><defs /><svg width=\"100%\" x=\"0\" y=\"0px\"><defs /><text text-anchor=\"middle\" x=\"50%\" y=\"16px\">VP</text></svg><svg width=\"44.4444%\" x=\"0%\" y=\"48px\"><defs /><svg width=\"100%\" x=\"0\" y=\"0px\"><defs /><text text-anchor=\"middle\" x=\"50%\" y=\"16px\">V</text></svg><svg width=\"100%\" x=\"0%\" y=\"48px\"><defs /><svg width=\"100%\" x=\"0\" y=\"0px\"><defs /><text text-anchor=\"middle\" x=\"50%\" y=\"16px\">chases</text></svg></svg><line stroke=\"black\" x1=\"50%\" x2=\"50%\" y1=\"20px\" y2=\"48px\" /></svg><line stroke=\"black\" x1=\"50%\" x2=\"22.2222%\" y1=\"20px\" y2=\"48px\" /><svg width=\"55.5556%\" x=\"44.4444%\" y=\"48px\"><defs /><svg width=\"100%\" x=\"0\" y=\"0px\"><defs /><text text-anchor=\"middle\" x=\"50%\" y=\"16px\">NP</text></svg><svg width=\"50%\" x=\"0%\" y=\"48px\"><defs /><svg width=\"100%\" x=\"0\" y=\"0px\"><defs /><text text-anchor=\"middle\" x=\"50%\" y=\"16px\">Det</text></svg><svg width=\"100%\" x=\"0%\" y=\"48px\"><defs /><svg width=\"100%\" x=\"0\" y=\"0px\"><defs /><text text-anchor=\"middle\" x=\"50%\" y=\"16px\">the</text></svg></svg><line stroke=\"black\" x1=\"50%\" x2=\"50%\" y1=\"20px\" y2=\"48px\" /></svg><line stroke=\"black\" x1=\"50%\" x2=\"25%\" y1=\"20px\" y2=\"48px\" /><svg width=\"50%\" x=\"50%\" y=\"48px\"><defs /><svg width=\"100%\" x=\"0\" y=\"0px\"><defs /><text text-anchor=\"middle\" x=\"50%\" y=\"16px\">N</text></svg><svg width=\"100%\" x=\"0%\" y=\"48px\"><defs /><svg width=\"100%\" x=\"0\" y=\"0px\"><defs /><text text-anchor=\"middle\" x=\"50%\" y=\"16px\">dog</text></svg></svg><line stroke=\"black\" x1=\"50%\" x2=\"50%\" y1=\"20px\" y2=\"48px\" /></svg><line stroke=\"black\" x1=\"50%\" x2=\"75%\" y1=\"20px\" y2=\"48px\" /></svg><line stroke=\"black\" x1=\"50%\" x2=\"72.2222%\" y1=\"20px\" y2=\"48px\" /></svg><line stroke=\"black\" x1=\"50%\" x2=\"67.8571%\" y1=\"20px\" y2=\"48px\" /></svg>"
      ],
      "text/plain": [
       "TreeLayout(Tree('S', [Tree('NP', [Tree('Det', ['a']), Tree('N', ['dog'])]), Tree('VP', [Tree('V', ['chases']), Tree('NP', [Tree('Det', ['the']), Tree('N', ['dog'])])])]))"
      ]
     },
     "metadata": {},
     "output_type": "display_data"
    }
   ],
   "source": [
    "# Example to visualize parse tree and show derivation process for CFG G4\n",
    "import nltk\n",
    "from nltk import CFG\n",
    "from IPython.display import display\n",
    "from nltk.tree import Tree\n",
    "\n",
    "# Try importing svgling for tree visualization\n",
    "try:\n",
    "    from svgling import draw_tree\n",
    "    SVG_AVAILABLE = True\n",
    "except ImportError:\n",
    "    SVG_AVAILABLE = False\n",
    "    print(\"Warning: 'svgling' module not found. Install it using 'pip install svgling' for better tree visualization.\")\n",
    "\n",
    "# Define a simple Context-Free Grammar (CFG)\n",
    "grammar = CFG.fromstring(\"\"\"\n",
    "    S -> NP VP\n",
    "    NP ->  Det N\n",
    "    VP -> V NP\n",
    "    Det -> 'a' | 'the'\n",
    "    N -> 'cat' | 'dog'\n",
    "    V -> 'chases' | 'sees'\n",
    "\"\"\")\n",
    "\n",
    "# Display the grammar\n",
    "print(\"Defined Context-Free Grammar:\")\n",
    "print(grammar)\n",
    "\n",
    "# Example of Leftmost and Rightmost Derivations\n",
    "def leftmost_derivation():\n",
    "    print(\"\\nLeftmost Derivation for 'the cat sees a dog':\")\n",
    "    print(\"S\")\n",
    "    print(\"⇒ NP VP\")\n",
    "    print(\"⇒ Det N VP\")\n",
    "    print(\"⇒ the N VP\")\n",
    "    print(\"⇒ the cat VP\")\n",
    "    print(\"⇒ the cat V NP\")\n",
    "    print(\"⇒ the cat sees NP\")\n",
    "    print(\"⇒ the cat sees Det N\")\n",
    "    print(\"⇒ 'the' cat sees 'a' N\")\n",
    "    print(\"⇒ 'the' cat sees 'a' dog\")\n",
    "\n",
    "def rightmost_derivation():\n",
    "    print(\"\\nRightmost Derivation for 'the cat sees a dog':\")\n",
    "    print(\"S\")\n",
    "    print(\"⇒ NP VP\")\n",
    "    print(\"⇒ NP V NP\")\n",
    "    print(\"⇒ NP V Det N\")\n",
    "    print(\"⇒ NP V Det dog\")\n",
    "    print(\"⇒ NP V a dog\")\n",
    "    print(\"⇒ NP sees a dog\")\n",
    "    print(\"⇒ Det N sees a dog\")\n",
    "    print(\"⇒ Det cat sees a dog\")\n",
    "    print(\"⇒ the cat sees a dog\")\n",
    "\n",
    "leftmost_derivation()\n",
    "rightmost_derivation()\n",
    "\n",
    "# Parse tree generation\n",
    "parser = nltk.ChartParser(grammar)\n",
    "# sentence = ['the', 'cat', 'sees', 'a', 'dog']\n",
    "sentence = ['a', 'dog', 'chases', 'the', 'dog']\n",
    "\n",
    "\n",
    "print(\"\\nParse Tree:\")\n",
    "for tree in parser.parse(sentence):\n",
    "    # display(tree)\n",
    "   #  tree.pretty_print()\n",
    "    if SVG_AVAILABLE:\n",
    "        display(draw_tree(tree))\n"
   ]
  },
  {
   "cell_type": "markdown",
   "metadata": {},
   "source": [
    "## 6. Practice Exercises\n",
    "\n",
    "### 6.1 Exercise 1: Definition of CFG\n",
    "For each of the following languages, identify V, Σ, R. Then give three strings that belong to the language generated by the grammar.\n",
    "\n",
    "* Language 1: a language that contains strings with one or more x's followed by one or more y's. \n",
    "* Language 2: a language that contains strings of the form 0ⁿ1ⁿ where n ≥ 1. \n",
    "\n",
    "### 6.2 Exercise 2: Derivations\n",
    "\n",
    "* Using the English sentence grammar G4 from Example 4:\n",
    "   - give a complete derivation for \"a girl sees a cat\"\n",
    "   - print the parse tree for this derivation\n",
    "   - provide two more valid sentences that can be generated by this grammar.\n",
    "* For the grammar G = ({S}, {a, b}, {S → aSb | SS | ∧}): \n",
    "   - Give a leftmost derivation for \"aabb\"\n",
    "   - Give a rightmost derivation for \"aabb\"\n",
    "   - Are these derivations unique? If not, find another derivation for the same string\n",
    "   - Draw the parse tree(s) for your derivation(s)\n",
    "\n",
    "### 6.3 Exercise 3:\n",
    "\n",
    "* Implement the CFG class from the notebook with additional methods:\n",
    "   - `def is_valid_string(self, input_string)`: Implement a method to check if a given string can be generated by this grammar\n",
    "   - `def generate_strings(self, max_length)`: Implement a method to generate all strings up to length max_length\n"
   ]
  },
  {
   "cell_type": "markdown",
   "metadata": {},
   "source": [
    "## 7. Further Reading\n",
    "\n",
    "* \"Introduction to the Theory of Computation\" by Michael Sipser, Section 2.1 - Context-Free Grammars\n",
    "* \"Introduction to Computer Theory\" by Daniel I.A. Cohen, Chapter 12 - Context-Free Grammars\n",
    "* \"Automata Theory, Languages, and Computation\" by Hopcroft, Motwani, and Ullman, Chapter 5 - Context-Free Grammars\n"
   ]
  },
  {
   "cell_type": "code",
   "execution_count": null,
   "metadata": {},
   "outputs": [],
   "source": []
  }
 ],
 "metadata": {
  "kernelspec": {
   "display_name": "Python 3 (ipykernel)",
   "language": "python",
   "name": "python3"
  },
  "language_info": {
   "codemirror_mode": {
    "name": "ipython",
    "version": 3
   },
   "file_extension": ".py",
   "mimetype": "text/x-python",
   "name": "python",
   "nbconvert_exporter": "python",
   "pygments_lexer": "ipython3",
   "version": "3.13.6"
  }
 },
 "nbformat": 4,
 "nbformat_minor": 4
}
