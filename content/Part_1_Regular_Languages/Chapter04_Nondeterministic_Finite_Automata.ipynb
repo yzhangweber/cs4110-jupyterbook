{
 "cells": [
  {
   "cell_type": "markdown",
   "metadata": {
    "id": "LmVGqzOXotQW"
   },
   "source": [
    "# Nondeterministic Finite Automata"
   ]
  },
  {
   "cell_type": "markdown",
   "metadata": {
    "id": "xB6iBrGeo6JO"
   },
   "source": [
    "## Learning Objectives\n",
    "After completing this chapter, you will be able to:\n",
    "\n",
    "* Define a nondeterministic finite automaton (NFA).\n",
    "* Explain the difference between a deterministic finite automaton (DFA) and an NFA.\n",
    "* Represent an NFA with a state diagram.\n",
    "* Define a language with an NFA.\n",
    "* Understand the equivalence of DFAs and NFAs."
   ]
  },
  {
   "cell_type": "code",
   "execution_count": null,
   "metadata": {
    "id": "wvLRQMiS9Wqq"
   },
   "outputs": [],
   "source": [
    "from graphviz import Digraph, Source"
   ]
  },
  {
   "cell_type": "markdown",
   "metadata": {
    "id": "uDUK2a2vpX48"
   },
   "source": [
    "## 1. The Idea of Nondeterminism"
   ]
  },
  {
   "cell_type": "markdown",
   "metadata": {
    "id": "FC4UI-21vLho"
   },
   "source": [
    "For the finite automata we've seen so far, if you're at any state in the automaton then every letter in the input alphabet $\\Sigma$ has a single corresponding transition. This means that at any state there is one and only one place to go for a given input, and consequently for any sequence of inputs there's only one corresponding path in the finite automaton. There are no options, and there is no ambiguity. This is why we called them *deterministic* finite automaton - for any input string, the path and final destination in the finite automaton is *uniquely determined*.\n",
    "\n",
    "We're now going to modify this, and introduce an element of choice. This means that for any given input string, there might be multiple corresponding paths through the finite automaton, depending on the choices that are made. We will call these finite automata *nondeterministic finute automata*, and they are the focus of this section.\n",
    "\n",
    "As an example, take a look at the state diagram below."
   ]
  },
  {
   "cell_type": "code",
   "execution_count": null,
   "metadata": {
    "id": "HYkG732M9hFT"
   },
   "outputs": [],
   "source": [
    "NFA_example = Digraph()\n",
    "NFA_example.attr(rankdir='LR') # This specifies the diagram should go left to right\n",
    "\n",
    "# Start arrow\n",
    "NFA_example.node('', shape='none')\n",
    "NFA_example.edge('', 'q0')\n",
    "\n",
    "# States\n",
    "NFA_example.node('q0', shape='circle') # Initial state\n",
    "NFA_example.node('q1', shape='circle')\n",
    "NFA_example.node('q2', shape='circle')\n",
    "NFA_example.node('q3', shape='doublecircle') # Accept state\n",
    "\n",
    "# Transitions\n",
    "NFA_example.edge('q0', 'q0', label='b')\n",
    "NFA_example.edge('q0', 'q1', label='a,b')\n",
    "NFA_example.edge('q1', 'q2', label='b')\n",
    "NFA_example.edge('q2', 'q0', label='a')\n",
    "NFA_example.edge('q2', 'q3', label='<&lambda;>')\n",
    "NFA_example.edge('q3', 'q3', label='a,b')"
   ]
  },
  {
   "cell_type": "code",
   "execution_count": null,
   "metadata": {
    "id": "TdjnBW_a9lLC"
   },
   "outputs": [],
   "source": [
    "Source(NFA_example.source)"
   ]
  },
  {
   "cell_type": "markdown",
   "metadata": {
    "id": "-8lAxvRG9Zvr"
   },
   "source": [
    "Notice a few things we haven't seen before:\n",
    "\n",
    "* At our initial state $q_{0}$, there are *two* transitions corresponding with the input $b$.\n",
    "* At the state $q_{1}$ there is no transition for the input $a$.\n",
    "* At the state $q_{2}$ there is a transition for the empty input $\\lambda$.\n",
    "\n",
    "What do these changes mean? They mean:\n",
    "\n",
    "* At state $q_{0}$, if the input is a $b$, then there are two possible transitions for this input (either stay at $q_{0}$ or move to $q_{1}$), and a choice must be made as to which path to follow.\n",
    "* At state $q_{1}$ if the input is an $a$ then there is no path to follow, and in this situation our path terminates or \"crashes\".\n",
    "* At state $q_{2}$ a choice can be made to transition to $q_{3}$ without even reading an input. However, this choice isn't forced, and staying at $q_{2}$ is also an option."
   ]
  },
  {
   "cell_type": "markdown",
   "metadata": {
    "id": "X2GPaga-E32x"
   },
   "source": [
    "These changes mean that for a given sequence of input characters there might be multiple possibilities for the state of the NFA, or there might be none. For example:\n",
    "\n",
    "* The input sequence $aba$ has two possible states final states, $q_{0}$ or $q_{3}$, depending on whether the $\\lambda$-transition is made at $q_{2}$.\n",
    "\n",
    "* The input sequence $aab$ has no possible final state, because after reading the first $a$ the automaton must transition from $q_{0}$ to $q_{1}$, and then after reading the second $a$ there is no corresponding transition and the path terminates.\n",
    "\n",
    "* The input sequence $abb$ has only one possible final state, corresponding to transitioning from $q_{0}$ to $q_{1}$ after the $a$ is read, transitioning from $q_{1}$ to $q_{2}$ after the first $b$ is read, transitioning from $q_{2}$ to $q_{3}$ with the $\\lambda$-transition, and then transitioning from $q_{3}$ to $q_{3}$ (staying put) when the final $b$ is read. If the transition from $q_{2}$ to $q_{3}$ with the $\\lambda$-transition is not chosen, then the second $b$ has no corresponding transition and the path terminates.\n",
    "\n",
    "We say that an NFA accepts a given input string if *any* of the possible final states are accepting states. So, it would accept both $aba$ and $abb$, even though one of the possible final states for the sequence $aba$ isn't an accepting state."
   ]
  },
  {
   "cell_type": "markdown",
   "metadata": {
    "id": "yj_-a-khGA9u"
   },
   "source": [
    "## 2. DFAs vs. NFAs"
   ]
  },
  {
   "cell_type": "markdown",
   "metadata": {
    "id": "qr7Myfx7GIYy"
   },
   "source": [
    "The table below summarizes the important differences between DFAs and NFAs.\n",
    "\n",
    "| DFAs | NFAs |\n",
    "| --- | --- |\n",
    "| One unique starting state. | At least one starting state, but possibly more. |\n",
    "| Every state has exactly one transition for every character in the input alphabet ($\\Sigma$). | States can have multiple transition for a character in $\\Sigma$, or none at all. |\n",
    "| At any step in the reading of the input string, the DFA is in one unique state. | At any step in the reading of the input string, the NFA can be in multiple states, or none at all. |\n",
    "| A DFA accepts an input string if after reading the string it's in an accepting state. | A NFA accepts an input string if after reading the string it could possibly be in an accepting state. |\n",
    "\n",
    "The NFA is much more flexible than the DFA, and you might think this would mean there are languages that can be recognized by a NFA that cannot be recognized by a DFA. However, we'll see this is not the case."
   ]
  },
  {
   "cell_type": "markdown",
   "metadata": {
    "id": "NoZ_FfOsH_dO"
   },
   "source": [
    "## 3. Formal Definition of a NFA"
   ]
  },
  {
   "cell_type": "markdown",
   "metadata": {
    "id": "lXMpHtZq38er"
   },
   "source": [
    "Formally, a nondeterministic finite automaton is a 5-tuple $(Q,\\Sigma,\\delta,S,F)$ where:\n",
    "\n",
    "1.   $Q$ is a *finite* set of states,\n",
    "2.   $\\Sigma$ is a finite alphabet,\n",
    "3.   $\\delta : Q \\times \\Sigma_{\\lambda} \\rightarrow P(Q)$ is the transition function,\n",
    "4.   $S \\subseteq Q$ is the (non-empty) subset of start states, and\n",
    "5.   $F \\subseteq Q$ is the set of accepting states.\n",
    "\n",
    "Here $\\Sigma_{\\lambda}$ means the finite alphabet $\\Sigma$ plus the empty string, represented by the symbol $\\lambda$. So, if $\\Sigma = \\{a,b\\}$, then $\\Sigma_{\\lambda} = \\{a,b,\\lambda\\}$. The term $P(Q)$ is the *powerset* of $Q$, and represents the set of all possible subsets of $Q$. We need the powerset because a given state and input combination can have more than one resulting state. For example, in the NFA from Section 1.4.1 above, the transition function for $q_{0}$ and the input $b$ would be $\\delta(q_{0},b) \\rightarrow \\{q_{0},q_{1}\\}$, because in $q_{0}$ with the input $b$ the NFA can either stay at $q_{0}$ or transition to $q_{1}$."
   ]
  },
  {
   "cell_type": "markdown",
   "metadata": {
    "id": "NS7f-0_wBOlx"
   },
   "source": [
    "## 4. Representing Nondeterministic Finite Automata in Python"
   ]
  },
  {
   "cell_type": "markdown",
   "metadata": {
    "id": "iFo0YijlBb0l"
   },
   "source": [
    "We're going to modify the DFA class we created in Section 1.3. First, we'll define how the class is constructed, provide a validation method to ensure the arguments (the 5-tuple) properly define a NFA, and provide methods for constructing and displaying the NFA's state diagram. These are all similar to the DFA class."
   ]
  },
  {
   "cell_type": "code",
   "execution_count": null,
   "metadata": {
    "id": "8rNPoLuDB481"
   },
   "outputs": [],
   "source": [
    "class NFA:\n",
    "    def __init__(self, states, alphabet, transition_function, start_states, accept_states):\n",
    "        self.states = set(states)\n",
    "        self.alphabet = set(alphabet)\n",
    "        self.transition_function = transition_function\n",
    "        self.start_states = set(start_states) # Modified to use a set\n",
    "        self.accept_states = set(accept_states)\n",
    "\n",
    "        self._validate()\n",
    "\n",
    "    def _validate(self):\n",
    "        if not self.start_states.issubset(self.states):\n",
    "            raise ValueError(\"Start states must be a subset of states.\")\n",
    "        if not self.accept_states.issubset(self.states):\n",
    "            raise ValueError(\"Accept states must be a subset of states.\")\n",
    "\n",
    "        # Ensure all transitions are to valid states and symbols\n",
    "        for (state, symbol), next_state in self.transition_function.items():\n",
    "            if state not in self.states:\n",
    "                raise ValueError(f\"Invalid transition: ({state}, {symbol}) - source state not in states.\")\n",
    "            if symbol not in self.alphabet and symbol != '<&lambda;>': # Allow lambda transitions\n",
    "                raise ValueError(f\"Symbol '{symbol}' not in alphabet.\")\n",
    "            # Check if the destination is a set of states and if all states in the set are valid\n",
    "            if not isinstance(next_state, set) or not next_state.issubset(self.states):\n",
    "                 raise ValueError(f\"Invalid transition: ({state}, {symbol}) → {next_state} - destination is not a set of states or contains invalid states.\")\n",
    "\n",
    "\n",
    "    def _build_graph(self):\n",
    "        dot = Digraph()\n",
    "        dot.attr(rankdir='LR')\n",
    "        dot.node('', shape='none')\n",
    "        # Handle multiple start states\n",
    "        for start_state in self.start_states:\n",
    "          dot.edge('', start_state)\n",
    "\n",
    "        for state in self.states:\n",
    "          shape = 'doublecircle' if state in self.accept_states else 'circle'\n",
    "          dot.node(state, shape=shape)\n",
    "\n",
    "        # Handle transitions to sets of states\n",
    "        for (src, symbol), dst_set in self.transition_function.items():\n",
    "            for dst in dst_set:\n",
    "                dot.edge(src, dst, label=symbol)\n",
    "\n",
    "        return dot\n",
    "\n",
    "    def show(self):\n",
    "        dot = self._build_graph()\n",
    "        display(Source(dot.source))"
   ]
  },
  {
   "cell_type": "markdown",
   "metadata": {
    "id": "62EOio1cDsqz"
   },
   "source": [
    "We can use this to display the state diagram for the example DFA from Section 1.4.1:"
   ]
  },
  {
   "cell_type": "code",
   "execution_count": null,
   "metadata": {
    "id": "KffhYgqUFMdj"
   },
   "outputs": [],
   "source": [
    "NFA_example_1_4_1 = NFA(\n",
    "    states={'q0', 'q1', 'q2', 'q3'},\n",
    "    alphabet={'a', 'b'},\n",
    "    transition_function={\n",
    "        ('q0', 'b'): {'q0', 'q1'},\n",
    "        ('q0', 'a'): {'q1'},\n",
    "        ('q1', 'b'): {'q2'},\n",
    "        ('q2', 'a'): {'q0'},\n",
    "        ('q2', '<&lambda;>'): {'q3'},\n",
    "        ('q3', 'a'): {'q3'},\n",
    "        ('q3', 'b'): {'q3'},\n",
    "    },\n",
    "    start_states={'q0'},\n",
    "    accept_states={'q3'}\n",
    ")\n",
    "\n",
    "NFA_example_1_4_1.show()"
   ]
  },
  {
   "cell_type": "markdown",
   "metadata": {
    "id": "dvmsDwYfGgj2"
   },
   "source": [
    "As with the DFA, we can construct a method for tracing the sequence of states of the automaton as it processes an input string. However, unlike with the DFA, for an NFA this won't be a sequence of states but a sequence of sets of states.\n",
    "\n",
    "First, we'll want to create a function that takes a set of states and a transition function, and determines all the states that can be reached from this set just through $\\lambda$-transitions."
   ]
  },
  {
   "cell_type": "code",
   "execution_count": null,
   "metadata": {
    "id": "vICfJ9GLOBMu"
   },
   "outputs": [],
   "source": [
    "# Function for finding all the states that can be reached from a set of states through lambda-transitions\n",
    "def lambda_closure(states, transition_function):\n",
    "  lambda_states = states.copy()\n",
    "  for state in states:\n",
    "    if (state, '<&lambda;>') in transition_function:\n",
    "      lambda_states.update(transition_function[(state, '<&lambda;>')])\n",
    "  if lambda_states != states:\n",
    "    lambda_states.update(lambda_closure(lambda_states, transition_function)) #Note the use of recursion\n",
    "  return lambda_states"
   ]
  },
  {
   "cell_type": "markdown",
   "metadata": {
    "id": "JH1pSZ4gP4H0"
   },
   "source": [
    "Now, we'll create a method for tracing through the sequence of states of an NFA as it processes an input string."
   ]
  },
  {
   "cell_type": "code",
   "execution_count": null,
   "metadata": {
    "id": "yI9VEqgfIFld"
   },
   "outputs": [],
   "source": [
    "# Method for tracing through the sequence of states of the nondeterministic finite automaton as it processes an input string.\n",
    "def trace(self, input_string):\n",
    "  current_states = lambda_closure(self.start_states, self.transition_function)\n",
    "  trace = [current_states]\n",
    "  for symbol in input_string:\n",
    "    next_states = set()\n",
    "    for state in current_states:\n",
    "      if (state, symbol) in self.transition_function:\n",
    "        next_states.update(self.transition_function[(state, symbol)])\n",
    "    current_states = lambda_closure(next_states, self.transition_function)\n",
    "    trace.append(current_states)\n",
    "  return trace\n",
    "\n",
    "NFA.trace = trace"
   ]
  },
  {
   "cell_type": "markdown",
   "metadata": {
    "id": "eShjoHlPQC00"
   },
   "source": [
    "Let's check how this method handles the three example inputs from the end of Section 1.4.1:"
   ]
  },
  {
   "cell_type": "code",
   "execution_count": null,
   "metadata": {
    "id": "O6uaavl4KL5Z"
   },
   "outputs": [],
   "source": [
    "NFA_example_1_4_1.trace('aba')"
   ]
  },
  {
   "cell_type": "code",
   "execution_count": null,
   "metadata": {
    "id": "Rf6M5Nk6P00U"
   },
   "outputs": [],
   "source": [
    "NFA_example_1_4_1.trace('aab')"
   ]
  },
  {
   "cell_type": "markdown",
   "metadata": {
    "id": "o1d19SKyQUJE"
   },
   "source": [
    "*NOTE* - Here *set()* means the empty set $\\emptyset$."
   ]
  },
  {
   "cell_type": "code",
   "execution_count": null,
   "metadata": {
    "id": "1ln16YCWQY5L"
   },
   "outputs": [],
   "source": [
    "NFA_example_1_4_1.trace('abb')"
   ]
  },
  {
   "cell_type": "markdown",
   "metadata": {
    "id": "r526m91JQ_MC"
   },
   "source": [
    "Finally, we can use this *trace* method to construct a method that determines whether an NFA accepts a given input string."
   ]
  },
  {
   "cell_type": "code",
   "execution_count": null,
   "metadata": {
    "id": "DdBwlLZ7RHKi"
   },
   "outputs": [],
   "source": [
    "def accepts(self, input_string):\n",
    "  trace = self.trace(input_string)\n",
    "  return any(state in self.accept_states for state in trace[-1])\n",
    "\n",
    "NFA.accepts = accepts"
   ]
  },
  {
   "cell_type": "markdown",
   "metadata": {
    "id": "uacAlc5FRVNB"
   },
   "source": [
    "Checking this on the NFA from Section 1.4.1 and the three example inputs:"
   ]
  },
  {
   "cell_type": "code",
   "execution_count": null,
   "metadata": {
    "id": "L1Xb-rdgRdPy"
   },
   "outputs": [],
   "source": [
    "NFA_example_1_4_1.accepts('aba')"
   ]
  },
  {
   "cell_type": "code",
   "execution_count": null,
   "metadata": {
    "id": "p7Q34-XiRgR5"
   },
   "outputs": [],
   "source": [
    "NFA_example_1_4_1.accepts('aab')"
   ]
  },
  {
   "cell_type": "code",
   "execution_count": null,
   "metadata": {
    "id": "IuCPPuBpRhzt"
   },
   "outputs": [],
   "source": [
    "NFA_example_1_4_1.accepts('abb')"
   ]
  },
  {
   "cell_type": "markdown",
   "metadata": {
    "id": "qPZms1PDRqZC"
   },
   "source": [
    "As in Chapter 1.3, the best practice here would be to include all this within the definition of the NFA class, and we provide code for doing this as an appendix to chapter."
   ]
  },
  {
   "cell_type": "markdown",
   "metadata": {
    "id": "bgfeaSMC5Lel"
   },
   "source": [
    "## 5. Equivalence of NFAs and DFAs"
   ]
  },
  {
   "cell_type": "markdown",
   "metadata": {
    "id": "w3WUBDxO5y1a"
   },
   "source": [
    "We say that an NFA and a DFA are *equivalent* if they recognize the same language.\n",
    "\n",
    "DFAs are a special case of NFAs, and so any DFA is also an NFA. This means that, obviously, for any DFA there is an equivalent NFA (the DFA itself).\n",
    "\n",
    "It's a bit surprising that the other direction is also true. Namely, for any NFA, there is an equivalent DFA.\n",
    "\n",
    "While proving this isn't particularly difficult, it will be the most in-depth proof we've seen so far. So, before we present the general proof, we'll illustrate the idea with an example."
   ]
  },
  {
   "cell_type": "markdown",
   "metadata": {
    "id": "B02-UWqWC8yO"
   },
   "source": [
    "### 5.1 Constructing an Equivalent DFA from an NFA"
   ]
  },
  {
   "cell_type": "markdown",
   "metadata": {
    "id": "rAKYsx2DUC4Z"
   },
   "source": [
    "Suppose you have the NFA below."
   ]
  },
  {
   "cell_type": "code",
   "execution_count": null,
   "metadata": {
    "id": "5_tChVkAUF5H"
   },
   "outputs": [],
   "source": [
    "NFA_a_2nd_to_last = NFA(\n",
    "    states={'q0', 'q1', 'q2'},\n",
    "    alphabet={'a', 'b'},\n",
    "    transition_function={\n",
    "        ('q0', 'a'): {'q0', 'q1'},\n",
    "        ('q0', 'b'): {'q0'},\n",
    "        ('q1', 'a'): {'q2'},\n",
    "        ('q1', 'b'): {'q2'},\n",
    "    },\n",
    "    start_states={'q0'},\n",
    "    accept_states={'q2'}\n",
    ")\n",
    "\n",
    "NFA_a_2nd_to_last.show()"
   ]
  },
  {
   "cell_type": "markdown",
   "metadata": {
    "id": "q1nlTlZTVSPV"
   },
   "source": [
    "This NFA recognizes the language of all strings over the alphabet $\\Sigma = \\{a,b\\}$ for which $a$ is the next-to-last letter."
   ]
  },
  {
   "cell_type": "markdown",
   "metadata": {
    "id": "ME7kEz56Un2I"
   },
   "source": [
    "If we gave this NFA the input string $aba$ then, depending on the choices made, there are two possible states, $q_{0}$ or $q_{1}$, the NFA could be in."
   ]
  },
  {
   "cell_type": "code",
   "execution_count": null,
   "metadata": {
    "id": "13-xhY9PUssP"
   },
   "outputs": [],
   "source": [
    "NFA_a_2nd_to_last.trace('aba')"
   ]
  },
  {
   "cell_type": "markdown",
   "metadata": {
    "id": "-lMmkOH7Uz8n"
   },
   "source": [
    "If we gave this NFA the input string $aab$ then, again depending on the choices made, there are two possible states, $q_{0}$ or $q_{2}$, the NFA could be in."
   ]
  },
  {
   "cell_type": "code",
   "execution_count": null,
   "metadata": {
    "id": "PkqelxCCU5Lm"
   },
   "outputs": [],
   "source": [
    "NFA_a_2nd_to_last.trace('aab')"
   ]
  },
  {
   "cell_type": "markdown",
   "metadata": {
    "id": "ItFD6-i2U-H1"
   },
   "source": [
    "As neither $q_{0}$ not $q_{1}$ are accepting states, the string $aba$ would not be accepted by the NFA."
   ]
  },
  {
   "cell_type": "code",
   "execution_count": null,
   "metadata": {
    "id": "6g3hPdwnVCf-"
   },
   "outputs": [],
   "source": [
    "NFA_a_2nd_to_last.accepts('aba')"
   ]
  },
  {
   "cell_type": "markdown",
   "metadata": {
    "id": "FTper6lVVFCH"
   },
   "source": [
    "Because $q_{2}$ is an accepting state the string $aab$ would be."
   ]
  },
  {
   "cell_type": "code",
   "execution_count": null,
   "metadata": {
    "id": "PRNIKFYvVJ41"
   },
   "outputs": [],
   "source": [
    "NFA_a_2nd_to_last.accepts('aab')"
   ]
  },
  {
   "cell_type": "markdown",
   "metadata": {
    "id": "MxQSG1t3V2gV"
   },
   "source": [
    "We'd like to find a DFA that accepts the same language as this NFA, and to do so the basic idea is the states of this DFA represent all the different possible subsets of states from the NFA. There are three states in this NFA, and so its set of states is $Q = \\{q_{0}, q_{1}, q_{2}\\}$. The possible subsets of $Q$, its *powerset*, is $P(Q) = \\{\\emptyset, \\{q_{0}\\}, \\{q_{1}\\}, \\{q_{2}\\}, \\{q_{0}, q_{1}\\}, \\{q_{0}, q_{2}\\}, \\{q_{1}, q_{2}\\}, \\{q_{0}, q_{1}, q_{2}\\}\\}$. Each of these subsets is a state within our DFA, which we represent below."
   ]
  },
  {
   "cell_type": "code",
   "execution_count": null,
   "metadata": {
    "id": "dMIQh8glV6Dl"
   },
   "outputs": [],
   "source": [
    "DFA_states = Digraph()\n",
    "DFA_states.attr(rankdir='LR') # This specifies the diagram should go left to right\n",
    "\n",
    "# States\n",
    "DFA_states.node('<&empty;>', shape='circle')\n",
    "DFA_states.node('{q0}', shape='circle')\n",
    "DFA_states.node('{q1}', shape='circle')\n",
    "DFA_states.node('{q2}', shape='circle')\n",
    "DFA_states.node('{q0,q1}', shape='circle')\n",
    "DFA_states.node('{q0,q2}', shape='circle')\n",
    "DFA_states.node('{q1,q2}', shape='circle')\n",
    "DFA_states.node('{q0,q1,q2}', shape='circle')"
   ]
  },
  {
   "cell_type": "code",
   "execution_count": null,
   "metadata": {
    "id": "ZTFvDNDdWwTL"
   },
   "outputs": [],
   "source": [
    "Source(DFA_states.source)"
   ]
  },
  {
   "cell_type": "markdown",
   "metadata": {
    "id": "a5a1FeMPXYl7"
   },
   "source": [
    "Now, suppose we're in the state $\\{q_{0},q_{1}\\}$ and we read the input $b$. What is the corresponding transition? Well, it's the possible states we could transition to in the NFA from either of those states. In the NFA if we're in state $q_{0}$ and we read a $b$, then we must stay at $q_{0}$. If we're in state $q_{1}$ and we read a $b$ then we must transition to $q_{2}$. So, in the DFA if we're in state $\\{q_{0},q_{1}\\}$ and we read a $b$ we transition to the state $\\{q_{0},q_{2}\\}$. What if we're in state $\\{q_{0},q_{1}\\}$ and we read the input $a$? Well, in the NFA if we're in state $q_{0}$ and we read an $a$, then we either stay at $q_{0}$ or transition to $q_{1}$. In the NFA if we're in state $q_{1}$ and we read an $a$, then we transition to $q_{2}$. So, in the DFA if we're in state $\\{q_{0},q_{1}\\}$ and we read an $a$ we transition to the state $\\{q_{0},q_{1},q_{2}\\}$. The transitions for all the states and possible inputs are represented below."
   ]
  },
  {
   "cell_type": "code",
   "execution_count": null,
   "metadata": {
    "id": "HZ9ucAb3Xc2L"
   },
   "outputs": [],
   "source": [
    "DFA_states_and_edges = Digraph()\n",
    "DFA_states_and_edges.attr(rankdir='LR') # This specifies the diagram should go left to right\n",
    "\n",
    "# States\n",
    "DFA_states_and_edges.node('<&empty;>', shape='circle')\n",
    "DFA_states_and_edges.node('{q0}', shape='circle')\n",
    "DFA_states_and_edges.node('{q1}', shape='circle')\n",
    "DFA_states_and_edges.node('{q2}', shape='circle')\n",
    "DFA_states_and_edges.node('{q0,q1}', shape='circle')\n",
    "DFA_states_and_edges.node('{q0,q2}', shape='circle')\n",
    "DFA_states_and_edges.node('{q1,q2}', shape='circle')\n",
    "DFA_states_and_edges.node('{q0,q1,q2}', shape='circle')\n",
    "\n",
    "# Transitions\n",
    "DFA_states_and_edges.edge('<&empty;>', '<&empty;>', label='a')\n",
    "DFA_states_and_edges.edge('<&empty;>', '<&empty;>', label='b')\n",
    "DFA_states_and_edges.edge('{q0}', '{q0,q1}', label='a')\n",
    "DFA_states_and_edges.edge('{q0}', '{q0}', label='b')\n",
    "DFA_states_and_edges.edge('{q1}', '{q2}', label='a')\n",
    "DFA_states_and_edges.edge('{q1}', '{q2}', label='b')\n",
    "DFA_states_and_edges.edge('{q2}', '<&empty;>', label='a')\n",
    "DFA_states_and_edges.edge('{q2}', '<&empty;>', label='b')\n",
    "DFA_states_and_edges.edge('{q0,q1}', '{q0,q1,q2}', label='a')\n",
    "DFA_states_and_edges.edge('{q0,q1}', '{q0,q2}', label='b')\n",
    "DFA_states_and_edges.edge('{q0,q2}', '{q0,q1}', label='a')\n",
    "DFA_states_and_edges.edge('{q0,q2}', '{q0}', label='b')\n",
    "DFA_states_and_edges.edge('{q1,q2}', '{q2}', label='a')\n",
    "DFA_states_and_edges.edge('{q1,q2}', '{q2}', label='b')\n",
    "DFA_states_and_edges.edge('{q0,q1,q2}', '{q0,q1,q2}', label='a')\n",
    "DFA_states_and_edges.edge('{q0,q1,q2}', '{q0,q2}', label='b')"
   ]
  },
  {
   "cell_type": "code",
   "execution_count": null,
   "metadata": {
    "id": "D5Kcl8r-ZfCG"
   },
   "outputs": [],
   "source": [
    "Source(DFA_states_and_edges.source)"
   ]
  },
  {
   "cell_type": "markdown",
   "metadata": {
    "id": "MyRDUZJ8Z03I"
   },
   "source": [
    "Now, what are the initial and final states of the DFA? Well, the initial state of the DFA is the one corresponding with the initial states of the NFA. In this case that's $\\{q_{0}\\}$. The final states are those that contain at least one final state of the NFA. As the only final state in the NFA is $q_{2}$, the accepting states of the DFA are $\\{q_{2}\\}, \\{q_{0}, q_{2}\\}, \\{q_{1}, q_{2}\\}$, and $\\{q_{0}, q_{1}, q_{2}\\}$. These are indicated in the state diagram below."
   ]
  },
  {
   "cell_type": "code",
   "execution_count": null,
   "metadata": {
    "id": "9Upgg_R1Z6hN"
   },
   "outputs": [],
   "source": [
    "DFA_full = Digraph()\n",
    "DFA_full.attr(rankdir='LR') # This specifies the diagram should go left to right\n",
    "\n",
    "# Start arrow\n",
    "DFA_full.node('', shape='none')\n",
    "DFA_full.edge('', '{q0}')\n",
    "\n",
    "# States\n",
    "DFA_full.node('<&empty;>', shape='circle')\n",
    "DFA_full.node('{q0}', shape='circle')\n",
    "DFA_full.node('{q1}', shape='circle')\n",
    "DFA_full.node('{q2}', shape='doublecircle')\n",
    "DFA_full.node('{q0,q1}', shape='circle')\n",
    "DFA_full.node('{q0,q2}', shape='doublecircle')\n",
    "DFA_full.node('{q1,q2}', shape='doublecircle')\n",
    "DFA_full.node('{q0,q1,q2}', shape='doublecircle')\n",
    "\n",
    "# Transitions\n",
    "DFA_full.edge('<&empty;>', '<&empty;>', label='a')\n",
    "DFA_full.edge('<&empty;>', '<&empty;>', label='b')\n",
    "DFA_full.edge('{q0}', '{q0,q1}', label='a')\n",
    "DFA_full.edge('{q0}', '{q0}', label='b')\n",
    "DFA_full.edge('{q1}', '{q2}', label='a')\n",
    "DFA_full.edge('{q1}', '{q2}', label='b')\n",
    "DFA_full.edge('{q2}', '<&empty;>', label='a')\n",
    "DFA_full.edge('{q2}', '<&empty;>', label='b')\n",
    "DFA_full.edge('{q0,q1}', '{q0,q1,q2}', label='a')\n",
    "DFA_full.edge('{q0,q1}', '{q0,q2}', label='b')\n",
    "DFA_full.edge('{q0,q2}', '{q0,q1}', label='a')\n",
    "DFA_full.edge('{q0,q2}', '{q0}', label='b')\n",
    "DFA_full.edge('{q1,q2}', '{q2}', label='a')\n",
    "DFA_full.edge('{q1,q2}', '{q2}', label='b')\n",
    "DFA_full.edge('{q0,q1,q2}', '{q0,q1,q2}', label='a')\n",
    "DFA_full.edge('{q0,q1,q2}', '{q0,q2}', label='b')"
   ]
  },
  {
   "cell_type": "code",
   "execution_count": null,
   "metadata": {
    "id": "Lpe_Fdb3ae-X"
   },
   "outputs": [],
   "source": [
    "Source(DFA_full.source)"
   ]
  },
  {
   "cell_type": "markdown",
   "metadata": {
    "id": "1HHXP8kNaqyo"
   },
   "source": [
    "At this point we could be done. However, we can note that there are some states and transitions that cannot possibly be reached from the starting state, and so will never actually be involved in the operation of the DFA. Removing them gives us the DFA below."
   ]
  },
  {
   "cell_type": "code",
   "execution_count": null,
   "metadata": {
    "id": "Tmlw123Qat1n"
   },
   "outputs": [],
   "source": [
    "DFA_reduced = Digraph()\n",
    "DFA_reduced.attr(rankdir='LR')  # Diagram direction: left to right\n",
    "\n",
    "# Start arrow\n",
    "DFA_reduced.node('', shape='none')\n",
    "DFA_reduced.edge('', '{q0}')\n",
    "\n",
    "# Reachable States\n",
    "DFA_reduced.node('{q0}', shape='circle')\n",
    "DFA_reduced.node('{q0,q1}', shape='circle')\n",
    "DFA_reduced.node('{q0,q2}', shape='doublecircle')\n",
    "DFA_reduced.node('{q0,q1,q2}', shape='doublecircle')\n",
    "\n",
    "# Reachable Transitions\n",
    "DFA_reduced.edge('{q0}', '{q0,q1}', label='a')\n",
    "DFA_reduced.edge('{q0}', '{q0}', label='b')\n",
    "DFA_reduced.edge('{q0,q1}', '{q0,q1,q2}', label='a')\n",
    "DFA_reduced.edge('{q0,q1}', '{q0,q2}', label='b')\n",
    "DFA_reduced.edge('{q0,q1,q2}', '{q0,q1,q2}', label='a')\n",
    "DFA_reduced.edge('{q0,q1,q2}', '{q0,q2}', label='b')\n",
    "DFA_reduced.edge('{q0,q2}', '{q0,q1}', label='a')\n",
    "DFA_reduced.edge('{q0,q2}', '{q0}', label='b')"
   ]
  },
  {
   "cell_type": "code",
   "execution_count": null,
   "metadata": {
    "id": "8zRvIKN3bnRm"
   },
   "outputs": [],
   "source": [
    "Source(DFA_reduced.source)"
   ]
  },
  {
   "cell_type": "markdown",
   "metadata": {
    "id": "m4PvkzAxDHrk"
   },
   "source": [
    "This DFA recognizes the same language (all strings with $a$ as the next-to-last letter) as the NFA above, and so they are equivalent."
   ]
  },
  {
   "cell_type": "markdown",
   "metadata": {
    "id": "FFVHdCoUDgOz"
   },
   "source": [
    "### 5.2 Proof of the Equivalence of NFAs and DFAs"
   ]
  },
  {
   "cell_type": "markdown",
   "metadata": {
    "id": "XlYQwB9pDqhF"
   },
   "source": [
    "As mentioned above, DFAs are special cases of NFAs, so for any DFA there's obviously an equivalent NFA - the DFA itself.\n",
    "\n",
    "Going the other way we'll want to formalize and generalize the construction we used above. This could be viewed as the first \"real\" proof of this class. Please don't be intimidated by it. There's nothing here that's more conceptually difficult than what we did in the example above - it just uses more general language.\n",
    "\n",
    "**PROOF**\n",
    "\n",
    "Let $N = (Q,\\Sigma, \\delta, S, F)$ be a NFA recognizing some language $A$. We construct a DFA $M = (Q', \\Sigma, \\delta', q_{0}', F')$ also recognizing $A$. Before going through the full construction, we'll first consider the easier case where $N$ has no $\\lambda$-transitions.\n",
    "\n",
    "\n",
    "\n",
    "1.   $Q' = P(Q)$. Every state of $M$ is a set of states of $N$. Recall that $P(Q)$ is the set of subsets of $Q$, knows as the *powerset* of $Q$.\n",
    "\n",
    "2.   For $R \\in Q'$ and $a \\in \\Sigma$, let $\\delta'(R,a) = \\{q \\in Q | q \\in \\delta(r,a)$ for some $r \\in R\\}$. If $R$ is a state of $M$ it is also a set of states of $N$. When $M$ reads a symbol $a$ in state $R$, it shows where $a$ takes each state in $R$. Because each state may go to a set of states, we take the union of all these sets. A compact way of writing this is\n",
    "<center>\n",
    "  $\\delta'(R,a) = \\bigcup_{r \\in R} \\delta(r,a)$.\n",
    "</center>\n",
    "\n",
    "3.   $q_{0}' = S$. $M$ starts in the state corresponding to the start states of $N$.\n",
    "\n",
    "4.   $F' = \\{R \\in Q | R$ contains an accept state of $N\\}$. The machine $M$ accepts if one of the possible states that $N$ could be in at this point is an accept state.\n",
    "\n",
    "For any NFA without $\\lambda$-transitions (like the example from Subsection 1.4.5.1 above) the construction above will produce an equivalent DFA. For the case where an NFA has $\\lambda$-transitions, we need to set up an extra bit of notation. For any state $R$ of $M$, we define $E(R)$ to be the collection of states that can be reached from members of $R$ by going only along $\\lambda$ arrows, inculding the members of $R$ themselves. Formally, for $R \\subseteq Q$ let\n",
    "\n",
    "<center>\n",
    "  $\\displaystyle E(R) = \\{q | q$ can be reached from $R$ by traveling along $0$ or more $\\lambda$ arrows$\\}$.\n",
    "</center>\n",
    "\n",
    "This operation is the *lambda_closure* function we defined in Section 1.4.4 above.\n",
    "\n",
    "We then modify the transition functions of $M$ to be\n",
    "\n",
    "<center>\n",
    "  $\\delta'(R,a) = \\{q \\in Q | q \\in E(\\delta(r,a))$  for some $r \\in R\\}$.\n",
    "</center>\n",
    "\n",
    "Finally, we modify the start state of $M$ to be all possible states that can be reached from the start states of $N$ along the $\\lambda$-transitions. So, we change $q_{0}'$ to be $E(S)$.\n",
    "\n",
    "With this modification, we have completed the construction of the DFA $M$ that simulates the NFA $N$, and is equivalent to it in that it recognizes the same language over $\\Sigma$."
   ]
  },
  {
   "cell_type": "markdown",
   "metadata": {
    "id": "aHGqNzjrd7ac"
   },
   "source": [
    "## 6. Practice Exercises"
   ]
  },
  {
   "cell_type": "markdown",
   "metadata": {
    "id": "ywLyUYVaexx7"
   },
   "source": [
    "**NOTE** - For each of these exercises the alpbabet is $\\Sigma = \\{a,b\\}$."
   ]
  },
  {
   "cell_type": "markdown",
   "metadata": {
    "id": "9PtS7jm8eHUD"
   },
   "source": [
    "**Exercise 1**: Construct an NFA with only three states that recognizes the language of all strings that end with the substring $aa$."
   ]
  },
  {
   "cell_type": "markdown",
   "metadata": {
    "id": "wsxwQj7kfC1z"
   },
   "source": [
    "**Exercise 2**: Create the NFA from Exercise 1 in Python as an NFA class, display it, and then verify it accepts the string $baa$ but not $aba$."
   ]
  },
  {
   "cell_type": "markdown",
   "metadata": {
    "id": "VtEAR-dvfWKc"
   },
   "source": [
    "**Exercise 3**: Construct a DFA equivalent to the NFA above using the method from Section 1.4.5."
   ]
  },
  {
   "cell_type": "markdown",
   "metadata": {
    "id": "7nR0rTpEfjAS"
   },
   "source": [
    "**Exercise 4** (Major Challenge): Write a Python function that accepts an NFA class (described in this chapter), and outputs an equivalent DFA class (defined in the previous chapter."
   ]
  },
  {
   "cell_type": "markdown",
   "metadata": {
    "id": "vZq_XfBpLNCm"
   },
   "source": [
    "## 7. Further Reading"
   ]
  },
  {
   "cell_type": "markdown",
   "metadata": {
    "id": "V6_A_1aLLQiL"
   },
   "source": [
    "* \"Introduction to the Theory of Computation\" (Third Edition) by Michael Sipser: *Section 1.2 - Nondeterminism*\n",
    "* \"Automata Theory, Languages, and Computation\" (Third Edition) by John. E Hopcraft, Rajeev Matwani, and Jeffrey D. Ullman: *Section 2.3 - Nondeterministic Finite Automata*\n",
    "* \"Introduction to Computer Theory\" (Second Edition) by Daniel I.A. Cohen: *Chapter 6 - Transition Graphs*, *Chapter 7 - Kleene's Theorem*"
   ]
  },
  {
   "cell_type": "markdown",
   "metadata": {
    "id": "GnhixJD7f0EC"
   },
   "source": [
    "## 8. Appendix: NFA Class with All Methods"
   ]
  },
  {
   "cell_type": "code",
   "execution_count": null,
   "metadata": {
    "id": "6BomlTB5f75a"
   },
   "outputs": [],
   "source": [
    "'''\n",
    "class NFA:\n",
    "    def __init__(self, states, alphabet, transition_function, start_states, accept_states):\n",
    "        self.states = set(states)\n",
    "        self.alphabet = set(alphabet)\n",
    "        self.transition_function = transition_function\n",
    "        self.start_states = set(start_states) # Modified to use a set\n",
    "        self.accept_states = set(accept_states)\n",
    "\n",
    "        self._validate()\n",
    "\n",
    "    def _validate(self):\n",
    "        if not self.start_states.issubset(self.states):\n",
    "            raise ValueError(\"Start states must be a subset of states.\")\n",
    "        if not self.accept_states.issubset(self.states):\n",
    "            raise ValueError(\"Accept states must be a subset of states.\")\n",
    "\n",
    "        # Ensure all transitions are to valid states and symbols\n",
    "        for (state, symbol), next_state in self.transition_function.items():\n",
    "            if state not in self.states:\n",
    "                raise ValueError(f\"Invalid transition: ({state}, {symbol}) - source state not in states.\")\n",
    "            if symbol not in self.alphabet and symbol != '<&lambda;>': # Allow lambda transitions\n",
    "                raise ValueError(f\"Symbol '{symbol}' not in alphabet.\")\n",
    "            # Check if the destination is a set of states and if all states in the set are valid\n",
    "            if not isinstance(next_state, set) or not next_state.issubset(self.states):\n",
    "                 raise ValueError(f\"Invalid transition: ({state}, {symbol}) → {next_state} - destination is not a set of states or contains invalid states.\")\n",
    "\n",
    "\n",
    "    def _build_graph(self):\n",
    "        dot = Digraph()\n",
    "        dot.attr(rankdir='LR')\n",
    "        dot.node('', shape='none')\n",
    "        # Handle multiple start states\n",
    "        for start_state in self.start_states:\n",
    "          dot.edge('', start_state)\n",
    "\n",
    "        for state in self.states:\n",
    "          shape = 'doublecircle' if state in self.accept_states else 'circle'\n",
    "          dot.node(state, shape=shape)\n",
    "\n",
    "        # Handle transitions to sets of states\n",
    "        for (src, symbol), dst_set in self.transition_function.items():\n",
    "            for dst in dst_set:\n",
    "                dot.edge(src, dst, label=symbol)\n",
    "\n",
    "        return dot\n",
    "\n",
    "    def show(self):\n",
    "        dot = self._build_graph()\n",
    "        display(Source(dot.source))\n",
    "\n",
    "    def _lambda_closure(states, transition_function):\n",
    "      lambda_states = states.copy()\n",
    "      for state in states:\n",
    "        if (state, '<&lambda;>') in transition_function:\n",
    "          lambda_states.update(transition_function[(state, '<&lambda;>')])\n",
    "      if lambda_states != states:\n",
    "        lambda_states.update(lambda_closure(lambda_states, transition_function)) #Note the use of recursion\n",
    "      return lambda_states\n",
    "\n",
    "    def trace(self, input_string):\n",
    "      current_states = lambda_closure(self.start_states, self.transition_function)\n",
    "      trace = [current_states]\n",
    "      for symbol in input_string:\n",
    "        next_states = set()\n",
    "        for state in current_states:\n",
    "          if (state, symbol) in self.transition_function:\n",
    "            next_states.update(self.transition_function[(state, symbol)])\n",
    "        current_states = lambda_closure(next_states, self.transition_function)\n",
    "        trace.append(current_states)\n",
    "      return trace\n",
    "\n",
    "    def accepts(self, input_string):\n",
    "      trace = self.trace(input_string)\n",
    "      return any(state in self.accept_states for state in trace[-1])\n",
    "''';"
   ]
  }
 ],
 "metadata": {
  "colab": {
   "provenance": []
  },
  "kernelspec": {
   "display_name": "Python 3 (ipykernel)",
   "language": "python",
   "name": "python3"
  },
  "language_info": {
   "codemirror_mode": {
    "name": "ipython",
    "version": 3
   },
   "file_extension": ".py",
   "mimetype": "text/x-python",
   "name": "python",
   "nbconvert_exporter": "python",
   "pygments_lexer": "ipython3",
   "version": "3.13.6"
  }
 },
 "nbformat": 4,
 "nbformat_minor": 4
}
