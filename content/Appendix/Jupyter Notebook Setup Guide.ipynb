{
 "cells": [
  {
   "cell_type": "markdown",
   "id": "b801d156-5baf-4142-9fd4-3be85aabc02a",
   "metadata": {},
   "source": [
    "# Appendix: Getting Started with Jupyter Notebooks (JupyterLab and Google Colab)\n",
    "\n",
    "## 1. Introduction to Jupyter Notebooks\n",
    "Jupyter Notebooks are interactive computing environments that allow you to create and share documents containing live code, equations, visualizations, and narrative text. They have become the standard tool for data science, research, and educational purposes.\n",
    "\n",
    "### 1.1 Key Features:\n",
    "* Interactive Computing: Execute code cells individually and see results immediately\n",
    "* Rich Media Support: Include text, images, graphs, and mathematical equations\n",
    "* Multiple Languages: Support for Python, R, Julia, Scala, and many others\n",
    "* Shareable: Easy to share with colleagues and the broader community\n",
    "* Reproducible: Others can run your notebooks and get the same results\n",
    "\n",
    "### 1.2 Common Use Cases:\n",
    "* Data analysis and visualization\n",
    "* Machine learning experiments\n",
    "* Educational materials and tutorials\n",
    "* Rapid prototyping\n",
    "* Scientific computing and research\n",
    "\n",
    "### 1.3 Examples"
   ]
  },
  {
   "cell_type": "code",
   "execution_count": 1,
   "id": "d38bd896-6e51-4062-9f0b-725eebb7b200",
   "metadata": {},
   "outputs": [
    {
     "name": "stdout",
     "output_type": "stream",
     "text": [
      "Welcome to Jupyter Notebooks!\n",
      "This is a Python code cell.\n",
      "2 + 2 = 4\n"
     ]
    }
   ],
   "source": [
    "# Let's start with a simple example\n",
    "print(\"Welcome to Jupyter Notebooks!\")\n",
    "print(\"This is a Python code cell.\")\n",
    "\n",
    "# You can execute mathematical operations\n",
    "result = 2 + 2\n",
    "print(f\"2 + 2 = {result}\")"
   ]
  },
  {
   "cell_type": "code",
   "execution_count": 15,
   "id": "55819c9a-122f-487d-bf47-d988fa50c678",
   "metadata": {},
   "outputs": [
    {
     "name": "stdout",
     "output_type": "stream",
     "text": [
      "Generated 100 random numbers\n",
      "Mean: -0.07\n",
      "Standard deviation: 1.01\n"
     ]
    }
   ],
   "source": [
    "# Import common libraries used in data science\n",
    "import numpy as np\n",
    "import pandas as pd\n",
    "import matplotlib.pyplot as plt\n",
    "\n",
    "# Create a simple dataset\n",
    "data = np.random.randn(100)\n",
    "print(f\"Generated {len(data)} random numbers\")\n",
    "print(f\"Mean: {np.mean(data):.2f}\")\n",
    "print(f\"Standard deviation: {np.std(data):.2f}\")"
   ]
  },
  {
   "cell_type": "markdown",
   "id": "0c1c13e7-622e-439e-b90b-a659c057718b",
   "metadata": {},
   "source": [
    "## 2. Getting Started with Google Colab\n",
    "Google Colab (Colaboratory) is a free cloud-based Jupyter notebook environment that requires no setup and runs entirely in the browser.\n",
    "\n",
    "### 2.1 Advantages of Google Colab:\n",
    "* No Installation Required: Runs in your web browser\n",
    "* Free GPU/TPU Access: Hardware acceleration for machine learning\n",
    "* Pre-installed Libraries: Most popular data science libraries are already installed\n",
    "* Google Drive Integration: Easy file storage and sharing\n",
    "* Collaboration Features: Real-time collaboration like Google Docs\n",
    "\n",
    "### 2.2 Getting Started with Colab:\n",
    "\n",
    "1. Access Google Colab:\n",
    "    * Go to <a href=\"https://colab.research.google.com/\" target=\"_blank\">colab.research.google.com</a>\n",
    "    * Sign in with your Google account\n",
    "2. Create a New Notebook:\n",
    "    * Click \"New notebook\" or \"File\" → \"New notebook\"\n",
    "    * Your notebook will be automatically saved to Google Drive\n",
    "3. Basic Operations: check if we're running in Colab"
   ]
  },
  {
   "cell_type": "code",
   "execution_count": 3,
   "id": "a13ea563-b8c2-43c2-82f8-0d5f62a08ee6",
   "metadata": {},
   "outputs": [
    {
     "name": "stdout",
     "output_type": "stream",
     "text": [
      "Python version: 3.12.6 (tags/v3.12.6:a4a2d2b, Sep  6 2024, 20:11:23) [MSC v.1940 64 bit (AMD64)]\n",
      "Not running in Google Colab\n"
     ]
    }
   ],
   "source": [
    "# This cell demonstrates basic Colab functionality\n",
    "import sys\n",
    "print(f\"Python version: {sys.version}\")\n",
    "\n",
    "# Check if we're running in Colab\n",
    "try:\n",
    "    import google.colab\n",
    "    print(\"Running in Google Colab\")\n",
    "    IN_COLAB = True\n",
    "except ImportError:\n",
    "    print(\"Not running in Google Colab\")\n",
    "    IN_COLAB = False"
   ]
  },
  {
   "cell_type": "markdown",
   "id": "2c9459a8-4902-420d-a1ca-bcb3e25f7c22",
   "metadata": {},
   "source": [
    "4. Installing Additional Packages in Colab:"
   ]
  },
  {
   "cell_type": "code",
   "execution_count": 5,
   "id": "5fc8a2b9-55bd-4d8b-9193-7088aa0a9929",
   "metadata": {},
   "outputs": [
    {
     "name": "stdout",
     "output_type": "stream",
     "text": [
      "Additional packages installed successfully!\n"
     ]
    },
    {
     "name": "stderr",
     "output_type": "stream",
     "text": [
      "WARNING: Ignoring invalid distribution ~upyterlab (C:\\Python312\\Lib\\site-packages)\n",
      "WARNING: Ignoring invalid distribution ~upyterlab (C:\\Python312\\Lib\\site-packages)\n",
      "WARNING: Ignoring invalid distribution ~upyterlab (C:\\Python312\\Lib\\site-packages)\n"
     ]
    },
    {
     "name": "stdout",
     "output_type": "stream",
     "text": [
      "Requirement already satisfied: seaborn in c:\\python312\\lib\\site-packages (0.13.2)\n",
      "Requirement already satisfied: plotly in c:\\python312\\lib\\site-packages (6.2.0)\n",
      "Requirement already satisfied: numpy!=1.24.0,>=1.20 in c:\\python312\\lib\\site-packages (from seaborn) (2.3.1)\n",
      "Requirement already satisfied: pandas>=1.2 in c:\\python312\\lib\\site-packages (from seaborn) (2.3.1)\n",
      "Requirement already satisfied: matplotlib!=3.6.1,>=3.4 in c:\\python312\\lib\\site-packages (from seaborn) (3.10.3)\n",
      "Requirement already satisfied: narwhals>=1.15.1 in c:\\python312\\lib\\site-packages (from plotly) (1.47.1)\n",
      "Requirement already satisfied: packaging in c:\\python312\\lib\\site-packages (from plotly) (24.2)\n",
      "Requirement already satisfied: contourpy>=1.0.1 in c:\\python312\\lib\\site-packages (from matplotlib!=3.6.1,>=3.4->seaborn) (1.3.2)\n",
      "Requirement already satisfied: cycler>=0.10 in c:\\python312\\lib\\site-packages (from matplotlib!=3.6.1,>=3.4->seaborn) (0.12.1)\n",
      "Requirement already satisfied: fonttools>=4.22.0 in c:\\python312\\lib\\site-packages (from matplotlib!=3.6.1,>=3.4->seaborn) (4.58.5)\n",
      "Requirement already satisfied: kiwisolver>=1.3.1 in c:\\python312\\lib\\site-packages (from matplotlib!=3.6.1,>=3.4->seaborn) (1.4.8)\n",
      "Requirement already satisfied: pillow>=8 in c:\\python312\\lib\\site-packages (from matplotlib!=3.6.1,>=3.4->seaborn) (11.3.0)\n",
      "Requirement already satisfied: pyparsing>=2.3.1 in c:\\python312\\lib\\site-packages (from matplotlib!=3.6.1,>=3.4->seaborn) (3.2.3)\n",
      "Requirement already satisfied: python-dateutil>=2.7 in c:\\python312\\lib\\site-packages (from matplotlib!=3.6.1,>=3.4->seaborn) (2.9.0.post0)\n",
      "Requirement already satisfied: pytz>=2020.1 in c:\\python312\\lib\\site-packages (from pandas>=1.2->seaborn) (2025.2)\n",
      "Requirement already satisfied: tzdata>=2022.7 in c:\\python312\\lib\\site-packages (from pandas>=1.2->seaborn) (2025.2)\n",
      "Requirement already satisfied: six>=1.5 in c:\\python312\\lib\\site-packages (from python-dateutil>=2.7->matplotlib!=3.6.1,>=3.4->seaborn) (1.17.0)\n"
     ]
    }
   ],
   "source": [
    "# Install packages not included by default\n",
    "# Use ! to run shell commands\n",
    "!pip install seaborn plotly\n",
    "\n",
    "# Import the newly installed packages\n",
    "import seaborn as sns\n",
    "import plotly.express as px\n",
    "print(\"Additional packages installed successfully!\")"
   ]
  },
  {
   "cell_type": "markdown",
   "id": "c5c3d161-1387-4cc3-9fc4-78f2a55bcbd1",
   "metadata": {},
   "source": [
    "5. Mounting Google Drive in Colab:"
   ]
  },
  {
   "cell_type": "code",
   "execution_count": 6,
   "id": "be60301c-92d0-4285-8014-a56b81c5b19b",
   "metadata": {},
   "outputs": [],
   "source": [
    "# Mount Google Drive to access your files\n",
    "if IN_COLAB:\n",
    "    from google.colab import drive\n",
    "    drive.mount('/content/drive')\n",
    "    print(\"Google Drive mounted successfully!\")\n",
    "    \n",
    "    # You can now access files in your Google Drive\n",
    "    # Files will be available at /content/drive/MyDrive/\n",
    "    # You may open a terminal and use it to display the list of folders and files in your Google Drive. \n",
    "    # This can help verify that your files are correctly uploaded and accessible from the environment."
   ]
  },
  {
   "cell_type": "markdown",
   "id": "9795e11b-3a24-45bb-949c-ea0d6c0ed3e6",
   "metadata": {},
   "source": [
    "## 3. Setting Up JupyterLab\n",
    "JupyterLab is the next-generation web-based user interface for the Jupyter Project. It provides a more powerful and flexible environment than the classic Jupyter Notebook.\n",
    "\n",
    "### 3.1 Installing JupyterLab\n",
    "The preferred way to install JupyterLab is by using pip.\n",
    "\n",
    "```\n",
    "# Install JupyterLab using pip\n",
    "pip install jupyterlab\n",
    "\n",
    "# Launch JupyterLab\n",
    "jupyter lab\n",
    "```\n",
    "\n",
    "### 3.2 Launch JupyterLab\n",
    "To launch JupyterLab, open a command prompt or terminal, navigate to your target folder, and enter the following command:\n",
    "\n",
    "```\n",
    "# Launch JupyterLab\n",
    "jupyter lab\n",
    "```\n",
    "\n",
    "### 3.3 JupyterLab Features\n",
    "JupyterLab provides enhanced features over classic Jupyter:\n",
    "* Flexible user interface\n",
    "* Multiple document support\n",
    "* File browser integrationTerminal integration\n",
    "* Extension system\n",
    "* Drag and drop functionality\n",
    "* Multiple kernels support\n",
    "\n",
    "### 3.4 JupyterLab Extensions\n",
    "JupyterLab extensions can be installed via pip. Below are some popular JupyterLab extensions:\n",
    "* Variable Inspector: Shows variables in the current namespace\n",
    "* Table of Contents: Generates TOC of contents from notebook headers\n",
    "* Git: Git integration for version control\n",
    "* Plotly: Enhanced support for Plotly visualizations\n",
    "* Spreadsheet: Provides Excel-like spreadsheet functionality\n",
    "\n",
    "### 3.5 Customizing JupyterLab\n",
    "You can customize JupyterLab through the Settings menu or by editing configuration files directly. Common customizations include:\n",
    "* Theme selection (dark/light)\n",
    "* Keyboard shortcuts\n",
    "* Extension management\n",
    "* Notebook cell execution settings\n",
    "* File browser preferences\n",
    "\n",
    "These settings allow users to tailor the JupyterLab environment to their workflow and preferences.\n"
   ]
  },
  {
   "cell_type": "markdown",
   "id": "4ca07bbd-c536-4139-b5e4-dd6a1927fd5b",
   "metadata": {},
   "source": [
    "## 4. Google Colab vs JupyterLab\n",
    "\n",
    "### 4.1 Comparing Google Colab vs JupyterLab\n",
    "Here's a detailed comparison between Google Colab and JupyterLab across various dimensions:\n",
    "\n",
    "| Feature | Google Colab | JupyterLab |\n",
    "|---------|--------------|------------|\n",
    "| **Cost** | Free (with usage limits)<br> | Free (self-hosted)<br>Only costs for hardware/cloud hosting |\n",
    "| **Setup Required** | None - runs in browser<br>Just need Google account | Installation required<br>Python + JupyterLab installation |\n",
    "| **Hardware Access** | Free GPU/TPU access<br>High-end cloud hardware<br>Limited session time | Local hardware only<br>Performance depends on your machine<br>No session time limits |\n",
    "| **Storage** | Google Drive integration<br>15GB free storage<br>Automatic cloud backup | Local file system<br>Unlimited local storage<br>Manual backup required |\n",
    "| **Collaboration** | Real-time collaboration<br>Easy sharing via links<br>Comment and suggestion features | Limited collaboration<br>Share via file export<br>Version control with Git |\n",
    "| **Offline Access** | No - requires internet connection<br>Cannot work offline | Yes - fully offline capable<br>No internet required for work |\n",
    "| **Customization** | Limited theme options<br>Basic settings only<br>Cannot install extensions | Highly customizable<br>Extensive themes and extensions<br>Full UI customization |\n",
    "| **Library Management** | Pre-installed common libraries<br>Easy pip install with !pip<br>Limited to available packages | Full control over environment<br>Any Python package<br>Virtual environments supported |\n",
    "| **Performance** | High-performance cloud hardware<br>Fast for ML workloads<br>Shared resources | Depends on local hardware<br>Dedicated resources<br>Can be optimized for specific tasks |\n",
    "| **Data Privacy** | Data stored on Google servers<br>Subject to Google's privacy policy<br>Not ideal for sensitive data | Full control over data<br>Data stays on your machine<br>Complete privacy control |\n",
    "| **Session Persistence** | Sessions timeout (12-24 hours)<br>Runtime disconnections<br>Variables lost on timeout | Persistent sessions<br>No automatic timeouts<br>Variables retained until restart |\n",
    "| **File Management** | Google Drive interface<br>Limited file operations<br>Cloud-based file system | Full file system access<br>Advanced file operations<br>Integration with OS |\n",
    "| **Debugging Tools** | Basic debugging features<br>Limited debugging options<br>Browser-based tools only | Advanced debugging<br>Full IDE features<br>Integration with debugging tools |\n",
    "| **Version Control** | Basic Git support<br>Manual version management<br>Limited Git integration | Full Git integration<br>Advanced version control<br>Branch management |\n",
    "| **Multi-language Support** | Python focus<br>Limited other language support<br>R and Swift available | Python, R, Julia, Scala<br>Multiple kernels supported<br>Language-specific features |"
   ]
  },
  {
   "cell_type": "markdown",
   "id": "4db7cc5d-8347-446e-9b1d-f24c6e768a6f",
   "metadata": {},
   "source": [
    "### 4.2 When to Use Google Colab\n",
    "Choose Google Colab when:\n",
    "* Getting started with data science or machine learning\n",
    "* You need free GPU or TPU access\n",
    "* You are working on small to medium projects\n",
    "* Collaboration is important\n",
    "* You don’t want to manage a local environment\n",
    "* You use it occasionally or for learning purposes\n",
    "* You need to share your work easily\n",
    "\n",
    "### 4.3 When to Use JupyterLab\n",
    "Choose JupyterLab when:\n",
    "* You are working with sensitive or proprietary data\n",
    "* You need offline access\n",
    "* You require specific software versions\n",
    "* You are working with large datasets\n",
    "* You need extensive customization\n",
    "* You are in a professional or enterprise environment\n",
    "* You want full control over the environment\n",
    "* You are working with multiple programming languages\n",
    "\n"
   ]
  },
  {
   "cell_type": "markdown",
   "id": "80942cb4-a48b-498c-a4aa-f9559e437a99",
   "metadata": {},
   "source": [
    "## 5. Installing and Managing Libraries\n",
    "One of the most important aspects of working with Jupyter notebooks is managing libraries and packages. The approach differs between Google Colab and JupyterLab.\n",
    "\n",
    "### 5.1 Understanding Package Management Systems\n",
    "First, let's understand the different package managers:\n"
   ]
  },
  {
   "cell_type": "code",
   "execution_count": 8,
   "id": "f5671c7d-0d95-4ac7-9a4d-9de1cb8ef93d",
   "metadata": {},
   "outputs": [
    {
     "name": "stdout",
     "output_type": "stream",
     "text": [
      "Python version: 3.12.6 (tags/v3.12.6:a4a2d2b, Sep  6 2024, 20:11:23) [MSC v.1940 64 bit (AMD64)]\n",
      "Python executable: C:\\Python312\\python.exe\n",
      "\n",
      "Available package managers:\n",
      "  pip: ✓ Available\n",
      "  conda: ✗ Not available\n",
      "  mamba: ✗ Not available\n"
     ]
    }
   ],
   "source": [
    "import sys\n",
    "print(f\"Python version: {sys.version}\")\n",
    "print(f\"Python executable: {sys.executable}\")\n",
    "\n",
    "# Check which package managers are available\n",
    "import subprocess\n",
    "import os\n",
    "\n",
    "def check_package_manager(command):\n",
    "    try:\n",
    "        result = subprocess.run([command, '--version'], \n",
    "                              capture_output=True, text=True, timeout=5)\n",
    "        return result.returncode == 0\n",
    "    except:\n",
    "        return False\n",
    "\n",
    "managers = {\n",
    "    'pip': check_package_manager('pip'),\n",
    "    'conda': check_package_manager('conda'),\n",
    "    'mamba': check_package_manager('mamba')\n",
    "}\n",
    "\n",
    "print(\"\\nAvailable package managers:\")\n",
    "for manager, available in managers.items():\n",
    "    status = \"✓ Available\" if available else \"✗ Not available\"\n",
    "    print(f\"  {manager}: {status}\")"
   ]
  },
  {
   "cell_type": "markdown",
   "id": "285b58b0-b75c-4eaf-ac95-904d7b07f5f0",
   "metadata": {},
   "source": [
    "### 5.2 Installing Libraries in Google Colab\n",
    "This code demonstrates six common ways to install Python libraries in a Google Colab environment using ```pip```:\n"
   ]
  },
  {
   "cell_type": "code",
   "execution_count": null,
   "id": "b93c1ac3-4dd3-489c-8aca-3a880edbfdd1",
   "metadata": {},
   "outputs": [],
   "source": [
    "# Method 1: Using pip (most common in Colab)\n",
    "# The ! prefix runs shell commands\n",
    "!pip install seaborn plotly scikit-learn\n",
    "\n",
    "# Method 2: Installing specific versions\n",
    "!pip install pandas==1.5.3 numpy>=1.20.0\n",
    "\n",
    "# Method 3: Installing from requirements file\n",
    "# First, create a requirements.txt file\n",
    "requirements_content = \"\"\"\n",
    "matplotlib>=3.5.0\n",
    "seaborn>=0.11.0\n",
    "plotly>=5.0.0\n",
    "scikit-learn>=1.0.0\n",
    "requests>=2.25.0\n",
    "\"\"\"\n",
    "\n",
    "# Write to file (in Colab)\n",
    "with open('requirements.txt', 'w') as f:\n",
    "    f.write(requirements_content)\n",
    "\n",
    "# Install from requirements file\n",
    "!pip install -r requirements.txt\n",
    "\n",
    "print(\"Libraries installed successfully in Colab!\")\n",
    "\n",
    "# Method 4: Installing from GitHub repositories\n",
    "!pip install git+https://github.com/user/repository.git\n",
    "\n",
    "# Method 5: Installing with specific options\n",
    "!pip install --upgrade tensorflow  # Upgrade existing package\n",
    "!pip install --no-cache-dir torch   # Install without using cache\n",
    "!pip install --user package_name    # Install for current user only\n",
    "\n",
    "# Method 6: Installing development versions\n",
    "!pip install --pre scikit-learn  # Install pre-release version\n"
   ]
  },
  {
   "cell_type": "markdown",
   "id": "8f650fd2-02b6-46d9-8932-ead717ffa0c3",
   "metadata": {},
   "source": [
    "### 5.3 Checking Installed Libraries in Google Colab\n",
    "This code demonstrates different ways to check the installation status of Python packages in a Google Colab environment:\n",
    "* Using pip list with grep: Filters and displays installed packages matching pandas, numpy, or matplotlib.\n",
    "* Using pip show: Retrieves detailed metadata (version, location, dependencies) for the pandas package.\n",
    "* Programmatic Check: Defines a function to check if a given package is installed using __import__. It then loops through a list of common libraries (pandas, numpy, matplotlib, seaborn, plotly) and prints whether each is installed."
   ]
  },
  {
   "cell_type": "code",
   "execution_count": null,
   "id": "3b2ff32e-84d5-4af1-aa56-e51e67113be7",
   "metadata": {},
   "outputs": [],
   "source": [
    "# Checking installed packages in Colab\n",
    "!pip list | grep -E \"(pandas|numpy|matplotlib)\"\n",
    "\n",
    "# Get detailed information about a package\n",
    "!pip show pandas\n",
    "\n",
    "# Check if a package is installed programmatically\n",
    "def check_package_installed(package_name):\n",
    "    try:\n",
    "        __import__(package_name)\n",
    "        return True\n",
    "    except ImportError:\n",
    "        return False\n",
    "\n",
    "packages_to_check = ['pandas', 'numpy', 'matplotlib', 'seaborn', 'plotly']\n",
    "print(\"Package installation status:\")\n",
    "for package in packages_to_check:\n",
    "    status = \"✓ Installed\" if check_package_installed(package) else \"✗ Not installed\"\n",
    "    print(f\"  {package}: {status}\")"
   ]
  },
  {
   "cell_type": "markdown",
   "id": "a29f0a52-0cf9-4139-a02f-2ec44f4c0cc8",
   "metadata": {},
   "source": [
    "### 5.4 Installing Libraries in JupyterLab\n",
    "This code outlines multiple methods for installing Python packages in a JupyterLab environment, with a focus on ensuring the packages are installed into the correct Python environment:\n"
   ]
  },
  {
   "cell_type": "code",
   "execution_count": null,
   "id": "07336150-cabe-45c5-ae17-f298309678bb",
   "metadata": {},
   "outputs": [],
   "source": [
    "# Method 1: Using pip from within notebook\n",
    "import sys\n",
    "!{sys.executable} -m pip install seaborn plotly scikit-learn\n",
    "\n",
    "# This ensures pip installs to the same Python environment as the notebook\n",
    "\n",
    "# Method 2: Using conda (if available)\n",
    "# Note: This works if JupyterLab is running in a conda environment\n",
    "!conda install -c conda-forge seaborn plotly scikit-learn -y\n",
    "\n",
    "# Method 3: Using mamba (faster conda alternative)\n",
    "!mamba install -c conda-forge seaborn plotly scikit-learn -y\n",
    "\n",
    "# Method 4: Installing in the correct environment\n",
    "# This is crucial when you have multiple Python environments\n",
    "\n",
    "# Check current environment\n",
    "import os\n",
    "print(f\"Current Python executable: {sys.executable}\")\n",
    "print(f\"Current working directory: {os.getcwd()}\")\n",
    "\n",
    "# Install to current environment\n",
    "!{sys.executable} -m pip install --user package_name"
   ]
  },
  {
   "cell_type": "markdown",
   "id": "8ff5be6d-fde5-4f1a-95be-169fe9c001d6",
   "metadata": {},
   "source": [
    "### 5.5 Managing Virtual Environments\n",
    "a virtual environment is an isolated Python workspace that allows you to install and manage packages separately from the system-wide Python installation. Using a virtual environment ensures that:\n",
    "* Projects do not interfere with each other's dependencies.\n",
    "* You can safely test or upgrade packages without breaking other work.\n",
    "* Your Jupyter Notebook or Colab environment remains clean and reproducible.\n",
    "\n",
    "This code introduces virtual environment best practices and demonstrates how to create and inspect a requirements.txt file in a Python or Jupyter environment:\n"
   ]
  },
  {
   "cell_type": "code",
   "execution_count": 9,
   "id": "8fe16585-bce4-4809-977e-7b6902629b18",
   "metadata": {},
   "outputs": [
    {
     "name": "stdout",
     "output_type": "stream",
     "text": [
      "Virtual Environment Best Practices:\n",
      "1. Create separate environments for different projects\n",
      "2. Use requirements.txt to track dependencies\n",
      "3. Activate the correct environment before starting Jupyter\n",
      "\n",
      "Current environment requirements:\n",
      "annotated-types==0.7.0\n",
      "anyio==3.7.1\n",
      "argon2-cffi==23.1.0\n",
      "argon2-cffi-bindings==21.2.0\n",
      "arrow==1.3.0\n",
      "asttokens==3.0.0\n",
      "async-lru==2.0.4\n",
      "attrs==24.3.0\n",
      "babel==2.16.0\n",
      "beautifulsoup4==4.12.3\n",
      "bleach==6.2.0\n",
      "blinker==1.8.2\n",
      "certifi==2024.12.14\n",
      "cffi==1.17.1\n",
      "charset-normalizer==3.4.0\n",
      "click==8.1.7\n",
      "colorama==0.4.6\n",
      "comm==0.2.2\n",
      "contourpy==1.3.2\n",
      "cycler==0.12.1\n",
      "debugpy==1.8.11\n",
      "decorator==5.1.1\n",
      "defusedxml==0.7.1\n",
      "executing==2.1.0\n",
      "fastapi==0.104.1\n",
      "fastjsonschema==2.21.1\n",
      "Flask==2.3.3\n",
      "Flask-Cors==4.0.0\n",
      "fonttools==4.58.5...\n"
     ]
    },
    {
     "name": "stderr",
     "output_type": "stream",
     "text": [
      "WARNING: Ignoring invalid distribution ~upyterlab (C:\\Python312\\Lib\\site-packages)\n"
     ]
    }
   ],
   "source": [
    "# Understanding virtual environments\n",
    "print(\"Virtual Environment Best Practices:\")\n",
    "print(\"1. Create separate environments for different projects\")\n",
    "print(\"2. Use requirements.txt to track dependencies\")\n",
    "print(\"3. Activate the correct environment before starting Jupyter\")\n",
    "\n",
    "# Example of creating a requirements.txt from current environment\n",
    "!pip freeze > requirements.txt\n",
    "\n",
    "# Read and display the requirements\n",
    "try:\n",
    "    with open('requirements.txt', 'r') as f:\n",
    "        requirements = f.read()\n",
    "    print(\"\\nCurrent environment requirements:\")\n",
    "    print(requirements[:500] + \"...\" if len(requirements) > 500 else requirements)\n",
    "except FileNotFoundError:\n",
    "    print(\"No requirements.txt file found\")"
   ]
  },
  {
   "cell_type": "markdown",
   "id": "8ba9d82a-4529-4b32-a784-a379eb31ec63",
   "metadata": {},
   "source": [
    "## 6. Basic Operations and Examples\n",
    "Let's explore basic operations that work in both environments:\n",
    "\n",
    "### 6.1 Working with Data\n",
    "This code generates and displays a sample time-series dataset using NumPy and pandas, commonly used for data analysis or visualization practice.\n"
   ]
  },
  {
   "cell_type": "code",
   "execution_count": 10,
   "id": "2c36ccde-9a27-4f3d-9bda-c5a637cfbb46",
   "metadata": {},
   "outputs": [
    {
     "name": "stdout",
     "output_type": "stream",
     "text": [
      "Sample Dataset:\n",
      "        date       value category\n",
      "0 2023-01-01  100.496714        A\n",
      "1 2023-01-02  100.358450        B\n",
      "2 2023-01-03  101.006138        A\n",
      "3 2023-01-04  102.529168        A\n",
      "4 2023-01-05  102.295015        C\n",
      "\n",
      "Dataset shape: (100, 3)\n"
     ]
    }
   ],
   "source": [
    "# Create sample data\n",
    "import numpy as np\n",
    "import pandas as pd\n",
    "import matplotlib.pyplot as plt\n",
    "\n",
    "# Generate sample dataset\n",
    "np.random.seed(42)\n",
    "dates = pd.date_range('2023-01-01', periods=100, freq='D')\n",
    "values = np.cumsum(np.random.randn(100)) + 100\n",
    "\n",
    "df = pd.DataFrame({\n",
    "    'date': dates,\n",
    "    'value': values,\n",
    "    'category': np.random.choice(['A', 'B', 'C'], 100)\n",
    "})\n",
    "\n",
    "print(\"Sample Dataset:\")\n",
    "print(df.head())\n",
    "print(f\"\\nDataset shape: {df.shape}\")"
   ]
  },
  {
   "cell_type": "markdown",
   "id": "6376c1c7-c6a7-4e32-b061-2aa4a3b42187",
   "metadata": {},
   "source": [
    "### 6.2 Data Visualization\n",
    "This code generates two side-by-side visualizations using matplotlib to explore a sample dataset (df), providing insights into time series trends and categorical distribution.\n"
   ]
  },
  {
   "cell_type": "code",
   "execution_count": 11,
   "id": "087261bb-e817-4c81-b4b3-ad4baa1836c8",
   "metadata": {},
   "outputs": [
    {
     "data": {
      "image/png": "[encoded data removed]",
      "text/plain": [
       "<Figure size 1200x400 with 2 Axes>"
      ]
     },
     "metadata": {},
     "output_type": "display_data"
    }
   ],
   "source": [
    "# Create visualizations\n",
    "plt.figure(figsize=(12, 4))\n",
    "\n",
    "# Time series plot\n",
    "plt.subplot(1, 2, 1)\n",
    "plt.plot(df['date'], df['value'])\n",
    "plt.title('Time Series Data')\n",
    "plt.xlabel('Date')\n",
    "plt.ylabel('Value')\n",
    "plt.xticks(rotation=45)\n",
    "\n",
    "# Category distribution\n",
    "plt.subplot(1, 2, 2)\n",
    "df['category'].value_counts().plot(kind='bar')\n",
    "plt.title('Category Distribution')\n",
    "plt.xlabel('Category')\n",
    "plt.ylabel('Count')\n",
    "\n",
    "plt.tight_layout()\n",
    "plt.show()"
   ]
  },
  {
   "cell_type": "markdown",
   "id": "6e3936a7-b7ce-4d13-9c9d-96e9cdd56ddc",
   "metadata": {},
   "source": [
    "### 6.3 Statistical Analysis\n",
    "This code performs basic statistical analysis on the df DataFrame, summarizing the numerical column 'value' and exploring category-based differences.\n"
   ]
  },
  {
   "cell_type": "code",
   "execution_count": 13,
   "id": "3b9001f1-fc72-4c51-ae82-c45a894cb071",
   "metadata": {},
   "outputs": [
    {
     "name": "stdout",
     "output_type": "stream",
     "text": [
      "Statistical Summary:\n",
      "count    100.000000\n",
      "mean      93.594818\n",
      "std        4.643998\n",
      "min       87.753344\n",
      "25%       90.132492\n",
      "50%       91.727866\n",
      "75%       95.940029\n",
      "max      104.480611\n",
      "Name: value, dtype: float64\n",
      "\n",
      "Correlation between date and value: -0.800\n",
      "\n",
      "Statistics by Category:\n",
      "               mean       std  count\n",
      "category                            \n",
      "A         93.933355  5.040641     34\n",
      "B         94.168522  4.683877     30\n",
      "C         92.797001  4.221481     36\n"
     ]
    }
   ],
   "source": [
    "# Basic statistical analysis\n",
    "print(\"Statistical Summary:\")\n",
    "print(df['value'].describe())\n",
    "\n",
    "# Convert dates to numeric format for correlation\n",
    "date_numeric = df['date'].map(pd.Timestamp.toordinal)\n",
    "correlation = date_numeric.corr(df['value'])\n",
    "print(f\"\\nCorrelation between date and value: {correlation:.3f}\")\n",
    "\n",
    "# Group by category\n",
    "category_stats = df.groupby('category')['value'].agg(['mean', 'std', 'count'])\n",
    "print(\"\\nStatistics by Category:\")\n",
    "print(category_stats)\n"
   ]
  },
  {
   "cell_type": "markdown",
   "id": "75e1fe3f-6a24-4435-acab-2c9845a254c9",
   "metadata": {},
   "source": [
    "### 6.4 Working with External Data\n",
    "This code explains common methods to load external data into a Python environment (JupyterLab or Google Colab) and demonstrates loading a sample dataset from a public URL.\n"
   ]
  },
  {
   "cell_type": "code",
   "execution_count": 14,
   "id": "3221e238-ab7b-4a1d-966d-b68473cd7138",
   "metadata": {},
   "outputs": [
    {
     "name": "stdout",
     "output_type": "stream",
     "text": [
      "Methods to load external data:\n",
      "1. Local files (JupyterLab): pd.read_csv('local_file.csv')\n",
      "2. Google Drive (Colab): pd.read_csv('/content/drive/MyDrive/file.csv')\n",
      "3. URLs (both): pd.read_csv('https://example.com/data.csv')\n",
      "4. APIs (both): Using requests library\n",
      "\n",
      "Loaded Iris dataset: (150, 5)\n",
      "   sepal_length  sepal_width  petal_length  petal_width species\n",
      "0           5.1          3.5           1.4          0.2  setosa\n",
      "1           4.9          3.0           1.4          0.2  setosa\n",
      "2           4.7          3.2           1.3          0.2  setosa\n",
      "3           4.6          3.1           1.5          0.2  setosa\n",
      "4           5.0          3.6           1.4          0.2  setosa\n"
     ]
    }
   ],
   "source": [
    "# Example of reading data from different sources\n",
    "# Note: This would work differently in Colab vs JupyterLab\n",
    "\n",
    "print(\"Methods to load external data:\")\n",
    "print(\"1. Local files (JupyterLab): pd.read_csv('local_file.csv')\")\n",
    "print(\"2. Google Drive (Colab): pd.read_csv('/content/drive/MyDrive/file.csv')\")\n",
    "print(\"3. URLs (both): pd.read_csv('https://example.com/data.csv')\")\n",
    "print(\"4. APIs (both): Using requests library\")\n",
    "\n",
    "# Example with a public dataset\n",
    "try:\n",
    "    # This URL provides sample data\n",
    "    url = \"https://raw.githubusercontent.com/mwaskom/seaborn-data/master/iris.csv\"\n",
    "    iris_df = pd.read_csv(url)\n",
    "    print(f\"\\nLoaded Iris dataset: {iris_df.shape}\")\n",
    "    print(iris_df.head())\n",
    "except Exception as e:\n",
    "    print(f\"Could not load external data: {e}\")"
   ]
  },
  {
   "cell_type": "code",
   "execution_count": null,
   "id": "741fa17e-b16f-499f-a59d-b97a3374841e",
   "metadata": {},
   "outputs": [],
   "source": []
  }
 ],
 "metadata": {
  "kernelspec": {
   "display_name": "Python 3 (ipykernel)",
   "language": "python",
   "name": "python3"
  },
  "language_info": {
   "codemirror_mode": {
    "name": "ipython",
    "version": 3
   },
   "file_extension": ".py",
   "mimetype": "text/x-python",
   "name": "python",
   "nbconvert_exporter": "python",
   "pygments_lexer": "ipython3",
   "version": "3.13.6"
  }
 },
 "nbformat": 4,
 "nbformat_minor": 5
}
