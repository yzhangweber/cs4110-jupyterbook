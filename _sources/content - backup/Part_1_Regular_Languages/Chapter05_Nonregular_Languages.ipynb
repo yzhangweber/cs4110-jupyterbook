{
 "cells": [
  {
   "cell_type": "markdown",
   "metadata": {
    "id": "LmVGqzOXotQW"
   },
   "source": [
    "# Nonregular Languages"
   ]
  },
  {
   "cell_type": "markdown",
   "metadata": {
    "id": "xB6iBrGeo6JO"
   },
   "source": [
    "## Learning Objectives\n",
    "After completing this chapter, you will be able to:\n",
    "\n",
    "* Understand the intuition behind why nonregular languages exist and what properties they require.\n",
    "* Understand and use the pigeonhole principle.\n",
    "* Prove certain languages are nonregular by applying the pumping lemma."
   ]
  },
  {
   "cell_type": "markdown",
   "metadata": {
    "id": "uDUK2a2vpX48"
   },
   "source": [
    "## 1. Not All Languages Are Regular"
   ]
  },
  {
   "cell_type": "markdown",
   "metadata": {
    "id": "6CJTt-sMIM3L"
   },
   "source": [
    "The regular languages are languages that can be recognized by finite automata. A critical idea with finite automata is they are, well, *finite*, which means they have a finite number of states and can be viewed as only able to remember a finite number of things.\n",
    "\n",
    "If we wanted a finite automata that recognized the language consisting of the single word $ab$ that would be easy enough to diagram.\n",
    "\n",
    "STATE DIAGRAM GOES HERE\n",
    "\n",
    "If we wanted a finite automata that recognized the two words $ab$ or $aabb$ we could do that too.\n",
    "\n",
    "STATE DIAGRAM GOES HERE\n",
    "\n",
    "In fact, for any finite $k$, if we wanted a finite automata that recognized all words of the form $a^{n}b^{n}$ with $n \\leq k$ that would be possible.\n",
    "\n",
    "STATE DIAGRAM GOES HERE\n",
    "\n",
    "For any of these, the machine needs to \"remember\" the number of $a$'s it has read in order to make sure it then reads the same number of $b$'s, but only up to a finite number of $a$'s. So, the amount of memory it needs in order to remember the number of $a$'s is bounded - in other words, it's *finite*.\n",
    "\n",
    "However, suppose we wanted to build a finite automata that recognized all words of the form $a^{n}b^{n}$ for *any* possible value of $n$. Well, in this case there would be no bound on the number of $a$'s the machine might need to remember, and so there would be no bound on the amount of \"memory\" the machine would need to have. This, it turns out, is an insurmountable problem, and it's not possible to build a finite automaton that recognizes that language. In other words, the language\n",
    "\n",
    "<center>\n",
    "  $L = \\{a^{n}b^{n} | n \\geq 0\\}$\n",
    "</center>\n",
    "\n",
    "is *not* a regular language, and therefore nonregular languages exist. Now, the explanation given here is meant to be intuitive, and not a formal proof. We'll return and give a formal proof later in this section."
   ]
  },
  {
   "cell_type": "markdown",
   "metadata": {
    "id": "6k7gQxO7NvrP"
   },
   "source": [
    "## 2. The Pigeonhole Principle"
   ]
  },
  {
   "cell_type": "markdown",
   "metadata": {
    "id": "TWSRScyzNzi_"
   },
   "source": [
    "The proof that our language $L = \\{a^{n}b^{n} | n \\geq 0\\}$ is nonregular will rely on something called *the pumping lemma*, which fundamentally relies upon *the pigeonhole principle* - one of the fundamentally straightforward ideas in mathematics, that nevertheless is at the heart of many deep and nonobvious results.\n",
    "\n",
    "The pigeonhole principle states that if you have more items than categories to put them in, at least one category must contain more than one item. The reason it's called the \"pigeonhole principle\" is that if you've got a set of pigeons (your items), and you must put them all into holes (your categories), then if you've got more pigeons than holes at least one hole must have more than one pigeon. It's a particular case of the general property.\n",
    "\n",
    "<center>\n",
    "  <img src=\"https://drive.google.com/uc?export=view&id=1j0uBNrTor53gR0HvmWPjplPt_lZiM-Ap\" height = \"400\" alt=\"Pigeons in Holes\">\n",
    "</center>\n",
    "\n",
    "As another example, suppose you're at the grocery store and you've got three fruits and two bags, and you need to put the fruits into the bags. At least one of those bags will have more than one fruit in it. I'm sure you can pretty easily come up with other examples."
   ]
  },
  {
   "cell_type": "markdown",
   "metadata": {
    "id": "U23HNjZ_MPV7"
   },
   "source": [
    "## 3. The Pumping Lemma  "
   ]
  },
  {
   "cell_type": "markdown",
   "metadata": {
    "id": "nKd0HjXTMegw"
   },
   "source": [
    "Suppose we have a finite automaton with $5$ states, and we provide it with the input string $aaaaa$. Suppose it starts in state $s_{0}$, transitions to state $s_{2}$ after reading the first $a$, transitions to $s_{4}$ after reading the second $a$, transitions to $s_{3}$ after reading the third  $a$, and then transitions to $s_{1}$ after reading the fourth $a$.\n",
    "\n",
    "DIAGRAM HERE\n",
    "\n",
    "It has now been in each of its possible states, and when it reads the fifth $a$ it has no choice but to return to a state in which it's already been.\n",
    "\n",
    "Generalizing, suppose we have a finite automaton with $N$ states, and we provide it an input string $c$ with $N$ or more characters. As it reads each character from the input, the finite automaton transitions accordingly. After reading $k$ characters the finite automaton has been in at most $k+1$ distinct states (remember it begins in the start state before reading any characters), and after it reads $N$ characters it must, by the pigeonhole principle, have been in at least one state more than one time.\n",
    "\n",
    "In other words, while reading $N$ input characters, the finite automaton must at some point *loop back* to a previous state. We can illustrate this with a dgrawing like the one below, where each circle in the drawing represents a state of the finite automaton as it reads its input, and each arrow represents a transition after reading an input character:\n",
    "\n",
    "There is a sequence of transitions before it reaches the loop, and then a sequence of transitions as it goes around the loop, and then a sequence of transitions after the loop. Each of these transitions corresponds with a character read from the input string, and we can similarly break the input string into three sections:\n",
    "\n",
    "<center>\n",
    "  $c = \\underbrace{c_{1}c_{2} \\cdots c_{k-1}}_{\\text{Before the loop}}\\underbrace{c_{k}c_{k+1} \\cdots c_{l-1}}_{\\text{The loop}}\\underbrace{c_{c_{l}}c_{l+1} \\cdots c_{N}}_{\\text{After the loop}}$.\n",
    "</center>\n",
    "\n",
    "Now, if we were to change the input string by inserting another loop sequence after the first it would loop like:\n",
    "\n",
    "<center>\n",
    "  $c' = \\underbrace{c_{1}c_{2} \\cdots c_{k-1}}_{\\text{Before the loop}}\\underbrace{c_{k}c_{k+1} \\cdots c_{l-1}}_{\\text{Loop 1}}\\underbrace{c_{k}c_{k+1} \\cdots c_{l-1}}_{\\text{Loop 2}}\\underbrace{c_{c_{l}}c_{l+1} \\cdots c_{N}}_{\\text{After the loop}}$,\n",
    "</center>\n",
    "\n",
    "and if this were given to the finite automaton as input it would go around the state loop twice but end up at exactly the same final state after reading the entire string.\n",
    "\n",
    "DIAGRAM HERE\n",
    "\n",
    "If the final state after reading $c$ were an accepting state, then the final state would be that same accepting state after reading $c'$. If the final state after reading $c$ were not an accepting state, then the final state would be that same non-accepting state after reading $c'$. In other words, $c'$ is a word in the language recognized by our finite automaton if and only if $c$ is. This is the fundamental idea behind the *pumping lemma*.\n",
    "\n",
    "---\n",
    "\n",
    "**The Pumping Lemma** - If a finite automaton has $N$ states and $w$ is a word in the language recognized by the finite automaton with $len(w) \\geq N$, then $w$ can be written as\n",
    "\n",
    "<center>\n",
    "  $w = xyz$\n",
    "</center>\n",
    "\n",
    "where $x,y,z$ are substrings of $w$, $len(xy) < N$, $len(y) > 0$, and every string of the form\n",
    "\n",
    "<center>\n",
    "  $xy^{n}z$\n",
    "</center>\n",
    "\n",
    "is *also* a word in the language recognized by the finite automaton.\n",
    "\n",
    "---\n",
    "\n",
    "The pumping lemma is a powerful tool for proving a language is not regular."
   ]
  },
  {
   "cell_type": "markdown",
   "metadata": {
    "id": "OQlBgaCEbYxJ"
   },
   "source": [
    "## 4. Proof that $L = \\{a^{n}b^{n} | n \\geq 0\\}$ is not regular."
   ]
  },
  {
   "cell_type": "markdown",
   "metadata": {
    "id": "PgF7KPH6bqqI"
   },
   "source": [
    "We'll now use the pumping lemma to prove the language $L = \\{a^{n}b^{n} | n \\geq 0\\}$ introduced in Section 1.5.1 is not regular.\n",
    "\n",
    "Suppose $L$ were regular. Then there would be some finite automaton that recognized it, and this finite automaton would have some finite number of states. Suppose this finite number of states is $N$.\n",
    "\n",
    "Take the string $w = a^{N+1}b^{N+1}$. This is a word in $L$, and by the pumping lemma we can write $w$ as $a^{j}a^{k}a^{l}b^{N+1}$, where $j + k + l = N+1$, $k > 0$, $a^{j}$ corresponds with $x$ from the pumping lemma, $a^{k}$ corresponds with $y$, and $a^{l}b^{N+1}$ corresponds with $z$. In this case by the pumping lemma the string $a^{j}(a^{k})^{2}a^{l}b^{N+1} = a^{N+1+k}b^{N+1}$ must also be a word in $L$. However, as $k > 0$ this doesn't have the right form to be a word in $L$, and thus we have a contradiction. Because we have a contradiction, our original assumption - that $L$ is a regular language - must be false."
   ]
  },
  {
   "cell_type": "markdown",
   "metadata": {
    "id": "TCPeiiCMdnhS"
   },
   "source": [
    "## 5. Practice Exercises"
   ]
  },
  {
   "cell_type": "markdown",
   "metadata": {
    "id": "ZD58Udz5dwkn"
   },
   "source": [
    "**Exercise 1**: Prove that the language $L = \\{a^{n}b^{n+1} | n \\geq 0\\}$ is not regular."
   ]
  },
  {
   "cell_type": "markdown",
   "metadata": {
    "id": "gCU1zCL7enXP"
   },
   "source": [
    "**Exercise 2**: Prove that the language $L = \\{a^{n}b^{2n} | n \\geq 0\\}$ is not regular."
   ]
  },
  {
   "cell_type": "markdown",
   "metadata": {
    "id": "_5ocYT0uetaG"
   },
   "source": [
    "**Exercise 3**: Prove that the language $L = \\{a^{n}b^{n}a^{m} | n,m \\geq 0\\}$ is not regular."
   ]
  },
  {
   "cell_type": "markdown",
   "metadata": {
    "id": "vZq_XfBpLNCm"
   },
   "source": [
    "## 6. Further Reading"
   ]
  },
  {
   "cell_type": "markdown",
   "metadata": {
    "id": "V6_A_1aLLQiL"
   },
   "source": [
    "* \"Introduction to the Theory of Computation\" (Third Edition) by Michael Sipser: *Section 1.4 - Nonregular Languages*\n",
    "* \"Automata Theory, Languages, and Computation\" (Third Edition) by John. E Hopcraft, Rajeev Matwani, and Jeffrey D. Ullman: *Section 4.1 - Proving Languages Not to Be Regular*\n",
    "* \"Introduction to Computer Theory\" (Second Edition) by Daniel I.A. Cohen: *Chapter 10 - Nonregular Language*\n",
    "* [What is the Pumping Lemma](https://youtu.be/qtnNyUlO6vU?si=lv7g5JMLkWvzz-OX) Video from Lydia on Youtube"
   ]
  }
 ],
 "metadata": {
  "colab": {
   "provenance": []
  },
  "kernelspec": {
   "display_name": "Python 3 (ipykernel)",
   "language": "python",
   "name": "python3"
  },
  "language_info": {
   "codemirror_mode": {
    "name": "ipython",
    "version": 3
   },
   "file_extension": ".py",
   "mimetype": "text/x-python",
   "name": "python",
   "nbconvert_exporter": "python",
   "pygments_lexer": "ipython3",
   "version": "3.13.6"
  }
 },
 "nbformat": 4,
 "nbformat_minor": 4
}
