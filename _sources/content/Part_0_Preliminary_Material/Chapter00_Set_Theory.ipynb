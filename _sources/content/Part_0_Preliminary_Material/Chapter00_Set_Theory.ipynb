{
 "cells": [
  {
   "cell_type": "markdown",
   "metadata": {
    "id": "LmVGqzOXotQW"
   },
   "source": [
    "# Set Theory"
   ]
  },
  {
   "cell_type": "markdown",
   "metadata": {
    "id": "6YQqpk3g5sI2"
   },
   "source": [
    "Before we discuss languages and computability, we'll want some foundational understanding of *set theory*, which we'll use frequently in the rest of this book."
   ]
  },
  {
   "cell_type": "markdown",
   "metadata": {
    "id": "vdEjhWWv5TIu"
   },
   "source": [
    "After completing this chapter you will:\n",
    "\n",
    "* Know the definition of a set.\n",
    "* Understand set containment and equality.\n",
    "* Understand the basic set operations like union and intersection."
   ]
  },
  {
   "cell_type": "markdown",
   "metadata": {
    "id": "bcZivS4M5i7P"
   },
   "source": [
    "## 1. Basic Definitions"
   ]
  },
  {
   "cell_type": "markdown",
   "metadata": {
    "id": "cLu365S1zRCk"
   },
   "source": [
    "The fundamental object in mathematics - that serves as the basis for all other mathematical structures and indeed all of mathematics itself - is the *set*.\n",
    "\n",
    "---\n",
    "\n",
    "**Definition** - A *set* is an unordered collection of distinct objects, called *elements* or *members*. A set is said to *contain* its elements. We write $a \\in A$ to denote that $a$ is an element of the set $A$. The notation $a \\notin A$ denotes that $a$ is not an element of the set $A$.\n",
    "\n",
    "*Note* - The elements within a set must be *distinct*, and so we can't have repeated elements. So, the collection of numbers $\\{1,2,3,4,5\\}$ would be a set, but the collection $\\{1,1,2,3,5\\}$ would not be, as $1$ appears twice.\n",
    "\n",
    "---"
   ]
  },
  {
   "cell_type": "markdown",
   "metadata": {
    "id": "wsiCZf_a4WfH"
   },
   "source": [
    "Some examples of sets include:\n",
    "* The set of all vowels in the English alphabet: $\\{a,e,i,o,u\\}$.\n",
    "* The set of all living former U.S. Presidents: $\\{Clinton,Bush,Obama,Biden\\}$\n",
    "* The set of all positive integers less than $5$: $\\{1,2,3,4\\}$.\n",
    "* The set of all integers, typically written $\\mathbb{Z}$.\n",
    "* The set of all rational numbers, typically written $\\mathbb{Q}$.\n",
    "* The set of all real numbers, typically written $\\mathbb{R}$.\n",
    "* The set of all complex numbers, typcially written $\\mathbb{C}$."
   ]
  },
  {
   "cell_type": "markdown",
   "metadata": {
    "id": "3J_xlJCsAq2F"
   },
   "source": [
    "One of the fundamental data structures in Python is the set. To specify a set we can use curly braces or the $set()$ constructor. The empty set must be created with $set()$, not $\\{\\}$."
   ]
  },
  {
   "cell_type": "code",
   "execution_count": 1,
   "metadata": {
    "id": "3LNQ7rmPAr0t"
   },
   "outputs": [
    {
     "name": "stdout",
     "output_type": "stream",
     "text": [
      "{1, 2, 3, 4}\n"
     ]
    }
   ],
   "source": [
    "# Using curly braces\n",
    "my_set = {1, 2, 3}\n",
    "\n",
    "# Using the set() constructor\n",
    "another_set = set([1, 2, 2, 3, 4])  # duplicates removed\n",
    "print(another_set)  # {1, 2, 3, 4}\n",
    "\n",
    "# Empty set must be created with set(), not {}\n",
    "empty_set = set()"
   ]
  },
  {
   "cell_type": "markdown",
   "metadata": {
    "id": "KcPG7G6wteKX"
   },
   "source": [
    "We can add or remove elements from a set using the *add* and *remove* methods. The *remove* method will throw an error if you ask to remove an element that isn't in the set. The *discard* method works just like remove, except it doesn't throw an error in that case."
   ]
  },
  {
   "cell_type": "code",
   "execution_count": 2,
   "metadata": {
    "id": "kmYr8bj3txAG"
   },
   "outputs": [
    {
     "data": {
      "text/plain": [
       "{1, 2, 3, 4}"
      ]
     },
     "execution_count": 2,
     "metadata": {},
     "output_type": "execute_result"
    }
   ],
   "source": [
    "s = {1, 2, 3}\n",
    "\n",
    "# Add an element\n",
    "s.add(4)  # {1, 2, 3, 4}\n",
    "s"
   ]
  },
  {
   "cell_type": "code",
   "execution_count": 3,
   "metadata": {
    "id": "rbStUamvudyu"
   },
   "outputs": [
    {
     "data": {
      "text/plain": [
       "{1, 3, 4}"
      ]
     },
     "execution_count": 3,
     "metadata": {},
     "output_type": "execute_result"
    }
   ],
   "source": [
    "# Remove an element\n",
    "s.remove(2)  # KeyError if 2 not found\n",
    "s"
   ]
  },
  {
   "cell_type": "markdown",
   "metadata": {
    "id": "aIo4ppERug5x"
   },
   "source": [
    "If we run that *remove* method again, we get:"
   ]
  },
  {
   "cell_type": "code",
   "execution_count": 4,
   "metadata": {
    "id": "XMoao0EJukZ3"
   },
   "outputs": [
    {
     "ename": "KeyError",
     "evalue": "2",
     "output_type": "error",
     "traceback": [
      "\u001b[31m---------------------------------------------------------------------------\u001b[39m",
      "\u001b[31mKeyError\u001b[39m                                  Traceback (most recent call last)",
      "\u001b[36mCell\u001b[39m\u001b[36m \u001b[39m\u001b[32mIn[4]\u001b[39m\u001b[32m, line 2\u001b[39m\n\u001b[32m      1\u001b[39m \u001b[38;5;66;03m# Remove an element\u001b[39;00m\n\u001b[32m----> \u001b[39m\u001b[32m2\u001b[39m \u001b[43ms\u001b[49m\u001b[43m.\u001b[49m\u001b[43mremove\u001b[49m\u001b[43m(\u001b[49m\u001b[32;43m2\u001b[39;49m\u001b[43m)\u001b[49m  \u001b[38;5;66;03m# KeyError if 2 not found\u001b[39;00m\n\u001b[32m      3\u001b[39m s\n",
      "\u001b[31mKeyError\u001b[39m: 2"
     ]
    }
   ],
   "source": [
    "# Remove an element\n",
    "s.remove(2)  # KeyError if 2 not found\n",
    "s"
   ]
  },
  {
   "cell_type": "markdown",
   "metadata": {
    "id": "kbLE9bNKunVx"
   },
   "source": [
    "Because $2$ is no longer in the set. However, if instead we use the $discard$ method, it works the same, except without the error."
   ]
  },
  {
   "cell_type": "code",
   "execution_count": null,
   "metadata": {
    "id": "8TKp-ROPuwwr"
   },
   "outputs": [],
   "source": [
    "s = {1, 2, 3}\n",
    "\n",
    "# Discard an element\n",
    "s.discard(2) # No error if 2 not found\n",
    "s"
   ]
  },
  {
   "cell_type": "code",
   "execution_count": null,
   "metadata": {
    "id": "B1Q4k8Muu0Y9"
   },
   "outputs": [],
   "source": [
    "# Discard an element\n",
    "s.discard(2) # No error if 2 not found\n",
    "s"
   ]
  },
  {
   "cell_type": "markdown",
   "metadata": {
    "id": "TFtg_OmU90vR"
   },
   "source": [
    "## 2. Containment, Equality, and Cardinality"
   ]
  },
  {
   "cell_type": "markdown",
   "metadata": {
    "id": "sE1_er9x47wH"
   },
   "source": [
    "We say that two sets are *equal* if and only if they have the same elements. We write $A = B$ if the set $A$ equals the set $B$. A set $A$ is a *subset* of $B$ if every element of $A$ is also an element of $B$, and we write this as $A \\subseteq B$. A set $A$ is a *superset* of $B$ if every element of $B$ is also an element of $A$, and we write this as $A \\supseteq B$. Note that if $A$ is both a subset and superset of $B$, then $A = B$. Sometimes we want to denote that $A$ is a proper subset of $B$, which means $A$ is a subset of $B$ and $A \\neq B$. In this case, we write it as $A \\subset B$."
   ]
  },
  {
   "cell_type": "markdown",
   "metadata": {
    "id": "kabTIpPk5GaE"
   },
   "source": [
    "**Examples** - The set of all positive integers less than $5$ is a subset of the integers, $\\{1,2,3,4\\} \\subseteq \\mathbb{Z}$. The set of integers is a subset of the rational numbers, $\\mathbb{Z} \\subseteq \\mathbb{Q}$, the set of rational numbers is a subset of the real numbers, $\\mathbb{Q} \\subseteq \\mathbb{R}$, and the set of real numbers is a subset of the complex numbers, $\\mathbb{R} \\subseteq \\mathbb{C}$."
   ]
  },
  {
   "cell_type": "markdown",
   "metadata": {
    "id": "DcLY6ecC5wO_"
   },
   "source": [
    "It's possible for a set to contain other sets. For example, the set of all sets of distinct positive numbers that sum to $5$ would be $\\{\\{5\\},\\{4,1\\},\\{3,2\\}\\}$. It's also possible for a set to contain *nothing*. This is called the empty set, denoted $\\emptyset$."
   ]
  },
  {
   "cell_type": "markdown",
   "metadata": {
    "id": "WVXZGagn55Pu"
   },
   "source": [
    "The number of elements in a set is called the *cardinality* of a set. If the set is finite this is straightforward. However, if the set is infinite the question is quite subtle - there are actually different degrees of infinity! In particular, regarding our examples above, the cardinality of the integers is equal to the cardinality of the rational numbers, and the cardinality of the real numbers is equal to the cardinality of the complex numbers, but the cardinality of the real numbers is *greater* than the cardinality of the rational numbers! We won't concern ourselves with the different infinite cardinals much in this book, but they will come up (in disguise) when we discuss decidability in Turing Machines."
   ]
  },
  {
   "cell_type": "markdown",
   "metadata": {
    "id": "Pm2jwgYJ6Pnl"
   },
   "source": [
    "**Examples** -\n",
    "* The cardinality of the set of vowels is $5$.\n",
    "* The cardinality of the set of U.S. states is $50$.\n",
    "* The cardinality of the set of integers is infinite, or more precisely *countably infinite*."
   ]
  },
  {
   "cell_type": "markdown",
   "metadata": {
    "id": "Jb-5l3e-6eU7"
   },
   "source": [
    "The *powerset* of a set is the set of all its subsets. So, for example, the subsets of $A = \\{1,2,3\\}$ are $\\emptyset$, $\\{1\\}$, $\\{2\\}$, $\\{3\\}$, $\\{1,2\\}$, $\\{1,3\\}$, $\\{2,3\\}$, $\\{1,2,3\\}$, and so its powerset, written $2^{A}$, is $\\{\\emptyset,\\{1\\},\\{2\\},\\{3\\},\\{1,2\\},\\{1,3\\},\\{2,3\\},\\{1,2,3\\}\\}$. The notation is based on the fact that if the cardinality of $A$, $|A|$, is finite, then the cardinality of its powerset is $2^{|A|}$. In particular, we note that for our example $|A| = 3$, while $|2^{A}| = 8$."
   ]
  },
  {
   "cell_type": "markdown",
   "metadata": {
    "id": "aZ0AVhWptVKX"
   },
   "source": [
    "In Python, we can check if an element is in a set with the *in* operator. This returns a boolean (True of False)"
   ]
  },
  {
   "cell_type": "code",
   "execution_count": null,
   "metadata": {
    "id": "oamWvWjnvEE1"
   },
   "outputs": [],
   "source": [
    "s = {1, 2, 3}\n",
    "1 in s"
   ]
  },
  {
   "cell_type": "code",
   "execution_count": null,
   "metadata": {
    "id": "_TPFlDG97hht"
   },
   "outputs": [],
   "source": [
    "4 in s"
   ]
  },
  {
   "cell_type": "markdown",
   "metadata": {
    "id": "K125cOU-vNH9"
   },
   "source": [
    "We can also check if a set is a subset of another with the *issubset* method."
   ]
  },
  {
   "cell_type": "code",
   "execution_count": null,
   "metadata": {
    "id": "w3xczIRivcY7"
   },
   "outputs": [],
   "source": [
    "t = {'a','b','c'}\n",
    "u = {'a','b'}\n",
    "u.issubset(t)"
   ]
  },
  {
   "cell_type": "code",
   "execution_count": null,
   "metadata": {
    "id": "xdSYk1WCvoCm"
   },
   "outputs": [],
   "source": [
    "t.issubset(u)"
   ]
  },
  {
   "cell_type": "markdown",
   "metadata": {
    "id": "XUk6mSo6vvbE"
   },
   "source": [
    "We can use the \"==\" operator to check for equality of two sets."
   ]
  },
  {
   "cell_type": "code",
   "execution_count": null,
   "metadata": {
    "id": "GJ0TU4XAv5hC"
   },
   "outputs": [],
   "source": [
    "s = {1,2,3}\n",
    "t = {3,2,1}\n",
    "u = {1,2,4}\n",
    "\n",
    "print(s == t)"
   ]
  },
  {
   "cell_type": "markdown",
   "metadata": {
    "id": "OK6zyS33wFSS"
   },
   "source": [
    "Note that the two sets $s$ and $t$ are equal, even though we specified their elements in a different order. In a set, order doesn't matter."
   ]
  },
  {
   "cell_type": "code",
   "execution_count": null,
   "metadata": {
    "id": "L2v08NGlwCxu"
   },
   "outputs": [],
   "source": [
    "print(s == u)"
   ]
  },
  {
   "cell_type": "markdown",
   "metadata": {
    "id": "kDgeTQWG0JuG"
   },
   "source": [
    "We can get the cardinality of a set with the $len()$ function:"
   ]
  },
  {
   "cell_type": "code",
   "execution_count": null,
   "metadata": {
    "id": "sevYZeOm0OZd"
   },
   "outputs": [],
   "source": [
    "len(s)"
   ]
  },
  {
   "cell_type": "code",
   "execution_count": null,
   "metadata": {
    "id": "qLX0IVh30QAl"
   },
   "outputs": [],
   "source": [
    "len({1,3,5,7})"
   ]
  },
  {
   "cell_type": "markdown",
   "metadata": {
    "id": "HufDc1Yk0Ubu"
   },
   "source": [
    "*Note* - All sets you'll use in Python are finite."
   ]
  },
  {
   "cell_type": "markdown",
   "metadata": {
    "id": "var2EBI3waHr"
   },
   "source": [
    "Python has no built in powerset method. In fact, in Python a set object cannot be an element of another set. The technical reason for this is set objects are mutable and therefore not hashable, but getting into what that means, why it presents a limitation, and how to work around it would take us too deep into the specifics of Python's implementation and too far away from this course."
   ]
  },
  {
   "cell_type": "markdown",
   "metadata": {
    "id": "hbUUFLIF98ci"
   },
   "source": [
    "## 3. The Cartesian Product"
   ]
  },
  {
   "cell_type": "markdown",
   "metadata": {
    "id": "ka2F6ZXx6scL"
   },
   "source": [
    "**Definition** - The *Cartesian product* of sets $A$ and $B$, denoted $A \\times B$, is the set of all ordered pairs $(a,b)$, where $a \\in A$ and $b \\in B$.\n",
    "\n",
    "$$A \\times B = \\{(a,b)| a \\in A \\land b \\in B\\}$$\n"
   ]
  },
  {
   "cell_type": "markdown",
   "metadata": {
    "id": "fuX3byrD8Ufy"
   },
   "source": [
    "*Note* - The operator $\\land$ is the \"and\" operator. So, the statement \"$a \\in A \\land b \\in B$\" means $a$ in $A$ and $b$ in $B$."
   ]
  },
  {
   "cell_type": "markdown",
   "metadata": {
    "id": "3p1-fmne7Eps"
   },
   "source": [
    "For example, the 2-dimension plane, $\\mathbb{R}^{2}$, is the Cartesian product of the real line with itself $\\mathbb{R} \\times \\mathbb{R}$."
   ]
  },
  {
   "cell_type": "markdown",
   "metadata": {
    "id": "lLAUw5cb7Iqc"
   },
   "source": [
    "**Example** - If $A = \\{1,2\\}$ and $B = \\{a,b,c\\}$, then the Cartesian product of the two sets is\n",
    "\n",
    "$$ \n",
    "A \\times B = \\{(1,a),(2,a),(1,b),(2,b),(1,c),(2,c)\\}\n",
    "$$\n"
   ]
  },
  {
   "cell_type": "markdown",
   "metadata": {
    "id": "XizHb_zs7YXE"
   },
   "source": [
    "The cardinality of the Cartesian product of $A$ and $B$ will be $|A||B|$."
   ]
  },
  {
   "cell_type": "markdown",
   "metadata": {
    "id": "YQQImn0a8coL"
   },
   "source": [
    "**Example** - $|A \\times B|$, the cardinality of $A \\times B$, is $8$, which is $|A||B| = 2 \\times 4$."
   ]
  },
  {
   "cell_type": "markdown",
   "metadata": {
    "id": "E2nyWiRMzrCv"
   },
   "source": [
    "Python has no built in function for generating the Cartesian product of two sets, but we can easily write one:"
   ]
  },
  {
   "cell_type": "code",
   "execution_count": null,
   "metadata": {
    "id": "NTOvcl7AzvK_"
   },
   "outputs": [],
   "source": [
    "def cartesian_product(A: set, B: set) -> set[tuple]:\n",
    "    \"\"\"\n",
    "    Return the Cartesian product A × B as a set of (a, b) tuples.\n",
    "    Example: cartesian_product({1,2}, {'x'}) -> {(1, 'x'), (2, 'x')}\n",
    "    \"\"\"\n",
    "    return {(a, b) for a in A for b in B}"
   ]
  },
  {
   "cell_type": "code",
   "execution_count": null,
   "metadata": {
    "id": "jzKz7mY_zv9V"
   },
   "outputs": [],
   "source": [
    "A = {1,2}\n",
    "B = {'a','b','c'}\n",
    "cartesian_product(A,B)"
   ]
  },
  {
   "cell_type": "markdown",
   "metadata": {
    "id": "uSq-284n-BYs"
   },
   "source": [
    "## 4. Set Operations"
   ]
  },
  {
   "cell_type": "markdown",
   "metadata": {
    "id": "7IMvJjED7cb6"
   },
   "source": [
    "**Definitions** - Let $A$ and $B$ be sets.\n",
    "\n",
    "The *union* of the sets $A$ and $B$, denoted $A \\cup B$, is the set that contains those elements in either $A$, or $B$, or both.\n",
    "\n",
    "The *intersection* of the sets $A$ and $B$, denoted $A \\cap B$, is the set containing those elements in both $A$ and $B$.\n",
    "\n",
    "Two sets are called *disjoint* if their intersection is the empty set.\n",
    "\n",
    "The *difference* of sets $A$ and $B$, denoted $A - B$, is the set of all elements in $A$ that are not in $B$."
   ]
  },
  {
   "cell_type": "markdown",
   "metadata": {
    "id": "eaE5gmdJ8Ifk"
   },
   "source": [
    "**Examples** - The union of the sets $A = \\{1,2,3\\}$ and $B = \\{1,3,5\\}$ is $A \\cup B = \\{1,2,3,5\\}$. Their intersection is $A \\cap B = \\{1,3\\}$. Their difference is $A - B = \\{2\\}$.\n",
    "\n"
   ]
  },
  {
   "cell_type": "markdown",
   "metadata": {
    "id": "kZ2m-3G50fGd"
   },
   "source": [
    "The union operator in Python is \"|\". The intersection operator is \"&\". The difference operator is \"-\"."
   ]
  },
  {
   "cell_type": "code",
   "execution_count": null,
   "metadata": {
    "id": "JdDKfKY803r0"
   },
   "outputs": [],
   "source": [
    "A = {1,2,3}\n",
    "B = {1,3,5};"
   ]
  },
  {
   "cell_type": "markdown",
   "metadata": {
    "id": "jH0OWTd39K1j"
   },
   "source": [
    "Union"
   ]
  },
  {
   "cell_type": "code",
   "execution_count": null,
   "metadata": {
    "id": "aiAMsKBX9MOH"
   },
   "outputs": [],
   "source": [
    "A|B"
   ]
  },
  {
   "cell_type": "markdown",
   "metadata": {
    "id": "psYVDIl59OBD"
   },
   "source": [
    "Intersection"
   ]
  },
  {
   "cell_type": "code",
   "execution_count": null,
   "metadata": {
    "id": "yH5V2TnH07zO"
   },
   "outputs": [],
   "source": [
    "A&B"
   ]
  },
  {
   "cell_type": "markdown",
   "metadata": {
    "id": "PBpW-FT49Pk0"
   },
   "source": [
    "Difference"
   ]
  },
  {
   "cell_type": "code",
   "execution_count": null,
   "metadata": {
    "id": "dzPsk8FK08zM"
   },
   "outputs": [],
   "source": [
    "A-B"
   ]
  },
  {
   "cell_type": "markdown",
   "metadata": {
    "id": "Y1QWIVrF8nfi"
   },
   "source": [
    "Sometimes, sets are defined in relation to a larger *universal set* that contains all elements that can appear in sets. For example, you could define sets as being subsets of the real numbers, where the real number line is the universal set. In this context, it makes sense to talk about the *complement* of a set."
   ]
  },
  {
   "cell_type": "markdown",
   "metadata": {
    "id": "NLpERTO980Yb"
   },
   "source": [
    "**Definition** - Let $U$ be a defined universal set. The *complement* of the set $A$, denoted by $\\overline{A}$, is the complement of $A$ with respect to $U$. It is the set of all elements in $U$ not in $A$.\n"
   ]
  },
  {
   "cell_type": "markdown",
   "metadata": {
    "id": "QYd3GVqa8_7-"
   },
   "source": [
    "**Example** - The complement of the positive integers within the set of all integers, $\\mathbb{Z}$, is the set of non-negative integers."
   ]
  },
  {
   "cell_type": "markdown",
   "metadata": {
    "id": "4--lEOgA9JBC"
   },
   "source": [
    "If we take the union of many sets $A_{1},A_{2},\\ldots,A_{n}$ we can write it as:\n",
    "\n",
    "$$\\displaystyle A_{1} \\cup A_{2} \\cup \\cdots \\cup A_{n} = \\bigcup_{i = 1}^{n}A_{i}$$\n",
    "\n",
    "If we take the intersection of many sets $A_{1},A_{2},\\ldots,A_{n}$ we can write it as:\n",
    "\n",
    "$$\\displaystyle A_{1} \\cap A_{2} \\cap \\cdots \\cap A_{n} = \\bigcap_{i = 1}^{n}A_{i}$$\n"
   ]
  },
  {
   "cell_type": "markdown",
   "metadata": {
    "id": "Pmt7ZEgL-HzL"
   },
   "source": [
    "## 5. Naive Set Theory"
   ]
  },
  {
   "cell_type": "markdown",
   "metadata": {
    "id": "vKvyMN3R9ZgQ"
   },
   "source": [
    "We've played a bit loose with our definition of a set, and in particular we never made precise what we meant by an \"object\" that can go in a set. Treating set theory like this is called \"naive set theory\", and if you go looking for problems with this naive approach, you can find them. In particular, you can run into contradictions like the set of all sets that do not contain themselves. We won't deal with these issues in this class, but they are serious, and the formal foundations of set theory require a more precise set of fundamental definitions and specifications to fix them.\n",
    "\n",
    "This contradictory notion of the set of all sets that do not contain themselves was discovered and popularized by Bertrand Russell. A great book about Russell is the graphic novel *Logicomix*."
   ]
  },
  {
   "cell_type": "markdown",
   "metadata": {
    "id": "xhgEMcxo9siO"
   },
   "source": [
    "## 6. Practice Exercises"
   ]
  },
  {
   "cell_type": "markdown",
   "metadata": {
    "id": "f4HX-b_Q7pcS"
   },
   "source": [
    "**Exercise 1** - What is the Cartesian product of the sets $A = \\{1,2,5\\}$ and $B = \\{x,y,z\\}$? What is its cardinality?"
   ]
  },
  {
   "cell_type": "markdown",
   "metadata": {
    "id": "_b-zJH_y8jLh"
   },
   "source": [
    "**Exercise 2** - What is are the union and intersection of the sets $A = \\{a,b,c\\}$ and $B = \\{a,e,i,o,u\\}$."
   ]
  },
  {
   "cell_type": "markdown",
   "metadata": {
    "id": "vS2DnJg824r8"
   },
   "source": [
    "**Exercise 3** - What is the powerset of the set $P = \\{1,3,7\\}$."
   ]
  },
  {
   "cell_type": "markdown",
   "metadata": {
    "id": "alGBo2KE-q74"
   },
   "source": [
    "## 7. References and Further Reading"
   ]
  },
  {
   "cell_type": "markdown",
   "metadata": {
    "id": "k7J9en7q-t46"
   },
   "source": [
    "* [Introduction to the Theory of Computation](https://www.cengage.com/c/introduction-to-the-theory-of-computation-3e-sipser/9781133187790/) (Third Edition) by Michael Sipser\n",
    "  \n",
    "  *Section 0.2 - Mathematical Notions and Terminology*\n",
    "* [Naive Set Theory](https://link.springer.com/book/10.1007/978-1-4757-1645-0) by Paul Halmos.\n",
    "* [Logicomix](https://www.kingsenglish.com/item/R503eGKA3NJqETeOz-RJIQ)"
   ]
  }
 ],
 "metadata": {
  "colab": {
   "provenance": []
  },
  "kernelspec": {
   "display_name": "Python 3 (ipykernel)",
   "language": "python",
   "name": "python3"
  },
  "language_info": {
   "codemirror_mode": {
    "name": "ipython",
    "version": 3
   },
   "file_extension": ".py",
   "mimetype": "text/x-python",
   "name": "python",
   "nbconvert_exporter": "python",
   "pygments_lexer": "ipython3",
   "version": "3.13.7"
  }
 },
 "nbformat": 4,
 "nbformat_minor": 4
}
