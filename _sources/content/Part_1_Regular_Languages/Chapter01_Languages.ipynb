{
 "cells": [
  {
   "cell_type": "markdown",
   "metadata": {
    "id": "ChVE6LNR4XT3"
   },
   "source": [
    "# Languages\n"
   ]
  },
  {
   "cell_type": "markdown",
   "metadata": {
    "id": "W5VkRVtK5cKq"
   },
   "source": [
    "## Learning Objectives"
   ]
  },
  {
   "cell_type": "markdown",
   "metadata": {
    "id": "eXR2G93J5eZw"
   },
   "source": [
    "After completing this chapter, you will be able to:\n",
    "\n",
    "* Define an alphabet, a word, a language, and a grammar.\n",
    "* Understand some different ways in which a language can be defined, in particular recursively.\n",
    "* Understand the concept of Kleene closure."
   ]
  },
  {
   "cell_type": "markdown",
   "metadata": {
    "id": "WBoLQwt4sSV6"
   },
   "source": [
    "## 1. Formal Languages"
   ]
  },
  {
   "cell_type": "markdown",
   "metadata": {
    "id": "Zzvw4tKJsZPx"
   },
   "source": [
    ">\"Colorless green ideas sleep furiously.\"\n",
    "\n",
    "That sentence makes no sense. It's contradictory, and it applies verbs to objects that can't perform them. However, right now you're probably parsing that sentence and trying to understand what it means, because it seems like it *should* mean something. But why? Why is this fundamentally different than, say, the five words:\n",
    "\n",
    ">\"Person woman man camera TV\"\n",
    "\n",
    "Well, it's because the grammar - the *form* - of the first sequence aligns with how we structure sentences in the English language. The second does not. This is the fundamental idea behind a *formal language*. It's a language where our primary concern is the structure of the letters or the words within it, and not their deeper conceptual meaning.\n",
    "\n",
    "This idea has major applications in computer programming. Specifically, when you write a computer program, there's a certain form it has to have in order for it to make sense to the computer. This is what a compiler does - it takes the program you've written, and translates it into instructions the computer can execute. If the program compiles, that means its form is correct. It makes sense to the computer. Now, the deeper meaning behind your program - specifically whether the program you've written actually does what you want it to do - is a different question altogether.\n",
    "\n",
    "In this section we'll discuss the building blocks of formal languages and some of the basic ideas."
   ]
  },
  {
   "cell_type": "markdown",
   "metadata": {
    "id": "Q5qfeYK26W52"
   },
   "source": [
    "## 2. Alphabets and Words"
   ]
  },
  {
   "cell_type": "markdown",
   "metadata": {
    "id": "pUk9OVa_6bo1"
   },
   "source": [
    ">\"Words, words, words...\"\n",
    ">- William Shakespeare, *Hamlet*, Act II, Scene ii\n",
    "\n",
    "A language begins with a finite set of symbols called an *alphabet*. I trust you're familiar, perhaps from kindergarten, with the idea. Typically we denote an alphabet with the symbol $\\Sigma$. We can form finite sequences of symbols from an alphabet, and a *language* is a specified subset of these sequences. We call the sequences that are in a language the *words* of the language. Please note that we allow the concept of a word with no letters, called the *empty string*, and denote it by $\\lambda$. We also allow the concept of a language with no words, and denote it by $\\emptyset$, the symbol used to represent the empty set.\n",
    "\n",
    "### Example\n",
    "\n",
    "---\n",
    "\n",
    "We could use the standard English alphabet, along with the apostrophe and hyphen\n",
    "\n",
    "$$\\displaystyle \\Sigma = \\{a, b, c, d, e, \\ldots z, ', -\\}$$\n",
    "\n",
    "as an alphabet, and the language could be the set of words from a standard English dictionary.\n",
    "\n",
    "---\n",
    "\n",
    "This is a perfectly acceptable way to define an alphabet and language, and this can work if the set of words is finite. However, let's suppose we wanted to expand our scope a bit, and instead define our alphabet as the entire set of words in the English language, and our \"words\" as the set of English sentences. Well, in this case the method wouldn't work. We can imagine a dictionary that covers every English word, but that won't be possible for every English sentence. There would be an infitine number of sentences, and the book would never end! Take, for example:\n",
    "\n",
    "1. \"I saw one ship a sailing in.\",\n",
    "2. \"I saw two ships a sailing in.\",\n",
    "3. \"I saw three ships a sailing in.\",\n",
    "\n",
    "etc...\n",
    "\n",
    "These are all sentences in the English language, and the list goes on forever.\n",
    "\n"
   ]
  },
  {
   "cell_type": "markdown",
   "metadata": {
    "id": "c0DMzEmGv54h"
   },
   "source": [
    "## 3. Grammers"
   ]
  },
  {
   "cell_type": "markdown",
   "metadata": {
    "id": "INp7e69Nvz1Z"
   },
   "source": [
    "So what do we do if our language has an infinite number of words? Instead of listing out every one, which would be impossible, we need some way to check whether a sequence of letters matches an acceptable *form*. This form is what we call a *grammar*. If we were dealing with a natural language, we'd also need to make sure that a sentence with proper grammar actually made sense. We probably wouldn't say the example we saw at the beginning of these notes, \"Colorless green ideas sleep furiously.\", makes sense, but this concern takes us out of the realm of formal languages. So, we'll only care if a word adheres to the rules of our grammar, and not to whether the word \"makes sense\" from a broader perspective."
   ]
  },
  {
   "cell_type": "markdown",
   "metadata": {
    "id": "Dt9EBLS_vu9F"
   },
   "source": [
    "### Example\n",
    "---\n",
    "\n",
    "We could define an alphabet with only one letter, say $\\Sigma = \\{x\\}$, and one language over that alphabet could be any finite, nonempty string of characters. So, $L = \\{x, xx, xxx, \\ldots\\}$.\n",
    "\n",
    "---"
   ]
  },
  {
   "cell_type": "markdown",
   "metadata": {
    "id": "By7UygPN33B8"
   },
   "source": [
    "We define the *length* of a word in a language as the number of characters (symbols from the alphabet) it has. So, for example, in our language right above $length(xxx) = 3$. The concatenation of two words $w_{1}, w_{2}$, typically written as $w_{1}*w_{2}$ or just $w_{1}w_{2}$, combines them into one sequence of symbols. So, if $w_{1}$ = \"Weber\" and $w_{2}$ = \"State\", then $w_{1}w_{2}$ = \"WeberState\". The notation $w^{n}$ means the word $w$ concatenated with itself $n$ times. So, if $w$ = \"great\" then $w^{3}$ = \"greatgreatgreat\"."
   ]
  },
  {
   "cell_type": "markdown",
   "metadata": {
    "id": "Sbjl4jWX4rXp"
   },
   "source": [
    "### Example\n",
    "\n",
    "---\n",
    "\n",
    "We could define an alphabet consisting of the ten digit characters $\\Sigma = \\{0, 1, 2, 3, 4, 5, 6, 7, 8, 9\\}$, and a language over this alphabet as any finite sequence of these characters that does not start with $0$ if its length is greater than $1$. This would correspond with the set of natural (counting) numbers $0, 1, 2, 3, 4, 5, 6, 7, 8, 9, 10, 11, 12, \\ldots$.\n",
    "\n",
    "---"
   ]
  },
  {
   "cell_type": "markdown",
   "metadata": {
    "id": "y3i6q6Rm42td"
   },
   "source": [
    "We define the *reverse* of a word to be its sequence of symbols in the opposite order. For example, $reverse(abc) = cba$. A word that's equal to its reverse is a *palindrome*. For example, the word \"racecar\" would be a palindrome."
   ]
  },
  {
   "cell_type": "markdown",
   "metadata": {
    "id": "Kjlku-DW5KNC"
   },
   "source": [
    "## 4. Kleene Closure"
   ]
  },
  {
   "cell_type": "markdown",
   "metadata": {
    "id": "IXXkiY_C5ddC"
   },
   "source": [
    "Given an alphabet $\\Sigma$, the closure of the alphabet is the language in which any string of letters from $\\Sigma$ is a word, including the empty string $\\lambda$. We call this the *closure* or *Kleene closure* of the alphabet, and denote it with the *Kleene star* $\\Sigma^{*}$."
   ]
  },
  {
   "cell_type": "markdown",
   "metadata": {
    "id": "wZk6yzZ06CyA"
   },
   "source": [
    "### Example"
   ]
  },
  {
   "cell_type": "markdown",
   "metadata": {
    "id": "EaffaM2o6EVj"
   },
   "source": [
    "---\n",
    "\n",
    "If $\\Sigma = \\{a, b\\}$ then $\\Sigma^{*} = \\{\\lambda, a, b, aa, ab, bb, aaa, aab, \\ldots\\}$.\n",
    "\n",
    "---"
   ]
  },
  {
   "cell_type": "markdown",
   "metadata": {
    "id": "t_fBZ_i76KNh"
   },
   "source": [
    "Note that If $\\Sigma = \\emptyset$ then $\\Sigma^{*} = \\{\\lambda\\}$. For any nonempty alphabet, the closure is an infinite set of words.\n",
    "\n",
    "The set $\\Sigma^{+}$ is defined as everything in the closure of the alphabet $\\Sigma$  *except* for the empty string $\\lambda$.\n",
    "\n",
    "If $S$ is any set of words, then by $S^{*}$ we mean the set of all finite strings formed by concatenating words from $S$, where any word can be used as often as we like, and where the null string is also included. The set $S^{+}$ is all finite positive concatenations of strings from $S$. It does not contain $\\lambda$ unless $S$ does as well.\n",
    "\n",
    "The notation $S^{**}$ means the closure of the closure of $S$, so $(S^{*})^{*}$. Similarly, $S^{***}$ means the closure of the closure of the closure of $S$, and so on."
   ]
  },
  {
   "cell_type": "markdown",
   "metadata": {
    "id": "sK7P8UIG7B8b"
   },
   "source": [
    "### Example"
   ]
  },
  {
   "cell_type": "markdown",
   "metadata": {
    "id": "e8iMbmvr7GP-"
   },
   "source": [
    "---\n",
    "\n",
    "For any set of strings $S$ we have $S^{*} = S^{**}$. We can prove this by noting that for any string $s \\in S^{*}$, we must have $s \\in S^{**}$, because $S^{**}$ is the set of strings formed by concatenating any finite number of strings from $S^{*}$, and as $1$ is a finite number, this must include $s$. On the other hand, if we have a string $s \\in S^{**}$ it must be a finite concatenation of strings from $S^{*}$, so:\n",
    "\n",
    "$$s = s_{1}s_{2} \\ldots s_{k}$$\n",
    "\n",
    "for some finite number $k$, where each $s_{i} \\in S^{*}$. Now, each $s_{i} \\in S^{*}$, which means each $s_{i}$ is a concatenation of a finite number of strings from $S$:\n",
    "\n",
    "$$s_{i} = s_{i,1}s_{i,2} \\ldots s_{i,l_{i}}$$\n",
    "\n",
    "for some finite number $l_{i}$, where each $s_{i,j} \\in S$. Combining these, we get:\n",
    "\n",
    "$$s = s_{1,1}s_{1,2} \\ldots s_{1,l_{1}} s_{2,1} s_{2,2} \\ldots s_{2,l_{2}} \\ldots s_{k,1}s_{k,2} \\ldots s_{k,l_{k}}$$\n",
    "\n",
    "This whole thing is just a finite concatenation of strings from $S$, which means $s \\in S^{*}$. Done!\n",
    "\n",
    "---"
   ]
  },
  {
   "cell_type": "markdown",
   "metadata": {
    "id": "V3fZPfR04ABQ"
   },
   "source": [
    "An alphabet is a set of symbols, and so it would make sense to represent an alphabet using a *set* data structure in Python. For example, we could create an alphabet consisting of only the vowel characters:"
   ]
  },
  {
   "cell_type": "code",
   "execution_count": null,
   "metadata": {
    "id": "vUZxxUa44b8c"
   },
   "outputs": [],
   "source": [
    "vowels = {'a','e','i','o','u'}"
   ]
  },
  {
   "cell_type": "markdown",
   "metadata": {
    "id": "oe1UdHMP7VHD"
   },
   "source": [
    "The Kleene closure of this alphabet would then be all the strings consisting of just vowels."
   ]
  },
  {
   "cell_type": "markdown",
   "metadata": {
    "id": "WvBnv6vV7hAe"
   },
   "source": [
    "We could write a Python function that checks whether a given string is in the closure of a set of characters. First, we'll want a helper function that will check whether an object is an alphabet (a set of characters)."
   ]
  },
  {
   "cell_type": "code",
   "execution_count": null,
   "metadata": {
    "id": "KkvsAM7u7rEe"
   },
   "outputs": [],
   "source": [
    "def is_alphabet(alpha):\n",
    "  if not isinstance(alpha, set):\n",
    "    return False\n",
    "  for item in alpha:\n",
    "    if not isinstance(item, str):\n",
    "      return False\n",
    "    elif len(item) > 1:\n",
    "      return False\n",
    "  return True"
   ]
  },
  {
   "cell_type": "markdown",
   "metadata": {
    "id": "z4gCrUws8pfi"
   },
   "source": [
    "Then, we can use this to check whether a string is in the closure of an alphabet:"
   ]
  },
  {
   "cell_type": "code",
   "execution_count": null,
   "metadata": {
    "id": "R1xZlQCa90I-"
   },
   "outputs": [],
   "source": [
    "def in_closure(s, alpha):\n",
    "  if not isinstance(s, str):\n",
    "    return False\n",
    "  if not is_alphabet(alpha):\n",
    "    return False\n",
    "  for i in range(len(s)):\n",
    "    if s[i] not in alpha:\n",
    "      return False\n",
    "  return True"
   ]
  },
  {
   "cell_type": "markdown",
   "metadata": {
    "id": "9pYGD8fs-GYL"
   },
   "source": [
    "We could use this function to check whether the string 'eau' is in the alphabet of vowels:"
   ]
  },
  {
   "cell_type": "code",
   "execution_count": null,
   "metadata": {
    "colab": {
     "base_uri": "https://localhost:8080/"
    },
    "id": "jqDtAmVm_Gsu",
    "outputId": "4c1efcce-01bd-4005-9191-744ccb21007c"
   },
   "outputs": [
    {
     "data": {
      "text/plain": [
       "True"
      ]
     },
     "execution_count": 33,
     "metadata": {},
     "output_type": "execute_result"
    }
   ],
   "source": [
    "in_closure('eau', vowels)"
   ]
  },
  {
   "cell_type": "markdown",
   "metadata": {
    "id": "OFjDCyLd_K-s"
   },
   "source": [
    "The function says it is, which is correct. However, the word 'slartybartfast' has more than just vowels, and so would not be:"
   ]
  },
  {
   "cell_type": "code",
   "execution_count": null,
   "metadata": {
    "colab": {
     "base_uri": "https://localhost:8080/"
    },
    "id": "Wxb18G2W_UAI",
    "outputId": "ed9f565b-93fa-40ad-80c0-f797cbe25f5f"
   },
   "outputs": [
    {
     "data": {
      "text/plain": [
       "False"
      ]
     },
     "execution_count": 34,
     "metadata": {},
     "output_type": "execute_result"
    }
   ],
   "source": [
    "in_closure('slartybartfast', vowels)"
   ]
  },
  {
   "cell_type": "markdown",
   "metadata": {
    "id": "ygN9lMOG_V3c"
   },
   "source": [
    "**Note** - We've been very careful to put checks into this code to make sure, for example, that an alphabet is a set of characters or that the object given to the first argument of the *in_closure* function is indeed a string. We won't necessarily be so concerned with guardrails in the future."
   ]
  },
  {
   "cell_type": "markdown",
   "metadata": {
    "id": "iXmOALJz9l82"
   },
   "source": [
    "## 5. Recursive Definitions"
   ]
  },
  {
   "cell_type": "markdown",
   "metadata": {
    "id": "LGwiHmdW9uXT"
   },
   "source": [
    "A common and powerful way of providing the grammar for a language is recursively. A recursive grammar begins by defining a basic set of words within the language, and then a set of rules for generating additional words. The language is the set of all words this process can generate. It's called recursive because determining whether a word is in the language, if it's not part of the basic set, involves referencing other words that we've already determined to be in the language."
   ]
  },
  {
   "cell_type": "markdown",
   "metadata": {
    "id": "bKmR7AtF-Dru"
   },
   "source": [
    "### Example"
   ]
  },
  {
   "cell_type": "markdown",
   "metadata": {
    "id": "5-fe4p3s-E4k"
   },
   "source": [
    "---\n",
    "\n",
    "We could define a language as:\n",
    "  * **Rule 1** - $\\lambda$ is in $L$.\n",
    "  * **Rule 2** - If $w$ is any word in $L$, then $xw$ is also in $L$.\n",
    "\n",
    "This recursive definition would define the language:\n",
    "\n",
    "$$L = \\{\\lambda, x, x^{2}, x^{3}, \\ldots\\}$$\n",
    "\n",
    "---"
   ]
  },
  {
   "cell_type": "markdown",
   "metadata": {
    "id": "f_OJdSyOA-ZB"
   },
   "source": [
    "We could write a Python function for determining if a string is in $L$ using recursion:"
   ]
  },
  {
   "cell_type": "code",
   "execution_count": null,
   "metadata": {
    "id": "uscXn0zZBFBS"
   },
   "outputs": [],
   "source": [
    "def in_L(word):\n",
    "  if word == '':\n",
    "    return True\n",
    "  if word[0] == 'x':\n",
    "    return in_L(word[1:])\n",
    "  return False"
   ]
  },
  {
   "cell_type": "code",
   "execution_count": null,
   "metadata": {
    "colab": {
     "base_uri": "https://localhost:8080/"
    },
    "id": "0nFvtcUxBUGC",
    "outputId": "5000763d-e5ae-4142-c290-d0b85e18b62f"
   },
   "outputs": [
    {
     "data": {
      "text/plain": [
       "True"
      ]
     },
     "execution_count": 37,
     "metadata": {},
     "output_type": "execute_result"
    }
   ],
   "source": [
    "in_L('xxxx')"
   ]
  },
  {
   "cell_type": "code",
   "execution_count": null,
   "metadata": {
    "colab": {
     "base_uri": "https://localhost:8080/"
    },
    "id": "rAGturDjBXtY",
    "outputId": "a379b28b-b6a4-47fe-f04a-e344e8f45604"
   },
   "outputs": [
    {
     "data": {
      "text/plain": [
       "False"
      ]
     },
     "execution_count": 38,
     "metadata": {},
     "output_type": "execute_result"
    }
   ],
   "source": [
    "in_L('xxyx')"
   ]
  },
  {
   "cell_type": "markdown",
   "metadata": {
    "id": "K7X67SQI-ggL"
   },
   "source": [
    "We could have actually defined the Kleene closure of a language recursively as:\n",
    "\n",
    "* **Rule 1** - If $S$ is a language, then all the words of $S$ are is $S^{*}$.\n",
    "\n",
    "* **Rule 2** - $\\lambda$ is in $S^{*}$.\n",
    "\n",
    "* **Rule 3** - If $x$ and $y$ are in $S^{*}$, then so is their concatenation $xy$."
   ]
  },
  {
   "cell_type": "markdown",
   "metadata": {
    "id": "d-IguleSAj0Z"
   },
   "source": [
    "### Example"
   ]
  },
  {
   "cell_type": "markdown",
   "metadata": {
    "id": "nS4nngbHAlGZ"
   },
   "source": [
    "---\n",
    "\n",
    "We could define the positive even numbers recursively as:\n",
    "\n",
    "* **Rule 1** - The number $2$ is in $EVEN$.\n",
    "\n",
    "* **Rule 2** - If $n$ is in $EVEN$, so is $n+2$.\n",
    "\n"
   ]
  },
  {
   "cell_type": "markdown",
   "metadata": {
    "id": "YzRncTvq_Dji"
   },
   "source": [
    "We can prove the number $8$ is in $EVEN$ using this recursive definition. Specifically, we know that $2$ is in $EVEN$ by Rule 1, and using this and Rule 2 we get that $2 + 2 = 4$ is in $EVEN$. Using this and Rule 2 again, we know that $4 + 2 = 6$ is in $EVEN$. Using this and Rule 2 one more time, we know that $6 + 2 = 8$ is in $EVEN$.\n",
    "\n",
    "---"
   ]
  },
  {
   "cell_type": "markdown",
   "metadata": {
    "id": "bX0bSYgP_bcb"
   },
   "source": [
    "## 6. Practice Exercises"
   ]
  },
  {
   "cell_type": "markdown",
   "metadata": {
    "id": "fxxhQjPS_lPY"
   },
   "source": [
    "**Exercise 1** - Consider the language $S^{*}$, when $S = \\{a,b\\}$. How many words does this language have of length 2? Of length 3? Of length $n$?"
   ]
  },
  {
   "cell_type": "markdown",
   "metadata": {
    "id": "d7FhnLMlABzx"
   },
   "source": [
    "**Exercise 2** - A student suggested the following algorithm to test a string of $a$'s and $b$'s to see if it is a word is $S^{*}$, where $S = \\{aa, ba, aba, abaab\\}$. Step 1, cross off the longest set of characters from the front of the string that is a word in $S$. Step 2, repeat step 1 until it is no longer possible. If what remains is the string $\\lambda$ (the empty string), the original string was a word in $S^{*}$. If what remains is not $\\lambda$ (this means some letters are left, but we cannot find a word in $S$ at the beginning), the original string was not a word in $S^{*}$. Find a string that disproves this algorithm."
   ]
  },
  {
   "cell_type": "markdown",
   "metadata": {
    "id": "Qr2ZsIdlAF2B"
   },
   "source": [
    "**Exercise 3** - For a set of words $S$, is the set $S^{***}$ different than the set $S^{**}$?"
   ]
  },
  {
   "cell_type": "markdown",
   "metadata": {
    "id": "VsWbtZ8s_ycI"
   },
   "source": [
    "**Exercise 4** - Provide another recursive definition of the set EVEN."
   ]
  },
  {
   "cell_type": "markdown",
   "metadata": {
    "id": "keKG6iR3Bg1p"
   },
   "source": [
    "**Exercise 5** - Write a recursive Python function that determines whether a positive integer is even."
   ]
  },
  {
   "cell_type": "markdown",
   "metadata": {
    "id": "kLyhJCP0V_oE"
   },
   "source": [
    "## 7. References and Further Reading"
   ]
  },
  {
   "cell_type": "markdown",
   "metadata": {
    "id": "7sTGNrp9WBAY"
   },
   "source": [
    "* [Introduction to Computer Theory](https://www.amazon.com/Introduction-Computer-Theory-Daniel-Cohen/dp/0471137723) (Second Edition) by Daniel I.A. Cohen\n",
    "\n",
    "  *Chapter 2 - Languages, Chapter 3 - Recursive Definitions*\n",
    "\n",
    "* [Automata Theory, Languages, and Computation](https://www.amazon.com/Introduction-Automata-Theory-Languages-Computation/dp/0321462254) (Third Edition) by Hopcroft, Motwani, and Ullman\n",
    "\n",
    "  *Section 1.5 - The Central Concepts of Automata Theory*\n",
    "\n",
    "* [Introduction to the Theory of Computation](https://www.cengage.com/c/introduction-to-the-theory-of-computation-3e-sipser/9781133187790/) (Third Edition) by Michael Sipser\n",
    "  \n",
    "  *Section 0.2 - Mathematical Notions and Terminology*\n",
    "  \n",
    "* [Hamlet](https://www.folger.edu/explore/shakespeares-works/hamlet/read/) by William Shakespeare\n",
    "* [Colorless green ideas sleep furiously](https://en.wikipedia.org/wiki/Colorless_green_ideas_sleep_furiously)"
   ]
  }
 ],
 "metadata": {
  "colab": {
   "provenance": []
  },
  "kernelspec": {
   "display_name": "Python 3 (ipykernel)",
   "language": "python",
   "name": "python3"
  },
  "language_info": {
   "codemirror_mode": {
    "name": "ipython",
    "version": 3
   },
   "file_extension": ".py",
   "mimetype": "text/x-python",
   "name": "python",
   "nbconvert_exporter": "python",
   "pygments_lexer": "ipython3",
   "version": "3.13.7"
  }
 },
 "nbformat": 4,
 "nbformat_minor": 4
}
