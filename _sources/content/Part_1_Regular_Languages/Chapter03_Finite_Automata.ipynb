{
 "cells": [
  {
   "cell_type": "markdown",
   "metadata": {
    "id": "ChVE6LNR4XT3"
   },
   "source": [
    "# Finite Automata"
   ]
  },
  {
   "cell_type": "markdown",
   "metadata": {
    "id": "W5VkRVtK5cKq"
   },
   "source": [
    "## Learning Objectives"
   ]
  },
  {
   "cell_type": "markdown",
   "metadata": {
    "id": "eXR2G93J5eZw"
   },
   "source": [
    "After completing this chapter, you will be able to:\n",
    "\n",
    "* Define a finite automaton.\n",
    "* Represent a finite automaton with a state diagram or a transition table.\n",
    "* Work with and understand a finite automaton class built in Python.\n",
    "* Define a language with a finite automaton."
   ]
  },
  {
   "cell_type": "markdown",
   "metadata": {
    "id": "Q5qfeYK26W52"
   },
   "source": [
    "## 1. Basic Concepts and Definitions"
   ]
  },
  {
   "cell_type": "markdown",
   "metadata": {
    "id": "pUk9OVa_6bo1"
   },
   "source": [
    "Let's talk about games.\n",
    "\n",
    "In the United States two popular games for children are Candyland and Chutes and Ladders. You may have played them when you were a kid. The basic idea for both is very simple - you move along a sequence of squares by either drawing cards or rolling dice, and the goal is to get to the end of the sequence. It's a race, but there's no strategy involved - whether you win or lose is entirely up to the luck of either the draw or the roll. It's good for little children, and it teaches them to follow directions and pay attention, but its appeal is limited because it's not possible to get \"good\" at playing the game."
   ]
  },
  {
   "attachments": {},
   "cell_type": "markdown",
   "metadata": {
    "id": "h35LV3zEHcxx"
   },
   "source": [
    "```{figure} ./Candyland.png\n",
    ":alt: Candyland Game\n",
    ":name: fig:candyland\n",
    ":width: 500px\n",
    ":align: center\n",
    "```\n",
    "\n",
    "```{figure} ./ChutesAndLadders.png\n",
    ":alt: Chutes And Ladders Game\n",
    ":name: fig:ChutesAndLadders\n",
    ":width: 500px\n",
    ":align: center\n",
    "```"
   ]
  },
  {
   "cell_type": "markdown",
   "metadata": {
    "id": "L-ZZRDnSHgrH"
   },
   "source": [
    "What are some things these games have in common? Well, they both involve:\n",
    "* A finite set of states, one of which is designated as the initial state, called the *start state*, and some of which are designated winning or *final states*.\n",
    "* A set of possible inputs. In these cases, either the draw of a card or the roll of a dice.\n",
    "* A finite set of *transitions* that tell you for each state and for each input which state to go to next."
   ]
  },
  {
   "cell_type": "markdown",
   "metadata": {
    "id": "zpzBKG95HklE"
   },
   "source": [
    "Well, this is, essentially, the definition of a *finite automaton* (FA for short). It's *finite* because the number of possible states and possible inputs is finite, and *automaton* because the change of states is totally governed by the input. In other words, it's automatic - there is no choice involved. (\"Automaton\" comes from Greek, and its correct plural is \"automata\"). The formal definition is below."
   ]
  },
  {
   "cell_type": "markdown",
   "metadata": {
    "id": "enf5KZ-6ILmR"
   },
   "source": [
    "---\n",
    "\n",
    "**Definition**\n",
    "\n",
    "A **finite automaton** consists of:\n",
    "* A finite set of states $\\displaystyle Q$.\n",
    "* A finite set $\\displaystyle \\Sigma$ of input characters, called its *alphabet*.\n",
    "* A transition function $T$, where for every state $q \\in Q$ and input character $a \\in \\Sigma$ there is a transition map $T(q,a) \\rightarrow q'$ specifying the next state after the automaton in state $q$ reads the input $a$.\n",
    "* A unique initial state $q_{0}$\n",
    "* A subset $F \\subseteq Q$ of final states. Note the set of final states could possibly be empty, possibly have more than one element, and possibly contain the initial state.\n",
    "\n",
    "This $5$-tuple, $(Q,\\Sigma,T,q_{0},F)$ defines a finite automaton.\n",
    "\n",
    "---"
   ]
  },
  {
   "cell_type": "markdown",
   "metadata": {
    "id": "-JcY9j8hKrf9"
   },
   "source": [
    "## 2. Representing Finite Automata"
   ]
  },
  {
   "cell_type": "markdown",
   "metadata": {
    "id": "BFp2fQalK1if"
   },
   "source": [
    "Let's suppose we have a much simpler game than either Candyland or Chutes and Ladders. Instead of rolling a dice we just flip a coin, so the possibilities at any state are just heads and tails. In other words, our input alphabet is just $\\Sigma = \\{H,T\\}$. Our board looks like this:"
   ]
  },
  {
   "cell_type": "markdown",
   "metadata": {
    "id": "M6uY8tkiMCda"
   },
   "source": [
    "```{figure} ./GameBoard.png\n",
    ":alt: Simple Chutes and Ladders Game Board\n",
    ":name: fig:GameBoard\n",
    ":width: 500px\n",
    ":align: center\n",
    "```"
   ]
  },
  {
   "cell_type": "markdown",
   "metadata": {
    "id": "SMS9GgFgKL65"
   },
   "source": [
    "The idea here is that:\n",
    "* The game starts at the initial state $1$.\n",
    "* On the first flip of the coin, the player advances to state $2$ for anything they flip.\n",
    "* At state $2$, if the player flips $T$ they take a ladder to the final state $4$. If the player flips $H$, they advance to state $3$.\n",
    "* At state $3$, if the player flips $H$ they take a chute back to the initial state $1$. For $T$, they advance to the final state $4$.\n",
    "* If, for some reason, the player wants to keep playing at the final state, they just stay there for any coin flip.\n",
    "\n",
    "In the board diagram, the circles (or *nodes*) are the different states, and the arrows marked with letters represent how those input letters transition between states. The initial state is marked with $-$, and the final states are makred with $+$. This is the basic idea behind the *state diagram* of a finite automaton, which is a compact and illuminating way of representing all its features."
   ]
  },
  {
   "cell_type": "markdown",
   "metadata": {
    "id": "nLGXCIVPM6Be"
   },
   "source": [
    "We could also represent the board using a *transition table*. Specifically, the rows of the table correspond with the states of the finite automaton, the columns correspond with the possible inputs (the alphabet), and the entries represent the transitions:\n",
    "\n",
    "<center>\n",
    "\n",
    "| State | H | T |\n",
    "| :---: | :---: | :---: |\n",
    "| 1 | 2 | 2 |\n",
    "| 2 | 3 | 4 |\n",
    "| 3 | 1 | 4 |\n",
    "| 4 | 4 | 4 |\n",
    "\n",
    "</center>"
   ]
  },
  {
   "cell_type": "markdown",
   "metadata": {
    "id": "gTx6RYJDl0aS"
   },
   "source": [
    "## 3. Representing Finite Automata in Python"
   ]
  },
  {
   "cell_type": "markdown",
   "metadata": {
    "id": "DjzF3_vHbTBt"
   },
   "source": [
    "We can diagram a finite automaton in Python using the *Digraph* class from the graphviz library. The *Source* class lets us visualize it."
   ]
  },
  {
   "cell_type": "code",
   "execution_count": null,
   "metadata": {
    "id": "eztzlOPmbrOl"
   },
   "outputs": [],
   "source": [
    "from graphviz import Digraph, Source"
   ]
  },
  {
   "cell_type": "markdown",
   "metadata": {
    "id": "V3Kx8qchl8IJ"
   },
   "source": [
    "We can create a class (we'll call it *cal* for \"Chutes and Ladders\"), and then specify the states and the transitions (called nodes and edges in the *Digraph* class)."
   ]
  },
  {
   "cell_type": "code",
   "execution_count": null,
   "metadata": {
    "id": "Of4jBjXicnPr"
   },
   "outputs": [],
   "source": [
    "cal = Digraph()\n",
    "cal.attr(rankdir='LR') # This specifies the diagram should go left to right\n",
    "\n",
    "# States\n",
    "cal.node('1-', shape='circle') # Initial state\n",
    "cal.node('2', shape='circle')\n",
    "cal.node('3', shape='circle')\n",
    "cal.node('4+', shape='circle') # Accept state\n",
    "\n",
    "# Transitions\n",
    "cal.edge('1-', '2', label='H,T')\n",
    "cal.edge('2', '3', label='H')\n",
    "cal.edge('2', '4+', label='T')\n",
    "cal.edge('3', '1-', label='H')\n",
    "cal.edge('3', '4+', label='T')\n",
    "cal.edge('4+', '4+', label='H,T')"
   ]
  },
  {
   "cell_type": "code",
   "execution_count": null,
   "metadata": {
    "id": "mlJc_2fCc65o"
   },
   "outputs": [],
   "source": [
    "Source(cal.source)"
   ]
  },
  {
   "cell_type": "markdown",
   "metadata": {
    "id": "od3eKAHXfQEa"
   },
   "source": [
    "Another way you'll frequently see finite automaton state diagram is with the initial state represented by an incoming arrow that doesn't start on any node, and the  final states represented by a double circle node. Using these conventions, the state diagram above would look like:"
   ]
  },
  {
   "cell_type": "code",
   "execution_count": null,
   "metadata": {
    "id": "9ri-7fCmfjX6"
   },
   "outputs": [],
   "source": [
    "cal2 = Digraph()\n",
    "cal2.attr(rankdir='LR') # This specifies the diagram should go left to right\n",
    "\n",
    "# Start arrow\n",
    "cal2.node('', shape='none')\n",
    "cal2.edge('', '1')\n",
    "\n",
    "# States\n",
    "cal2.node('1', shape='circle') # Initial state\n",
    "cal2.node('2', shape='circle')\n",
    "cal2.node('3', shape='circle')\n",
    "cal2.node('4', shape='doublecircle') # Accept state\n",
    "\n",
    "# Transitions\n",
    "cal2.edge('1', '2', label='H,T')\n",
    "cal2.edge('2', '3', label='H')\n",
    "cal2.edge('2', '4', label='T')\n",
    "cal2.edge('3', '1', label='H')\n",
    "cal2.edge('3', '4', label='T')\n",
    "cal2.edge('4', '4', label='H,T')"
   ]
  },
  {
   "cell_type": "code",
   "execution_count": null,
   "metadata": {
    "id": "hExW3qTHf_bC"
   },
   "outputs": [],
   "source": [
    "Source(cal2.source)"
   ]
  },
  {
   "cell_type": "markdown",
   "metadata": {
    "id": "ul603uFBgltz"
   },
   "source": [
    "Now, let's create a finite automaton Python class. In order to define a finite automaton, we need to provide the tuple described in the definition from section 1.3.1."
   ]
  },
  {
   "cell_type": "code",
   "execution_count": null,
   "metadata": {
    "id": "oTnSqjp7g6P7"
   },
   "outputs": [],
   "source": [
    "class FA:\n",
    "    def __init__(self, states, alphabet, transition_function, start_state, accept_states):\n",
    "        self.states = set(states)\n",
    "        self.alphabet = set(alphabet)\n",
    "        self.transition_function = transition_function\n",
    "        self.start_state = start_state\n",
    "        self.accept_states = set(accept_states)\n",
    "\n",
    "        self.validate()"
   ]
  },
  {
   "cell_type": "markdown",
   "metadata": {
    "id": "fCoPsFjRg_05"
   },
   "source": [
    "This initializes a DFA class, with a set of states, an alphabet (set of characters), transition functions, a start state, and a set of accept states. It also runs a *validate* method to make sure it's a proper tuple and the definition makes sense. This validate method is provided below:"
   ]
  },
  {
   "cell_type": "code",
   "execution_count": null,
   "metadata": {
    "id": "jOSuN2kUhVpU"
   },
   "outputs": [],
   "source": [
    "def validate(self):\n",
    "  if self.start_state not in self.states:\n",
    "    raise ValueError(\"Start state must be in states.\")\n",
    "  if not self.accept_states.issubset(self.states):\n",
    "    raise ValueError(\"Accept states must be a subset of states.\")\n",
    "\n",
    "  # Ensure total transition function\n",
    "  for state in self.states:\n",
    "    for symbol in self.alphabet:\n",
    "      if (state, symbol) not in self.transition_function:\n",
    "        raise ValueError(f\"Missing transition for state '{state}' on symbol '{symbol}'.\")\n",
    "\n",
    "  # Ensure all transitions are to valid states and symbols\n",
    "  for (state, symbol), next_state in self.transition_function.items():\n",
    "    if state not in self.states or next_state not in self.states:\n",
    "      raise ValueError(f\"Invalid transition: ({state}, {symbol}) → {next_state}\")\n",
    "    if symbol not in self.alphabet:\n",
    "      raise ValueError(f\"Symbol '{symbol}' not in alphabet.\")\n",
    "\n",
    "FA.validate = validate"
   ]
  },
  {
   "cell_type": "markdown",
   "metadata": {
    "id": "j2a3tAvliK6Y"
   },
   "source": [
    "This method makes sure that:\n",
    "\n",
    "* The specified start states is in the set of states.\n",
    "* The specified end states are a subset of the set of states.\n",
    "* There is a transition for every state and character in the alphabet.\n",
    "* All transitions are to and from states within the set of states."
   ]
  },
  {
   "cell_type": "markdown",
   "metadata": {
    "id": "DqAPFUl-ijJn"
   },
   "source": [
    "We can test this by creating the Chutes and Ladders FA from above:"
   ]
  },
  {
   "cell_type": "code",
   "execution_count": null,
   "metadata": {
    "id": "K5C6XZwUiy2l"
   },
   "outputs": [],
   "source": [
    "cal = FA(\n",
    "    states={'1', '2', '3', '4'},\n",
    "    alphabet={'H', 'T'},\n",
    "    transition_function={\n",
    "        ('1', 'H'): '2',\n",
    "        ('1', 'T'): '2',\n",
    "        ('2', 'H'): '3',\n",
    "        ('2', 'T'): '4',\n",
    "        ('3', 'H'): '1',\n",
    "        ('3', 'T'): '4',\n",
    "        ('4', 'H'): '4',\n",
    "        ('4', 'T'): '4'\n",
    "    },\n",
    "    start_state='1',\n",
    "    accept_states={'4'}\n",
    ")"
   ]
  },
  {
   "cell_type": "markdown",
   "metadata": {
    "id": "EJhRjkcHhwTY"
   },
   "source": [
    "If we were to change this by specifying the start state to be \"42\", the validate method will raise an error, as \"42\" is not in the set of states."
   ]
  },
  {
   "cell_type": "code",
   "execution_count": null,
   "metadata": {
    "id": "5f1rrSUuj9d-"
   },
   "outputs": [],
   "source": [
    "adams = FA(\n",
    "    states={'1', '2', '3', '4'},\n",
    "    alphabet={'H', 'T'},\n",
    "    transition_function={\n",
    "        ('1', 'H'): '2',\n",
    "        ('1', 'T'): '2',\n",
    "        ('2', 'H'): '3',\n",
    "        ('2', 'T'): '4',\n",
    "        ('3', 'H'): '1',\n",
    "        ('3', 'T'): '4',\n",
    "        ('4', 'H'): '4',\n",
    "        ('4', 'T'): '4'\n",
    "    },\n",
    "    start_state='42',\n",
    "    accept_states={'4'}\n",
    ")"
   ]
  },
  {
   "cell_type": "markdown",
   "metadata": {
    "id": "V6Tf4YeWkIZN"
   },
   "source": [
    "Let's also create a method that builds and returns the Digraph for the state diagram of the finite automaton. We'll use the second convention above, with the initial state represented with an incoming arrow without a source node, and the finial states represented by double circles."
   ]
  },
  {
   "cell_type": "code",
   "execution_count": null,
   "metadata": {
    "id": "aydyy1lAk2FM"
   },
   "outputs": [],
   "source": [
    "def build_graph(self):\n",
    "  dot = Digraph()\n",
    "  dot.attr(rankdir='LR')\n",
    "  dot.node('', shape='none')\n",
    "  dot.edge('', self.start_state)\n",
    "\n",
    "  for state in self.states:\n",
    "    shape = 'doublecircle' if state in self.accept_states else 'circle'\n",
    "    dot.node(state, shape=shape)\n",
    "\n",
    "  for (src, symbol), dst in self.transition_function.items():\n",
    "    dot.edge(src, dst, label=symbol)\n",
    "\n",
    "  return dot\n",
    "\n",
    "FA.build_graph = build_graph"
   ]
  },
  {
   "cell_type": "markdown",
   "metadata": {
    "id": "zQwjKYKKlWVu"
   },
   "source": [
    "We'll also add a method for building and then displaying the state diagram."
   ]
  },
  {
   "cell_type": "code",
   "execution_count": null,
   "metadata": {
    "id": "KrfX3vAulnsG"
   },
   "outputs": [],
   "source": [
    "def show(self):\n",
    "  dot = self.build_graph()\n",
    "  display(Source(dot.source))\n",
    "\n",
    "FA.show = show"
   ]
  },
  {
   "cell_type": "markdown",
   "metadata": {
    "id": "sWQ_CzHrl0_E"
   },
   "source": [
    "Let's use these methods to display the state diagram for the Chutes and Ladders finite automaton."
   ]
  },
  {
   "cell_type": "code",
   "execution_count": null,
   "metadata": {
    "id": "Rc1zF5B_mFKX"
   },
   "outputs": [],
   "source": [
    "cal.show()"
   ]
  },
  {
   "cell_type": "markdown",
   "metadata": {
    "id": "svdAX6NImbm0"
   },
   "source": [
    "Note that here we haven't simplified things by having, for example, a single arrow from *1* to *2* with $H,T$ above it, and have instead explicitly separated the $H$ and $T$ transitions."
   ]
  },
  {
   "cell_type": "code",
   "execution_count": null,
   "metadata": {
    "id": "pWN21q48l5ez"
   },
   "outputs": [],
   "source": [
    "class DFA:\n",
    "    def __init__(self, states, alphabet, transition_function, start_state, accept_states):\n",
    "        self.states = set(states)\n",
    "        self.alphabet = set(alphabet)\n",
    "        self.transition_function = transition_function\n",
    "        self.start_state = start_state\n",
    "        self.accept_states = set(accept_states)\n",
    "\n",
    "        self._validate()\n",
    "\n",
    "    def _validate(self):\n",
    "        if self.start_state not in self.states:\n",
    "            raise ValueError(\"Start state must be in states.\")\n",
    "        if not self.accept_states.issubset(self.states):\n",
    "            raise ValueError(\"Accept states must be a subset of states.\")\n",
    "\n",
    "        # Ensure total transition function\n",
    "        for state in self.states:\n",
    "            for symbol in self.alphabet:\n",
    "                if (state, symbol) not in self.transition_function:\n",
    "                    raise ValueError(f\"Missing transition for state '{state}' on symbol '{symbol}'.\")\n",
    "\n",
    "        # Ensure all transitions are to valid states and symbols\n",
    "        for (state, symbol), next_state in self.transition_function.items():\n",
    "            if state not in self.states or next_state not in self.states:\n",
    "                raise ValueError(f\"Invalid transition: ({state}, {symbol}) → {next_state}\")\n",
    "            if symbol not in self.alphabet:\n",
    "                raise ValueError(f\"Symbol '{symbol}' not in alphabet.\")\n",
    "\n",
    "    def accepts(self, input_string):\n",
    "        current_state = self.start_state\n",
    "        for symbol in input_string:\n",
    "            if symbol not in self.alphabet:\n",
    "                raise ValueError(f\"Symbol '{symbol}' not in DFA alphabet.\")\n",
    "            current_state = self.transition_function[(current_state, symbol)]\n",
    "        return current_state in self.accept_states\n",
    "\n",
    "    def trace(self, input_string):\n",
    "        trace = [self.start_state]\n",
    "        current_state = self.start_state\n",
    "        for symbol in input_string:\n",
    "            if (current_state, symbol) not in self.transition_function:\n",
    "                trace.append(None)\n",
    "                break\n",
    "            current_state = self.transition_function[(current_state, symbol)]\n",
    "            trace.append(current_state)\n",
    "        return trace\n",
    "\n",
    "    def visualize(self, filename='dfa', format='png'):\n",
    "        \"\"\"Save DFA visualization to a file.\"\"\"\n",
    "        dot = self._build_graph()\n",
    "        dot.render(filename, format=format, cleanup=True)\n",
    "        print(f\"DFA visualization saved as {filename}.{format}\")\n",
    "\n",
    "    def show(self):\n",
    "        \"\"\"Display DFA inline in a Jupyter notebook.\"\"\"\n",
    "        dot = self._build_graph()\n",
    "        display(Source(dot.source))\n",
    "\n",
    "    def _build_graph(self):\n",
    "        dot = Digraph()\n",
    "        dot.attr(rankdir='LR')\n",
    "        dot.node('', shape='none')\n",
    "        dot.edge('', self.start_state)\n",
    "\n",
    "        for state in self.states:\n",
    "            shape = 'doublecircle' if state in self.accept_states else 'circle'\n",
    "            dot.node(state, shape=shape)\n",
    "\n",
    "        for (src, symbol), dst in self.transition_function.items():\n",
    "            dot.edge(src, dst, label=symbol)\n",
    "\n",
    "        return dot"
   ]
  },
  {
   "cell_type": "markdown",
   "metadata": {
    "id": "Lr7-CBc7Rane"
   },
   "source": [
    "## 4. Finite Automata and Languages"
   ]
  },
  {
   "cell_type": "markdown",
   "metadata": {
    "id": "Y7kL0c_RSF3T"
   },
   "source": [
    "For the simple game above we can ask, for a given sequence of flips, whether the player wins the game - meaning whether at the end of the sequence the player is on the final state. For the sequence $HHHT$ the answer would be *no*. For the sequence $THT$, the answer would be *yes*. We can view the set of winning sequences of flips as a *language*, and we say the game - or finite automaton - above *accepts* this language."
   ]
  },
  {
   "cell_type": "markdown",
   "metadata": {
    "id": "Hm3_3orYnkIG"
   },
   "source": [
    "For any finite automaton with input alphabet $\\Sigma$, we can view a sequence of characters from $\\Sigma$ as corresponding with a sequence of transitions in the finite automaton. The automaton begins at its start state, reads the first character in the string, transitions to one of its states according to the character and its transition function, and then repeats. This process continues until the finite automaton has read every character in the string. If at this point the finite automaton is in a final state, the string is accepted. If not, the string is rejected. We say a string that is accepted by a finite automaton is *recognized* by that finite automaton.\n",
    "\n",
    "---\n",
    "\n",
    "**Definition**\n",
    "\n",
    "For a finite automaton with an input alphabet $\\Sigma$, the set of strings over $\\Sigma$ that are recognized by that finite automaton is the language defined by that finite automaton.\n",
    "\n",
    "---"
   ]
  },
  {
   "cell_type": "markdown",
   "metadata": {
    "id": "pVpuWFoTpu_Q"
   },
   "source": [
    "**Example 1** - Build a finite automaton with input alphabet $\\Sigma = \\{0,1\\}$ that accepts any bitstring (a string of $0$s and $1$s) that ends in a $1$."
   ]
  },
  {
   "cell_type": "markdown",
   "metadata": {
    "id": "BI-c-5CDp_Sg"
   },
   "source": [
    "**Example 1 Solution** - The language defined by the finite automaton below is the requested language."
   ]
  },
  {
   "cell_type": "code",
   "execution_count": null,
   "metadata": {
    "id": "u-XeDH_5plRy"
   },
   "outputs": [],
   "source": [
    "lastone = FA(\n",
    "    states={'q0', 'q1'},\n",
    "    alphabet={'0', '1'},\n",
    "    transition_function={\n",
    "        ('q0', '0'): 'q0',\n",
    "        ('q0', '1'): 'q1',\n",
    "        ('q1', '0'): 'q0',\n",
    "        ('q1', '1'): 'q1',\n",
    "    },\n",
    "    start_state='q0',\n",
    "    accept_states={'q1'}\n",
    ")\n",
    "\n",
    "lastone.show()"
   ]
  },
  {
   "cell_type": "markdown",
   "metadata": {
    "id": "pcwukgJ1SftC"
   },
   "source": [
    "**Example 2**: Build an FA that accepts only those words that begin or end with a double letter."
   ]
  },
  {
   "cell_type": "markdown",
   "metadata": {
    "id": "aIfZXt44TLYt"
   },
   "source": [
    "**Example 2 Solution** -"
   ]
  },
  {
   "cell_type": "code",
   "execution_count": null,
   "metadata": {
    "id": "lXSURc4JqtAP"
   },
   "outputs": [],
   "source": [
    "doubleletter = FA(\n",
    "    states={'q0', 'q1', 'q2', 'q3', 'q4', 'q5', 'q6', 'q7', 'q8'},\n",
    "    alphabet={'a', 'b'},\n",
    "    transition_function={\n",
    "        ('q0', 'a'): 'q3',\n",
    "        ('q0', 'b'): 'q1',\n",
    "        ('q1', 'a'): 'q5',\n",
    "        ('q1', 'b'): 'q2',\n",
    "        ('q2', 'a'): 'q2',\n",
    "        ('q2', 'b'): 'q2',\n",
    "        ('q3', 'a'): 'q4',\n",
    "        ('q3', 'b'): 'q6',\n",
    "        ('q4', 'a'): 'q4',\n",
    "        ('q4', 'b'): 'q4',\n",
    "        ('q5', 'a'): 'q7',\n",
    "        ('q5', 'b'): 'q6',\n",
    "        ('q6', 'a'): 'q5',\n",
    "        ('q6', 'b'): 'q8',\n",
    "        ('q7', 'a'): 'q7',\n",
    "        ('q7', 'b'): 'q6',\n",
    "        ('q8', 'a'): 'q5',\n",
    "        ('q8', 'b'): 'q8',\n",
    "    },\n",
    "    start_state='q0',\n",
    "    accept_states={'q2', 'q4', 'q7', 'q8'}\n",
    ")\n",
    "\n",
    "doubleletter.show()"
   ]
  },
  {
   "cell_type": "markdown",
   "metadata": {
    "id": "3-f1giZdspXN"
   },
   "source": [
    "## 5. Using Finite Automata In Python"
   ]
  },
  {
   "cell_type": "markdown",
   "metadata": {
    "id": "i_jm8cU1tE3k"
   },
   "source": [
    "In Section 1.3.3 we created some classes for implementing finite automata in Python and for visualizing their state diagram. We may now want to know for a given finite automaton whether it accepts a given string over its input alphabet. Let's build a method for answering this question, and for tracing through the states encountered by the finite automaton as it processes an input string."
   ]
  },
  {
   "cell_type": "code",
   "execution_count": null,
   "metadata": {
    "id": "w92qo2DAtxZ9"
   },
   "outputs": [],
   "source": [
    "# Method for determining whether an input string is accepted by the finite automaton.\n",
    "def accepts(self, input_string):\n",
    "  current_state = self.start_state\n",
    "  for symbol in input_string:\n",
    "    if symbol not in self.alphabet:\n",
    "      raise ValueError(f\"Symbol '{symbol}' not in FA alphabet.\")\n",
    "    current_state = self.transition_function[(current_state, symbol)]\n",
    "  return current_state in self.accept_states\n",
    "\n",
    "FA.accepts = accepts"
   ]
  },
  {
   "cell_type": "code",
   "execution_count": null,
   "metadata": {
    "id": "ggPQjjUtuTQ9"
   },
   "outputs": [],
   "source": [
    "# Method for tracing through the sequence of states of the finite automaton as it processes an input string.\n",
    "def trace(self, input_string):\n",
    "  trace = [self.start_state]\n",
    "  current_state = self.start_state\n",
    "  for symbol in input_string:\n",
    "    if (current_state, symbol) not in self.transition_function:\n",
    "      trace.append(None)\n",
    "      break\n",
    "    current_state = self.transition_function[(current_state, symbol)]\n",
    "    trace.append(current_state)\n",
    "  return trace\n",
    "\n",
    "FA.trace = trace"
   ]
  },
  {
   "cell_type": "markdown",
   "metadata": {
    "id": "sce9vKmwu2dP"
   },
   "source": [
    "We can try these methods out on the finite *doubleletter* finite automaton we created above."
   ]
  },
  {
   "cell_type": "code",
   "execution_count": null,
   "metadata": {
    "id": "ax0o5CKuvACU"
   },
   "outputs": [],
   "source": [
    "doubleletter.accepts('abbabaab')"
   ]
  },
  {
   "cell_type": "code",
   "execution_count": null,
   "metadata": {
    "id": "yFp0uv3zvIL7"
   },
   "outputs": [],
   "source": [
    "doubleletter.accepts('abbabaabb')"
   ]
  },
  {
   "cell_type": "code",
   "execution_count": null,
   "metadata": {
    "id": "ySbD-7WSvMC3"
   },
   "outputs": [],
   "source": [
    "doubleletter.accepts('aabbabaab')"
   ]
  },
  {
   "cell_type": "markdown",
   "metadata": {
    "id": "WINX_SkWvOay"
   },
   "source": [
    "The first string neither begins nor ends with a double letter, and so is not accepted. The second string ends with a double letter, and so is accepted. The third string begins with a double letter, and so is accepted."
   ]
  },
  {
   "cell_type": "markdown",
   "metadata": {
    "id": "rFT4ntk6vYJS"
   },
   "source": [
    "If we wanted to trace out the sequence of states of the *doubleletter* finite automaton as it reads the string \"abbabaab\" we can use the *trace* method."
   ]
  },
  {
   "cell_type": "code",
   "execution_count": null,
   "metadata": {
    "id": "k55Jfh2mvira"
   },
   "outputs": [],
   "source": [
    "doubleletter.trace('abbabaab')"
   ]
  },
  {
   "cell_type": "markdown",
   "metadata": {
    "id": "Y9H3SyE8v20p"
   },
   "source": [
    "**Example 3** - What is the sequence of states visited by the *doubleletter* finite automaton for the input string \"abbabbaab\"?"
   ]
  },
  {
   "cell_type": "markdown",
   "metadata": {
    "id": "ZmvQ-bltwB4b"
   },
   "source": [
    "**Example 3 Solution** -"
   ]
  },
  {
   "cell_type": "code",
   "execution_count": null,
   "metadata": {
    "id": "gH6_ZIPNwI0R"
   },
   "outputs": [],
   "source": [
    "doubleletter.trace('abbabbaab')"
   ]
  },
  {
   "cell_type": "markdown",
   "metadata": {
    "id": "5KYDVvlzvs58"
   },
   "source": [
    "It's last state, 'q6', is not an accepting state, and so the string would not be accepted.\n",
    "\n"
   ]
  },
  {
   "cell_type": "code",
   "execution_count": null,
   "metadata": {
    "id": "yOSeSL0LwOp8"
   },
   "outputs": [],
   "source": [
    "doubleletter.accepts('abbabbaab')"
   ]
  },
  {
   "cell_type": "markdown",
   "metadata": {
    "id": "tUpNbj9hwVHJ"
   },
   "source": [
    "**NOTE** - The way we've designed the finite automaton class, by first specifying the class and its constructor, and then adding methods in later cells, is not best practice. We'd usually want to build all the methods we need into the initial class definition. We chose to introduce the methods one at a time for teaching purposes, but an implementation of the FA class with all the methods included in its initial definition can be found in the appendix at the end of this notebook (Section 1.3.8)."
   ]
  },
  {
   "cell_type": "markdown",
   "metadata": {
    "id": "hoaUsgGHT4FV"
   },
   "source": [
    "## 6. Practice Exercises"
   ]
  },
  {
   "cell_type": "markdown",
   "metadata": {
    "id": "R9YeuqEQqb0y"
   },
   "source": [
    "**NOTE** - For the following exercises the input alphabet is always $\\Sigma = \\{a,b\\}$. For each of these you should create the state diagram and / or transition table on your own, then create the corresponding finite automaton as an FA object in Python, then verify the given word is accepted by the FA object."
   ]
  },
  {
   "cell_type": "markdown",
   "metadata": {
    "id": "B8jQZJkFUDkj"
   },
   "source": [
    "**Exercise 1**: Create a state diagram *and* a transition table for an FA that accepts only the words $baa$, $ab$, and $abb$ and no other words.\n",
    "\n",
    "*Word* - \"abb\"."
   ]
  },
  {
   "cell_type": "markdown",
   "metadata": {
    "id": "5vZxOUp5UOyl"
   },
   "source": [
    "**Exercise 2**: Create a state diagram for an FA that accepts only those words that have more than four letters.\n",
    "\n",
    "*Word* - \"abbaba\"."
   ]
  },
  {
   "cell_type": "markdown",
   "metadata": {
    "id": "IqnEg8i1UVwH"
   },
   "source": [
    "**Exercise 3:** Create a state diagram for an FA that accepts only those words that have fewer than four letters.\n",
    "\n",
    "*Word* - \"bab\"."
   ]
  },
  {
   "cell_type": "markdown",
   "metadata": {
    "id": "998o6myhUfUo"
   },
   "source": [
    "**Exercise 4:** Create a state diagram for an FA that accepts only those words with *exactly* four letters.\n",
    "\n",
    "*Word* - \"abba\"."
   ]
  },
  {
   "cell_type": "markdown",
   "metadata": {
    "id": "kLyhJCP0V_oE"
   },
   "source": [
    "## 7. Further Reading"
   ]
  },
  {
   "cell_type": "markdown",
   "metadata": {
    "id": "7sTGNrp9WBAY"
   },
   "source": [
    "* [Introduction to Computer Theory](https://www.amazon.com/Introduction-Computer-Theory-Daniel-Cohen/dp/0471137723) (Second Edition) by Daniel I.A. Cohen\n",
    "\n",
    "  *Chapter 5 - Finite Automata*\n",
    "\n",
    "* [Automata Theory, Languages, and Computation](https://www.amazon.com/Introduction-Automata-Theory-Languages-Computation/dp/0321462254) (Third Edition) by Hopcroft, Motwani, and Ullman\n",
    "\n",
    "  *Chapter 2 - Finite Automata*\n",
    "\n",
    "* [Introduction to the Theory of Computation](https://www.cengage.com/c/introduction-to-the-theory-of-computation-3e-sipser/9781133187790/) (Third Edition) by Michael Sipser\n",
    "  \n",
    "  *Section 1.1 - Finite Automata*\n",
    "\n",
    "* More on [graphviz](https://graphviz.org/)"
   ]
  },
  {
   "cell_type": "markdown",
   "metadata": {
    "id": "-9viBSGNxAA5"
   },
   "source": [
    "## 8. Appendix: The FA Class with All Methods"
   ]
  },
  {
   "cell_type": "markdown",
   "metadata": {
    "id": "emM5zsZKypMQ"
   },
   "source": [
    "To use and run, remove the comments."
   ]
  },
  {
   "cell_type": "code",
   "execution_count": null,
   "metadata": {
    "id": "xlqryf4TxKGC"
   },
   "outputs": [],
   "source": [
    "'''\n",
    "class FA:\n",
    "    def __init__(self, states, alphabet, transition_function, start_state, accept_states):\n",
    "        self.states = set(states)\n",
    "        self.alphabet = set(alphabet)\n",
    "        self.transition_function = transition_function\n",
    "        self.start_state = start_state\n",
    "        self.accept_states = set(accept_states)\n",
    "\n",
    "        self._validate()\n",
    "\n",
    "    def _validate(self):\n",
    "        if self.start_state not in self.states:\n",
    "            raise ValueError(\"Start state must be in states.\")\n",
    "        if not self.accept_states.issubset(self.states):\n",
    "            raise ValueError(\"Accept states must be a subset of states.\")\n",
    "\n",
    "        # Ensure total transition function\n",
    "        for state in self.states:\n",
    "            for symbol in self.alphabet:\n",
    "                if (state, symbol) not in self.transition_function:\n",
    "                    raise ValueError(f\"Missing transition for state '{state}' on symbol '{symbol}'.\")\n",
    "\n",
    "        # Ensure all transitions are to valid states and symbols\n",
    "        for (state, symbol), next_state in self.transition_function.items():\n",
    "            if state not in self.states or next_state not in self.states:\n",
    "                raise ValueError(f\"Invalid transition: ({state}, {symbol}) → {next_state}\")\n",
    "            if symbol not in self.alphabet:\n",
    "                raise ValueError(f\"Symbol '{symbol}' not in alphabet.\")\n",
    "\n",
    "    def accepts(self, input_string):\n",
    "        current_state = self.start_state\n",
    "        for symbol in input_string:\n",
    "            if symbol not in self.alphabet:\n",
    "                raise ValueError(f\"Symbol '{symbol}' not in DFA alphabet.\")\n",
    "            current_state = self.transition_function[(current_state, symbol)]\n",
    "        return current_state in self.accept_states\n",
    "\n",
    "    def trace(self, input_string):\n",
    "        trace = [self.start_state]\n",
    "        current_state = self.start_state\n",
    "        for symbol in input_string:\n",
    "            if (current_state, symbol) not in self.transition_function:\n",
    "                trace.append(None)\n",
    "                break\n",
    "            current_state = self.transition_function[(current_state, symbol)]\n",
    "            trace.append(current_state)\n",
    "        return trace\n",
    "\n",
    "    def show(self):\n",
    "        \"\"\"Display DFA inline in a Jupyter notebook.\"\"\"\n",
    "        dot = self._build_graph()\n",
    "        display(Source(dot.source))\n",
    "\n",
    "    def _build_graph(self):\n",
    "        dot = Digraph()\n",
    "        dot.attr(rankdir='LR')\n",
    "        dot.node('', shape='none')\n",
    "        dot.edge('', self.start_state)\n",
    "\n",
    "        for state in self.states:\n",
    "            shape = 'doublecircle' if state in self.accept_states else 'circle'\n",
    "            dot.node(state, shape=shape)\n",
    "\n",
    "        for (src, symbol), dst in self.transition_function.items():\n",
    "            dot.edge(src, dst, label=symbol)\n",
    "\n",
    "        return dot\n",
    "''';"
   ]
  }
 ],
 "metadata": {
  "colab": {
   "provenance": []
  },
  "kernelspec": {
   "display_name": "Python 3 (ipykernel)",
   "language": "python",
   "name": "python3"
  },
  "language_info": {
   "codemirror_mode": {
    "name": "ipython",
    "version": 3
   },
   "file_extension": ".py",
   "mimetype": "text/x-python",
   "name": "python",
   "nbconvert_exporter": "python",
   "pygments_lexer": "ipython3",
   "version": "3.13.7"
  }
 },
 "nbformat": 4,
 "nbformat_minor": 4
}
